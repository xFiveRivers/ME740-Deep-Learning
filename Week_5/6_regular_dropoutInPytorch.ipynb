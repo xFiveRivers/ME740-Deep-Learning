{
 "cells": [
  {
   "cell_type": "markdown",
   "metadata": {
    "id": "bhWV8oes-wKR"
   },
   "source": [
    "# COURSE: A deep understanding of deep learning\n",
    "## SECTION: Regularization\n",
    "### LECTURE: Dropout regularization in practice\n",
    "#### TEACHER: Mike X Cohen, sincxpress.com\n",
    "##### COURSE URL: udemy.com/course/deeplearning_x/?couponCode=202305"
   ]
  },
  {
   "cell_type": "code",
   "execution_count": null,
   "metadata": {
    "id": "YeuAheYyhdZw"
   },
   "outputs": [],
   "source": [
    "# import libraries\n",
    "import torch\n",
    "import torch.nn as nn\n",
    "import torch.nn.functional as F"
   ]
  },
  {
   "cell_type": "markdown",
   "metadata": {
    "id": "OAw7w-Is8quO"
   },
   "source": [
    "# Using dropout"
   ]
  },
  {
   "cell_type": "code",
   "execution_count": null,
   "metadata": {
    "id": "PakwZXu08s6B"
   },
   "outputs": [],
   "source": [
    "# Define Dropout Instance:\n",
    "# First, a dropout instance is created with a specified dropout probability 'prob'.\n",
    "# In this case, 'prob' is set to 0.5, indicating a 50% probability of dropping each element.\n",
    "\n",
    "prob = .5\n",
    "dropout = nn.Dropout(p=prob)\n",
    "\n",
    "# Create Data:\n",
    "# We create a tensor 'x' with ten ones (torch.ones(10)).\n",
    "\n",
    "x = torch.ones(10)\n",
    "\n",
    "# Apply Dropout:\n",
    "# We apply dropout to the data tensor 'x' using the dropout instance 'dropout'.\n",
    "# The result is stored in tensor 'y'.\n",
    "\n",
    "y = dropout(x)\n",
    "\n",
    "# Print Results:\n",
    "# The code prints the original tensor 'x', the dropout-applied tensor 'y'\n",
    "# (scaled by (1 - prob)), and the mean value of 'y'.\n",
    "\n",
    "print(x)\n",
    "print(y * (1 - prob))\n",
    "print(torch.mean(y))\n"
   ]
  },
  {
   "cell_type": "code",
   "execution_count": null,
   "metadata": {
    "id": "hnsHnDFjVQ6i"
   },
   "outputs": [],
   "source": [
    "# Turn Off Dropout for Evaluation:\n",
    "# First, the code sets the dropout instance 'dropout' to evaluation mode using the 'eval()' method.\n",
    "# When dropout is in evaluation mode, it does not apply dropout and keeps all input elements.\n",
    "\n",
    "dropout.eval()\n",
    "\n",
    "# Apply Dropout:\n",
    "# Next, dropout is applied to the data tensor 'x' even though it's in evaluation mode.\n",
    "# This step is done to demonstrate that when dropout is in evaluation mode, it has no effect on the input.\n",
    "\n",
    "y = dropout(x)\n",
    "\n",
    "# Print Results:\n",
    "# The code prints the tensor 'y' after dropout (which should be the same as the original 'x' since dropout is off),\n",
    "# and it also prints the mean value of 'y' to show that all elements are preserved.\n",
    "\n",
    "print(y)\n",
    "print(torch.mean(y))\n"
   ]
  },
  {
   "cell_type": "code",
   "execution_count": null,
   "metadata": {
    "id": "5bY95mSjVYvA"
   },
   "outputs": [],
   "source": [
    "# Turn Off Dropout for Evaluation:\n",
    "# You correctly set the dropout instance 'dropout' to evaluation mode.\n",
    "\n",
    "dropout.eval()\n",
    "\n",
    "# Apply Dropout with F.dropout():\n",
    "# However, you are using the 'F.dropout()' function from the 'functional' module,\n",
    "# which operates independently of the state of the dropout instance.\n",
    "# This means that 'F.dropout()' will still apply dropout even if the dropout instance is in evaluation mode.\n",
    "\n",
    "y = F.dropout(x)\n",
    "\n",
    "# Print Results:\n",
    "# You print the tensor 'y' after applying 'F.dropout()' and calculate its mean.\n",
    "\n",
    "print(y)\n",
    "print(torch.mean(y))\n"
   ]
  },
  {
   "cell_type": "code",
   "execution_count": null,
   "metadata": {
    "id": "Aa-GvWSLXcH8"
   },
   "outputs": [],
   "source": [
    "# Manually Deactivating Dropout for Evaluation:\n",
    "# You have set dropout to evaluation mode earlier, which means dropout should be turned off during evaluation.\n",
    "\n",
    "# Apply 'F.dropout()' with 'training=False':\n",
    "# Now, you use the 'F.dropout()' function again, but this time you explicitly set 'training=False'.\n",
    "# This manual setting ensures that dropout is deactivated even if the dropout instance is in evaluation mode.\n",
    "\n",
    "y = F.dropout(x, training=False)\n",
    "\n",
    "# Print Results:\n",
    "# You print the tensor 'y' after applying 'F.dropout(training=False)' and calculate its mean.\n",
    "\n",
    "print(y)\n",
    "print(torch.mean(y))\n"
   ]
  },
  {
   "cell_type": "code",
   "execution_count": null,
   "metadata": {
    "id": "J_BFJYeTU_ak"
   },
   "outputs": [],
   "source": [
    "# the model needs to be reset after toggling into eval mode\n",
    "\n",
    "# Switch dropout to training mode\n",
    "dropout.train()\n",
    "# Apply dropout to the input tensor x\n",
    "y = dropout(x)\n",
    "# Print the tensor with dropout applied (during training)\n",
    "print(y) # with dropout\n",
    "\n",
    "# Switch dropout to evaluation mode\n",
    "dropout.eval()\n",
    "# Apply dropout to the input tensor x\n",
    "y = dropout(x)\n",
    "# Print the tensor without dropout applied (during evaluation)\n",
    "print(y) # without dropout\n",
    "\n",
    "# Dropout mode remains in evaluation mode unless explicitly switched back\n",
    "# dropout.train()\n",
    "# Apply dropout to the input tensor x\n",
    "y = dropout(x)\n",
    "# Print the tensor without dropout applied (still in evaluation mode)\n",
    "print(y) # still w/o dropout ;)\n"
   ]
  },
  {
   "cell_type": "code",
   "execution_count": null,
   "metadata": {
    "id": "eVXa_1zZkvbm"
   },
   "outputs": [],
   "source": []
  }
 ],
 "metadata": {
  "colab": {
   "authorship_tag": "ABX9TyOLdTgViM3bQDslDQDqBhQV",
   "collapsed_sections": [],
   "name": "DUDL_regular_dropoutInPytorch.ipynb",
   "provenance": [
    {
     "file_id": "17KCLWj5_rIPAJqSQ1dJFAkSrJ7ctDwne",
     "timestamp": 1616945891013
    },
    {
     "file_id": "1bv1_y32e3KEExFKKlPfC3rpw1JxmBr8H",
     "timestamp": 1616941708388
    },
    {
     "file_id": "1GMq8u7KyHB2AE7Teyls9gK1T01OduQSn",
     "timestamp": 1616697516760
    },
    {
     "file_id": "1Ui3kyHim-e0XLgDs2mkBxVlYg7TKYtcg",
     "timestamp": 1616615469755
    },
    {
     "file_id": "1YpHocGI4rApOxIBb1ZghCU5L-hFnv4CK",
     "timestamp": 1616608248670
    }
   ]
  },
  "kernelspec": {
   "display_name": "Python 3 (ipykernel)",
   "language": "python",
   "name": "python3"
  },
  "language_info": {
   "codemirror_mode": {
    "name": "ipython",
    "version": 3
   },
   "file_extension": ".py",
   "mimetype": "text/x-python",
   "name": "python",
   "nbconvert_exporter": "python",
   "pygments_lexer": "ipython3",
   "version": "3.10.9"
  }
 },
 "nbformat": 4,
 "nbformat_minor": 1
}
