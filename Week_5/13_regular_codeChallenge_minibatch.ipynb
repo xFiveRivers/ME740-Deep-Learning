{
 "cells": [
  {
   "cell_type": "markdown",
   "metadata": {
    "id": "bhWV8oes-wKR"
   },
   "source": [
    "# COURSE: A deep understanding of deep learning\n",
    "## SECTION: Regularization\n",
    "### LECTURE: CodeChallenge: Effects of mini-batch size\n",
    "#### TEACHER: Mike X Cohen, sincxpress.com\n",
    "##### COURSE URL: udemy.com/course/deeplearning_x/?couponCode=202305"
   ]
  },
  {
   "cell_type": "code",
   "execution_count": null,
   "metadata": {
    "id": "YeuAheYyhdZw"
   },
   "outputs": [],
   "source": [
    "# import libraries\n",
    "import torch\n",
    "import torch.nn as nn\n",
    "import numpy as np\n",
    "import matplotlib.pyplot as plt\n",
    "from IPython import display\n",
    "display.set_matplotlib_formats('svg')\n",
    "\n",
    "# libraries for partitioning and batching the data\n",
    "from sklearn.model_selection import train_test_split\n",
    "from torch.utils.data import DataLoader,TensorDataset"
   ]
  },
  {
   "cell_type": "markdown",
   "metadata": {
    "id": "7pOO7QKrP7K7"
   },
   "source": [
    "# Things related to data"
   ]
  },
  {
   "cell_type": "code",
   "execution_count": null,
   "metadata": {
    "id": "MU7rvmWuhjud"
   },
   "outputs": [],
   "source": [
    "# import dataset (comes with seaborn)\n",
    "import seaborn as sns\n",
    "iris = sns.load_dataset('iris')"
   ]
  },
  {
   "cell_type": "code",
   "execution_count": null,
   "metadata": {
    "id": "vJPkH6Bfh01_"
   },
   "outputs": [],
   "source": [
    "# organize the data\n",
    "\n",
    "# convert from pandas dataframe to tensor\n",
    "data = torch.tensor( iris[iris.columns[0:4]].values ).float()\n",
    "\n",
    "# transform species to number\n",
    "labels = torch.zeros(len(data), dtype=torch.long)\n",
    "# labels[iris.species=='setosa']   = 0 # don't need!\n",
    "labels[iris.species=='versicolor'] = 1\n",
    "labels[iris.species=='virginica']  = 2"
   ]
  },
  {
   "cell_type": "code",
   "execution_count": null,
   "metadata": {
    "id": "OVrlOHYIAg0r"
   },
   "outputs": [],
   "source": [
    "# Use scikit-learn to split the data into training and testing sets.\n",
    "# The `train_test_split` function splits the data into training (80%) and testing (20%) sets.\n",
    "train_data, test_data, train_labels, test_labels = train_test_split(data, labels, train_size=0.8)\n",
    "\n",
    "# Convert the training and testing data and labels into PyTorch Dataset objects.\n",
    "# A PyTorch Dataset is a container for data and labels, which can be used with DataLoader for batching during training.\n",
    "train_dataDataset = TensorDataset(train_data, train_labels)\n",
    "test_dataDataset = TensorDataset(test_data, test_labels)\n",
    "\n",
    "# You haven't converted these datasets into DataLoader objects yet.\n",
    "# DataLoader is used to iterate through the data in batches during training.\n",
    "# You'll likely convert them into DataLoader objects later in your code.\n"
   ]
  },
  {
   "cell_type": "markdown",
   "metadata": {
    "id": "CfSuT3cNP9Ra"
   },
   "source": [
    "# Things related to the model"
   ]
  },
  {
   "cell_type": "code",
   "execution_count": null,
   "metadata": {
    "id": "v0JMIGb1iV_9"
   },
   "outputs": [],
   "source": [
    "# Define a function to create the ANN model\n",
    "def createANewModel():\n",
    "\n",
    "  # Create a Sequential model, which is a linear stack of layers.\n",
    "  ANNiris = nn.Sequential(\n",
    "      nn.Linear(4,64),   # Input layer with 4 input features and 64 output units\n",
    "      nn.ReLU(),         # ReLU activation function\n",
    "      nn.Linear(64,64),  # Hidden layer with 64 input units and 64 output units\n",
    "      nn.ReLU(),         # ReLU activation function\n",
    "      nn.Linear(64,3),   # Output layer with 64 input units and 3 output units (for classification)\n",
    "      # nn.Softmax(dim=1), # You've commented out the softmax activation; it's often used for classification tasks.\n",
    "        )\n",
    "\n",
    "  # Define the loss function as CrossEntropyLoss, suitable for classification tasks.\n",
    "  lossfun = nn.CrossEntropyLoss()\n",
    "\n",
    "  # Define the optimizer as Stochastic Gradient Descent (SGD) with a learning rate of 0.001.\n",
    "  optimizer = torch.optim.SGD(ANNiris.parameters(), lr=0.001)\n",
    "\n",
    "  # Return the created model, loss function, and optimizer.\n",
    "  return ANNiris, lossfun, optimizer\n"
   ]
  },
  {
   "cell_type": "code",
   "execution_count": null,
   "metadata": {
    "id": "cVD1nFTli7TO"
   },
   "outputs": [],
   "source": [
    "# Define a global parameter 'numepochs' with a value of 500, representing the number of training epochs.\n",
    "numepochs = 500\n",
    "\n",
    "# Define a function 'trainTheModel' to train the neural network.\n",
    "def trainTheModel():\n",
    "\n",
    "  # Initialize lists to store training and test accuracies, as well as losses during training.\n",
    "  trainAcc = []\n",
    "  testAcc  = []\n",
    "  losses   = []\n",
    "\n",
    "  # Loop over epochs (training iterations).\n",
    "  for epochi in range(numepochs):\n",
    "\n",
    "    # Activate training mode for the neural network.\n",
    "    ANNiris.train()\n",
    "\n",
    "    # Initialize lists to store accuracy and loss for each batch during training.\n",
    "    batchAcc  = []\n",
    "    batchLoss = []\n",
    "\n",
    "    # Loop over training data batches.\n",
    "    for X,y in train_loader:\n",
    "\n",
    "      # Perform a forward pass through the neural network.\n",
    "      yHat = ANNiris(X)\n",
    "\n",
    "      # Calculate the loss using the specified loss function.\n",
    "      loss = lossfun(yHat,y)\n",
    "      \n",
    "      # Clear previous gradient calculations.\n",
    "      optimizer.zero_grad()\n",
    "      \n",
    "      # Perform backpropagation to compute gradients.\n",
    "      loss.backward()\n",
    "      \n",
    "      # Update the model's parameters using the optimizer.\n",
    "      optimizer.step()\n",
    "\n",
    "      # Compute training accuracy for this batch and append to 'batchAcc'.\n",
    "      batchAcc.append( 100*torch.mean((torch.argmax(yHat,axis=1) == y).float()).item() )\n",
    "      \n",
    "      # Append the loss value for this batch to 'batchLoss'.\n",
    "      batchLoss.append( loss.item() )\n",
    "    # End of batch loop...\n",
    "\n",
    "    # Calculate the average training accuracy for this epoch and append to 'trainAcc'.\n",
    "    trainAcc.append( np.mean(batchAcc) )\n",
    "\n",
    "    # Append the average loss for this epoch to 'losses'.\n",
    "    losses.append( np.mean(batchLoss) )\n",
    "\n",
    "    # Test accuracy on the validation set.\n",
    "    \n",
    "    # Extract X,y from the test dataloader.\n",
    "    X,y = next(iter(test_loader))\n",
    "\n",
    "    # Activate evaluation mode (no gradient computation) for the neural network.\n",
    "    ANNiris.eval()\n",
    "\n",
    "    # Perform forward pass for the test data.\n",
    "    with torch.no_grad():\n",
    "      predlabels = torch.argmax( ANNiris(X),axis=1 )\n",
    "    \n",
    "    # Compute accuracy on the test data and append to 'testAcc'.\n",
    "    testAcc.append( 100*torch.mean((predlabels == y).float()).item() )\n",
    "  \n",
    "  # Function output: training accuracies, test accuracies, and losses over epochs.\n",
    "  return trainAcc, testAcc, losses\n"
   ]
  },
  {
   "cell_type": "markdown",
   "metadata": {
    "id": "xJe0oX97QAdC"
   },
   "source": [
    "# Run the experiment and visualize the results"
   ]
  },
  {
   "cell_type": "code",
   "execution_count": null,
   "metadata": {
    "id": "CbKQ7j6JMDrS"
   },
   "outputs": [],
   "source": [
    "# Define a range of batch sizes as powers of 2 from 2^1 to 2^6.\n",
    "batchsizes = 2**np.arange(1,7)\n",
    "\n",
    "# Initialize empty matrices to store training and test accuracies for different batch sizes.\n",
    "accuracyResultsTrain = np.zeros((numepochs,len(batchsizes)))\n",
    "accuracyResultsTest  = np.zeros((numepochs,len(batchsizes)))\n",
    "\n",
    "# The test data loader does not vary by training batch size, so it can be created outside the loop.\n",
    "# It uses the same test dataset as before.\n",
    "test_loader = DataLoader(test_dataDataset, batch_size=test_dataDataset.tensors[0].shape[0])\n",
    "\n",
    "# Loop over different batch sizes.\n",
    "for bi in range(len(batchsizes)):\n",
    "\n",
    "  # Create a data loader object for training with the current batch size.\n",
    "  train_loader = DataLoader(train_dataDataset,\n",
    "                            batch_size=int(batchsizes[bi]), shuffle=True, drop_last=True)\n",
    "\n",
    "  # Create a new model, loss function, and optimizer.\n",
    "  ANNiris, lossfun, optimizer = createANewModel()\n",
    "\n",
    "  # Train the model using the current batch size.\n",
    "  trainAcc, testAcc, losses = trainTheModel()\n",
    "\n",
    "  # Store the training and test accuracies for this batch size in the respective matrices.\n",
    "  accuracyResultsTrain[:,bi] = trainAcc\n",
    "  accuracyResultsTest[:,bi]  = testAcc\n"
   ]
  },
  {
   "cell_type": "code",
   "execution_count": null,
   "metadata": {
    "id": "JYouZAY4i3jM"
   },
   "outputs": [],
   "source": [
    "# plot some results\n",
    "fig,ax = plt.subplots(1,2,figsize=(17,7))\n",
    "\n",
    "ax[0].plot(accuracyResultsTrain)\n",
    "ax[0].set_title('Train accuracy')\n",
    "ax[1].plot(accuracyResultsTest)\n",
    "ax[1].set_title('Test accuracy')\n",
    "\n",
    "# common features\n",
    "for i in range(2):\n",
    "  ax[i].legend(batchsizes)\n",
    "  ax[i].set_xlabel('Epoch')\n",
    "  ax[i].set_ylabel('Accuracy (%)')\n",
    "  ax[i].set_ylim([50,101])\n",
    "  ax[i].grid()\n",
    "\n",
    "plt.show()"
   ]
  },
  {
   "cell_type": "code",
   "execution_count": null,
   "metadata": {
    "id": "5BQ99x9GJbJT"
   },
   "outputs": [],
   "source": []
  },
  {
   "cell_type": "markdown",
   "metadata": {
    "id": "tLFDsIMoNQVB"
   },
   "source": [
    "# Additional explorations"
   ]
  },
  {
   "cell_type": "code",
   "execution_count": null,
   "metadata": {
    "id": "55Qrt_2ZNSeR"
   },
   "outputs": [],
   "source": [
    "# 1) Why are the minibatch sizes specified in powers of 2? That's partly because DL is developed by math/computer nerds,\n",
    "#    but it's also partly an attempt to optimize computation speed, because computer memory comes in powers of two.\n",
    "#    But 2**N is not a specific requirement. Adjust the code to use batch sizes corresponding to six linearly spaced \n",
    "#    integers between 2 and 50.\n",
    "# \n",
    "# 2) Why did I ask you to set the learning rate to .001? Try this experiment again using higher and lower learning rates.\n",
    "#    What do you conclude about batch sizes and learning rate?\n",
    "# "
   ]
  }
 ],
 "metadata": {
  "colab": {
   "authorship_tag": "ABX9TyMel4JjaQUX3WbVk9qonNmV",
   "collapsed_sections": [],
   "name": "DUDL_regular_codeChallenge_minibatch.ipynb",
   "provenance": [
    {
     "file_id": "1XvzVGJPTJifVh8OpZVB7ykLxyUqYwQ1j",
     "timestamp": 1617125312505
    },
    {
     "file_id": "1bv1_y32e3KEExFKKlPfC3rpw1JxmBr8H",
     "timestamp": 1617124341706
    },
    {
     "file_id": "1GMq8u7KyHB2AE7Teyls9gK1T01OduQSn",
     "timestamp": 1616697516760
    },
    {
     "file_id": "1Ui3kyHim-e0XLgDs2mkBxVlYg7TKYtcg",
     "timestamp": 1616615469755
    },
    {
     "file_id": "1YpHocGI4rApOxIBb1ZghCU5L-hFnv4CK",
     "timestamp": 1616608248670
    }
   ]
  },
  "kernelspec": {
   "display_name": "Python 3 (ipykernel)",
   "language": "python",
   "name": "python3"
  },
  "language_info": {
   "codemirror_mode": {
    "name": "ipython",
    "version": 3
   },
   "file_extension": ".py",
   "mimetype": "text/x-python",
   "name": "python",
   "nbconvert_exporter": "python",
   "pygments_lexer": "ipython3",
   "version": "3.10.9"
  }
 },
 "nbformat": 4,
 "nbformat_minor": 1
}
