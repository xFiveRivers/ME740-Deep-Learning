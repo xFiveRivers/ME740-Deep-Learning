{
 "cells": [
  {
   "cell_type": "code",
   "execution_count": null,
   "metadata": {
    "id": "YeuAheYyhdZw"
   },
   "outputs": [],
   "source": [
    "# import libraries\n",
    "import torch\n",
    "import torch.nn as nn\n",
    "import numpy as np\n",
    "import matplotlib.pyplot as plt\n",
    "from sklearn.model_selection import train_test_split\n",
    "from torch.utils.data import DataLoader,TensorDataset"
   ]
  },
  {
   "cell_type": "code",
   "execution_count": null,
   "metadata": {
    "id": "MU7rvmWuhjud"
   },
   "outputs": [],
   "source": [
    "# import dataset (comes with seaborn)\n",
    "import seaborn as sns\n",
    "iris = sns.load_dataset('iris')"
   ]
  },
  {
   "cell_type": "code",
   "execution_count": null,
   "metadata": {
    "id": "PRQFDaDfXs-b"
   },
   "outputs": [],
   "source": [
    "# plot the data\n",
    "iris.plot(marker='o',linestyle='none',figsize=(12,6))\n",
    "plt.xlabel('Sample number')\n",
    "plt.ylabel('Value')\n",
    "plt.show()"
   ]
  },
  {
   "cell_type": "code",
   "execution_count": null,
   "metadata": {
    "id": "pRv5pGyVbhXf"
   },
   "outputs": [],
   "source": [
    "####   ------------------------------- < NOTE ABOUT THIS CELL!!! > ---------------------------------------   ####\n",
    "#                                                                                                               #\n",
    "# The code here is intentionally commented out. We're going to use this in the lecture \"The importance of       #\n",
    "# data standardization\" in the next section. If you're not doing that lecture, leave this commented! Thanks!    #\n",
    "#                                                                                                               #\n",
    "####   ------------------------------- </ NOTE ABOUT THIS CELL!!! > --------------------------------------   ####\n",
    "\n",
    "\n",
    "# # z-score the data\n",
    "# import scipy.stats as stats\n",
    "# cols2zscore = iris.keys()\n",
    "# cols2zscore = cols2zscore.drop('species')\n",
    "# iris[cols2zscore] = iris[cols2zscore].apply(stats.zscore)\n",
    "\n",
    "# iris.plot(marker='o',linestyle='none',figsize=(12,6))\n",
    "# plt.xlabel('Sample number')\n",
    "# plt.ylabel('Value')\n",
    "# plt.show()"
   ]
  },
  {
   "cell_type": "code",
   "execution_count": null,
   "metadata": {
    "id": "vJPkH6Bfh01_"
   },
   "outputs": [],
   "source": [
    "# organize the data\n",
    "\n",
    "# convert from pandas dataframe to tensor\n",
    "data = torch.tensor( iris[iris.columns[0:4]].values ).float()\n",
    "\n",
    "# transform species to number\n",
    "labels = torch.zeros(len(data), dtype=torch.long)\n",
    "# labels[iris.species=='setosa']   = 0 # don't need!\n",
    "labels[iris.species=='versicolor'] = 1\n",
    "labels[iris.species=='virginica']  = 2"
   ]
  },
  {
   "cell_type": "markdown",
   "metadata": {
    "id": "S-GvjKA8AesK"
   },
   "source": [
    "# Break the data into batches"
   ]
  },
  {
   "cell_type": "code",
   "execution_count": null,
   "metadata": {
    "id": "OVrlOHYIAg0r"
   },
   "outputs": [],
   "source": [
    "# use scikitlearn to split the data\n",
    "train_data,test_data, train_labels,test_labels = train_test_split(data, labels, test_size=.2)\n",
    "\n",
    "\n",
    "# then convert them into PyTorch Datasets (note: already converted to tensors)\n",
    "train_data = TensorDataset(train_data,train_labels)\n",
    "test_data  = TensorDataset(test_data,test_labels)\n",
    "\n",
    "\n",
    "# finally, translate into dataloader objects\n",
    "batchsize    = 16\n",
    "train_loader = DataLoader(train_data,batch_size=batchsize,shuffle=True,drop_last=True)\n",
    "test_loader  = DataLoader(test_data,batch_size=test_data.tensors[0].shape[0]) # how big should these batches be??"
   ]
  },
  {
   "cell_type": "code",
   "execution_count": null,
   "metadata": {
    "id": "rmKRNFYUceuH"
   },
   "outputs": [],
   "source": [
    "# check sizes of data batches\n",
    "for X,y in train_loader:\n",
    "  print(X.shape,y.shape)\n",
    "\n",
    "# go back and set drop_last=True in training DataLoader"
   ]
  },
  {
   "cell_type": "markdown",
   "metadata": {
    "id": "3hvO8U4hR6A4"
   },
   "source": [
    "# Construct the model and training plans"
   ]
  },
  {
   "cell_type": "code",
   "execution_count": null,
   "metadata": {
    "id": "v0JMIGb1iV_9"
   },
   "outputs": [],
   "source": [
    "# Define a function that creates the architecture of an Artificial Neural Network (ANN) model.\n",
    "def createANewModel():\n",
    "\n",
    "  # Define the model architecture using nn.Sequential.\n",
    "  ANNiris = nn.Sequential(\n",
    "      nn.Linear(4, 64),   # Input layer: 4 input features, 64 output features (neurons)\n",
    "      nn.ReLU(),          # Activation function: ReLU (Rectified Linear Unit)\n",
    "      nn.Linear(64, 64),  # Hidden layer: 64 input features, 64 output features\n",
    "      nn.ReLU(),          # Activation function: ReLU\n",
    "      nn.Linear(64, 3),   # Output layer: 64 input features, 3 output features (for classification)\n",
    "  )\n",
    "\n",
    "  # Define the loss function for classification problems.\n",
    "  lossfun = nn.CrossEntropyLoss()\n",
    "\n",
    "  # Define the optimizer for training the model.\n",
    "  # Here, stochastic gradient descent (SGD) is used with a learning rate of 0.0005.\n",
    "  optimizer = torch.optim.SGD(ANNiris.parameters(), lr=0.0005)\n",
    "\n",
    "  # Return the created ANN model, loss function, and optimizer.\n",
    "  return ANNiris, lossfun, optimizer\n"
   ]
  },
  {
   "cell_type": "code",
   "execution_count": null,
   "metadata": {
    "id": "cVD1nFTli7TO"
   },
   "outputs": [],
   "source": [
    "# Define a function that trains the ANN model.\n",
    "\n",
    "# Set a global parameter for the number of training epochs.\n",
    "numepochs = 2500\n",
    "\n",
    "def trainTheModel():\n",
    "\n",
    "  # Initialize lists to store training accuracies, test accuracies, and losses.\n",
    "  trainAcc = []\n",
    "  testAcc  = []\n",
    "  losses   = []\n",
    "\n",
    "  # Loop over training epochs.\n",
    "  for epochi in range(numepochs):\n",
    "\n",
    "    # Initialize lists to store batch accuracies and batch losses.\n",
    "    batchAcc  = []\n",
    "    batchLoss = []\n",
    "\n",
    "    # Loop over training data batches.\n",
    "    for X, y in train_loader:\n",
    "\n",
    "      # Forward pass: compute predicted labels (yHat) and calculate the loss.\n",
    "      yHat = ANNiris(X)\n",
    "      loss = lossfun(yHat, y)\n",
    "      \n",
    "      # Backpropagation: zero gradients, calculate gradients, and update model weights.\n",
    "      optimizer.zero_grad()\n",
    "      loss.backward()\n",
    "      optimizer.step()\n",
    "\n",
    "      # Compute training accuracy just for this batch.\n",
    "      batchAcc.append(100 * torch.mean((torch.argmax(yHat, axis=1) == y).float()).item())\n",
    "      batchLoss.append(loss.item())\n",
    "\n",
    "    # End of batch loop...\n",
    "\n",
    "    # Calculate the average training accuracy and average loss for this epoch.\n",
    "    trainAcc.append(np.mean(batchAcc))\n",
    "    losses.append(np.mean(batchLoss))\n",
    "\n",
    "    # Test accuracy: Evaluate the model's performance on the test data.\n",
    "    X, y = next(iter(test_loader))  # Extract X and y from the test dataloader.\n",
    "    predlabels = torch.argmax(ANNiris(X), axis=1)\n",
    "    testAcc.append(100 * torch.mean((predlabels == y).float()).item())\n",
    "\n",
    "  # Function output: Lists of training accuracies, test accuracies, and losses over epochs.\n",
    "  return trainAcc, testAcc, losses\n",
    "\n"
   ]
  },
  {
   "cell_type": "markdown",
   "metadata": {
    "id": "VuoE2V3PR--u"
   },
   "source": [
    "# Test it out"
   ]
  },
  {
   "cell_type": "code",
   "execution_count": null,
   "metadata": {
    "id": "vXku7xIdcu7Y"
   },
   "outputs": [],
   "source": [
    "# Create an ANN model, specify the loss function, and optimizer.\n",
    "\n",
    "# Create the ANN model using the createANewModel function.\n",
    "ANNiris, lossfun, optimizer = createANewModel()\n",
    "\n",
    "# Train the model using the trainTheModel function.\n",
    "trainAcc, testAcc, losses = trainTheModel()\n"
   ]
  },
  {
   "cell_type": "code",
   "execution_count": null,
   "metadata": {
    "id": "JYouZAY4i3jM"
   },
   "outputs": [],
   "source": [
    "# Create a figure with two subplots (1 row, 2 columns) for displaying the results.\n",
    "fig, ax = plt.subplots(1, 2, figsize=(15, 5))\n",
    "\n",
    "# Plot the losses over epochs in the first subplot.\n",
    "ax[0].plot(losses, 'k^-')  # 'k^-': Black color with triangles as markers\n",
    "ax[0].set_ylabel('Loss')  # Label for the y-axis\n",
    "ax[0].set_xlabel('Epochs')  # Label for the x-axis\n",
    "ax[0].set_title('Losses with minibatch size=' + str(batchsize))  # Title for the subplot\n",
    "\n",
    "# Plot the training and test accuracies over epochs in the second subplot.\n",
    "ax[1].plot(trainAcc, 'ro-')  # 'ro-': Red color with circles as markers\n",
    "ax[1].plot(testAcc, 'bs-')  # 'bs-': Blue color with squares as markers\n",
    "ax[1].set_title('Accuracy with minibatch size=' + str(batchsize))  # Title for the subplot\n",
    "ax[1].set_xlabel('Epochs')  # Label for the x-axis\n",
    "ax[1].set_ylabel('Accuracy (%)')  # Label for the y-axis\n",
    "ax[1].legend(['Train', 'Test'])  # Legend to differentiate between training and test accuracy\n",
    "ax[1].set_ylim([27, 103])  # Set the y-axis limits for better visualization\n",
    "\n",
    "# Display the plot.\n",
    "plt.show()\n"
   ]
  },
  {
   "cell_type": "code",
   "execution_count": null,
   "metadata": {
    "id": "5BQ99x9GJbJT"
   },
   "outputs": [],
   "source": []
  },
  {
   "cell_type": "markdown",
   "metadata": {
    "id": "nAW3IE0SaKa8"
   },
   "source": [
    "# Additional explorations"
   ]
  },
  {
   "cell_type": "code",
   "execution_count": null,
   "metadata": {
    "id": "q6PUxhCuaN16"
   },
   "outputs": [],
   "source": [
    "# 1) Is there a relationship between the test_size parameter in train_test_split(), the batchsize parameter in DataLoader,\n",
    "#    and the length of test_data? Think of your answer first, then test it in code, by creating new dataloader objects \n",
    "#    with varying test_size parameters.\n",
    "#    Hint: You can use the code 'len(test_data.dataset.tensors[1])', which returns the length of the labels vector.\n",
    "# \n",
    "# 2) Let's say you didn't care about the three types of irises; you only want a model that labels a flower as setosa or \n",
    "#    \"other.\" What would you have to change in the data and in the model to make this work?\n",
    "# \n",
    "# 3) In the course section \"More on data,\" you will learn that unbalanced designs can be problematic for DL models (an\n",
    "#    unbalanced design means that there is an uneven distribution of samples in different categories). Does the \n",
    "#    modification in #2 produce an unbalanced design? To find out, count the number of data labels that are 0 (setosa) or\n",
    "#    1 (not setosa).\n",
    "# "
   ]
  },
  {
   "cell_type": "code",
   "execution_count": null,
   "metadata": {
    "id": "IUnrB3_YchWt"
   },
   "outputs": [],
   "source": []
  }
 ],
 "metadata": {
  "colab": {
   "authorship_tag": "ABX9TyNdHdIxnBBxr8sHl3mGRVPh",
   "collapsed_sections": [],
   "name": "DUDL_regular_minibatch.ipynb",
   "provenance": [
    {
     "file_id": "1bv1_y32e3KEExFKKlPfC3rpw1JxmBr8H",
     "timestamp": 1617124341706
    },
    {
     "file_id": "1GMq8u7KyHB2AE7Teyls9gK1T01OduQSn",
     "timestamp": 1616697516760
    },
    {
     "file_id": "1Ui3kyHim-e0XLgDs2mkBxVlYg7TKYtcg",
     "timestamp": 1616615469755
    },
    {
     "file_id": "1YpHocGI4rApOxIBb1ZghCU5L-hFnv4CK",
     "timestamp": 1616608248670
    }
   ]
  },
  "kernelspec": {
   "display_name": "Python 3 (ipykernel)",
   "language": "python",
   "name": "python3"
  },
  "language_info": {
   "codemirror_mode": {
    "name": "ipython",
    "version": 3
   },
   "file_extension": ".py",
   "mimetype": "text/x-python",
   "name": "python",
   "nbconvert_exporter": "python",
   "pygments_lexer": "ipython3",
   "version": "3.10.9"
  }
 },
 "nbformat": 4,
 "nbformat_minor": 1
}
