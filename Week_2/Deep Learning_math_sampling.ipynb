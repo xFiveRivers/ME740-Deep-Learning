{
 "cells": [
  {
   "cell_type": "code",
   "execution_count": null,
   "metadata": {
    "id": "wYjuZD1kPb3g"
   },
   "outputs": [],
   "source": [
    "# import libraries\n",
    "import numpy as np\n",
    "import matplotlib.pyplot as plt"
   ]
  },
  {
   "cell_type": "code",
   "execution_count": null,
   "metadata": {
    "id": "tJ_A2ykHS5RY"
   },
   "outputs": [],
   "source": [
    "# create a list of numbers to compute the mean and variance of\n",
    "x = [1,2,4,6,5,4,0,-4,5,-2,6,10,-9,1,3,-6]\n",
    "n = len(x)\n",
    "\n",
    "# compute the population mean\n",
    "popmean = np.mean(x)\n",
    "\n",
    "# compute a sample mean\n",
    "sample = np.random.choice(x,size=5,replace=True)\n",
    "sampmean = np.mean(sample)\n",
    "\n",
    "# print them\n",
    "print(popmean)\n",
    "print(sampmean)"
   ]
  },
  {
   "cell_type": "code",
   "execution_count": null,
   "metadata": {
    "id": "QZaS568IThAr"
   },
   "outputs": [],
   "source": [
    "# compute lots of sample means\n",
    "\n",
    "# number of experiments to run\n",
    "nExpers = 10000\n",
    "\n",
    "# run the experiment!\n",
    "sampleMeans = np.zeros(nExpers)\n",
    "for i in range(nExpers):\n",
    "\n",
    "  # step 1: draw a sample\n",
    "  sample = np.random.choice(x,size=15,replace=True)\n",
    "\n",
    "  # step 2: compute its mean\n",
    "  sampleMeans[i] = np.mean(sample)\n",
    "\n",
    "\n",
    "\n",
    "# show the results as a histogram\n",
    "plt.hist(sampleMeans,bins=40,density=True)\n",
    "plt.plot([popmean,popmean],[0,.3],'m--')\n",
    "plt.ylabel('Count')\n",
    "plt.xlabel('Sample mean')\n",
    "plt.show()"
   ]
  }
 ],
 "metadata": {
  "colab": {
   "authorship_tag": "ABX9TyOL7D04HBwew8NW+70XIQbD",
   "collapsed_sections": [],
   "name": "DUDL_math_sampling.ipynb",
   "provenance": [
    {
     "file_id": "196i6MReeJLozrRYpZsltVy8BC6X1b9ik",
     "timestamp": 1617003240706
    },
    {
     "file_id": "1KX8lBi9Oey9iD2Aac8X6d-j3dMlyTodJ",
     "timestamp": 1617002781341
    }
   ]
  },
  "kernelspec": {
   "display_name": "Python 3 (ipykernel)",
   "language": "python",
   "name": "python3"
  },
  "language_info": {
   "codemirror_mode": {
    "name": "ipython",
    "version": 3
   },
   "file_extension": ".py",
   "mimetype": "text/x-python",
   "name": "python",
   "nbconvert_exporter": "python",
   "pygments_lexer": "ipython3",
   "version": "3.10.9"
  }
 },
 "nbformat": 4,
 "nbformat_minor": 1
}
