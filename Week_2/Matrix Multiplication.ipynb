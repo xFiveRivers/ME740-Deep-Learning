{
 "cells": [
  {
   "cell_type": "markdown",
   "id": "371810de",
   "metadata": {},
   "source": [
    "# Matrix Multiplication and Its Applications in Deep Learning\n",
    "\n",
    "Matrix multiplication, also known as matrix product, plays a fundamental role in many mathematical and computational applications, especially in the field of deep learning and neural networks. In deep learning, matrices and matrix multiplication are used extensively for tasks such as linear transformations, feature extraction, and neural network training. Let's explore matrix multiplication and its applications.\n",
    "\n",
    "## Matrix Multiplication Overview\n",
    "\n",
    "Matrix multiplication is an operation that takes two matrices and produces a third matrix, known as the result or product matrix. It's defined as follows:\n",
    "\n",
    "Given two matrices:\n",
    "- Matrix A with dimensions (m x n)\n",
    "- Matrix B with dimensions (n x p)\n",
    "\n",
    "The result matrix C has dimensions (m x p), and its elements are computed as follows:\n",
    "\n"
   ]
  },
  {
   "cell_type": "markdown",
   "id": "9a809d8b",
   "metadata": {},
   "source": [
    "\n",
    "## Applications in Deep Learning\n",
    "\n",
    "Matrix multiplication is crucial in deep learning for the following reasons:\n",
    "\n",
    "1. **Linear Transformations**: In neural networks, weights and biases are represented as matrices. Matrix multiplication is used to apply linear transformations to input data, which allows neural networks to learn complex relationships between features.\n",
    "\n",
    "2. **Layer Operations**: Each layer in a neural network performs matrix multiplication with its inputs. This process, combined with activation functions, forms the core of neural network operations.\n",
    "\n",
    "3. **Convolutional Layers**: In convolutional neural networks (CNNs), convolution operations are implemented as a form of matrix multiplication with convolutional kernels.\n",
    "\n",
    "4. **Matrix Factorization**: Techniques like singular value decomposition (SVD) and matrix factorization are used in recommendation systems and dimensionality reduction.\n",
    "\n",
    "5. **Backpropagation**: During training, gradient descent algorithms require computing gradients using matrix operations, making matrix multiplication a vital component of optimization.\n",
    "\n",
    "## Examples of Matrix Multiplication in Python (NumPy)\n",
    "\n",
    "Let's explore some examples of matrix multiplication in Python using the NumPy library:\n",
    "\n",
    "\n",
    "\n",
    "```python\n"
   ]
  },
  {
   "cell_type": "code",
   "execution_count": 3,
   "id": "76c01feb",
   "metadata": {},
   "outputs": [
    {
     "name": "stdout",
     "output_type": "stream",
     "text": [
      "Enter the first vector (comma-separated values): 3,4,5\n",
      "Enter the second vector (comma-separated values): 2,3\n"
     ]
    },
    {
     "ename": "IndexError",
     "evalue": "index 2 is out of bounds for axis 0 with size 2",
     "output_type": "error",
     "traceback": [
      "\u001b[1;31m---------------------------------------------------------------------------\u001b[0m",
      "\u001b[1;31mIndexError\u001b[0m                                Traceback (most recent call last)",
      "Cell \u001b[1;32mIn[3], line 16\u001b[0m\n\u001b[0;32m     14\u001b[0m dot_product \u001b[38;5;241m=\u001b[39m \u001b[38;5;241m0\u001b[39m\n\u001b[0;32m     15\u001b[0m \u001b[38;5;28;01mfor\u001b[39;00m i \u001b[38;5;129;01min\u001b[39;00m \u001b[38;5;28mrange\u001b[39m(\u001b[38;5;28mlen\u001b[39m(vector_a)):\n\u001b[1;32m---> 16\u001b[0m     step_by_step\u001b[38;5;241m.\u001b[39mappend(\u001b[38;5;124mf\u001b[39m\u001b[38;5;124m\"\u001b[39m\u001b[38;5;132;01m{\u001b[39;00mvector_a[i]\u001b[38;5;132;01m}\u001b[39;00m\u001b[38;5;124m \u001b[39m\u001b[38;5;130;01m\\\\\u001b[39;00m\u001b[38;5;124mcdot \u001b[39m\u001b[38;5;132;01m{\u001b[39;00mvector_b[i]\u001b[38;5;132;01m}\u001b[39;00m\u001b[38;5;124m\"\u001b[39m)\n\u001b[0;32m     17\u001b[0m     dot_product \u001b[38;5;241m+\u001b[39m\u001b[38;5;241m=\u001b[39m vector_a[i] \u001b[38;5;241m*\u001b[39m vector_b[i]\n\u001b[0;32m     19\u001b[0m \u001b[38;5;66;03m# Display the vectors and their multiplication as equations using LaTeX\u001b[39;00m\n",
      "\u001b[1;31mIndexError\u001b[0m: index 2 is out of bounds for axis 0 with size 2"
     ]
    }
   ],
   "source": [
    "from IPython.display import display, Math\n",
    "import numpy as np\n",
    "\n",
    "# Input two vectors as lists\n",
    "vector_a = input(\"Enter the first vector (comma-separated values): \").split(',')\n",
    "vector_b = input(\"Enter the second vector (comma-separated values): \").split(',')\n",
    "\n",
    "# Convert input values to NumPy arrays\n",
    "vector_a = np.array([float(val.strip()) for val in vector_a])\n",
    "vector_b = np.array([float(val.strip()) for val in vector_b])\n",
    "\n",
    "# Calculate the dot product step by step\n",
    "step_by_step = []\n",
    "dot_product = 0\n",
    "for i in range(len(vector_a)):\n",
    "    step_by_step.append(f\"{vector_a[i]} \\\\cdot {vector_b[i]}\")\n",
    "    dot_product += vector_a[i] * vector_b[i]\n",
    "\n",
    "# Display the vectors and their multiplication as equations using LaTeX\n",
    "equation_a = r'$$\\mathbf{A} = [' + ', '.join(map(str, vector_a)) + ']$$'\n",
    "equation_b = r'$$\\mathbf{B} = [' + ', '.join(map(str, vector_b)) + ']$$'\n",
    "equation_step_by_step = r'$$\\mathbf{A} \\cdot \\mathbf{B} = ' + ' + '.join(step_by_step) + r' = ' + str(dot_product) + r'$$'\n",
    "\n",
    "display(Math(equation_a))\n",
    "display(Math(equation_b))\n",
    "display(Math(equation_step_by_step))\n"
   ]
  },
  {
   "cell_type": "markdown",
   "id": "768d1ba5",
   "metadata": {},
   "source": [
    "### Example 1: Basic Matrix Multiplication"
   ]
  },
  {
   "cell_type": "code",
   "execution_count": 5,
   "id": "6f1297ad",
   "metadata": {},
   "outputs": [
    {
     "data": {
      "text/plain": [
       "array([[19, 22],\n",
       "       [43, 50]])"
      ]
     },
     "execution_count": 5,
     "metadata": {},
     "output_type": "execute_result"
    }
   ],
   "source": [
    "import numpy as np\n",
    "\n",
    "# Create two matrices\n",
    "A = np.array([[1, 2], [3, 4]])\n",
    "B = np.array([[5, 6], [7, 8]])\n",
    "\n",
    "# Perform matrix multiplication\n",
    "result1 = np.dot(A, B)\n",
    "result1"
   ]
  },
  {
   "cell_type": "code",
   "execution_count": 6,
   "id": "45ce0380",
   "metadata": {},
   "outputs": [
    {
     "data": {
      "text/plain": [
       "array([[2, 4],\n",
       "       [6, 8]])"
      ]
     },
     "execution_count": 6,
     "metadata": {},
     "output_type": "execute_result"
    }
   ],
   "source": [
    "import numpy as np\n",
    "\n",
    "# Create a matrix and a scalar\n",
    "matrix = np.array([[1, 2], [3, 4]])\n",
    "scalar = 2\n",
    "\n",
    "# Perform matrix-scalar multiplication (broadcasting)\n",
    "result2 = matrix * scalar\n",
    "result2"
   ]
  },
  {
   "cell_type": "code",
   "execution_count": 10,
   "id": "bdf10041",
   "metadata": {},
   "outputs": [],
   "source": [
    "import numpy as np\n",
    "\n",
    "# Create batched matrices\n",
    "batched_matrix1 = np.random.rand(3, 2, 2)  # Batch size: 3, Each matrix: 2x2\n",
    "batched_matrix2 = np.random.rand(3, 2, 2)\n",
    "\n",
    "# Perform batched matrix multiplication\n",
    "result3 = np.matmul(batched_matrix1, batched_matrix2)\n"
   ]
  },
  {
   "cell_type": "code",
   "execution_count": 12,
   "id": "9e3435bc",
   "metadata": {
    "scrolled": true
   },
   "outputs": [
    {
     "data": {
      "text/plain": [
       "(3, 2, 2)"
      ]
     },
     "execution_count": 12,
     "metadata": {},
     "output_type": "execute_result"
    }
   ],
   "source": [
    "result3.shape"
   ]
  },
  {
   "cell_type": "code",
   "execution_count": 9,
   "id": "8e3e98da",
   "metadata": {},
   "outputs": [
    {
     "data": {
      "text/plain": [
       "(3, 2, 2)"
      ]
     },
     "execution_count": 9,
     "metadata": {},
     "output_type": "execute_result"
    }
   ],
   "source": [
    "batched_matrix1.shape"
   ]
  },
  {
   "cell_type": "code",
   "execution_count": null,
   "id": "6d874f7e",
   "metadata": {},
   "outputs": [],
   "source": [
    "import numpy as np\n",
    "\n",
    "# Create a matrix and a vector\n",
    "matrix = np.array([[1, 2], [3, 4]])\n",
    "vector = np.array([2, 3])\n",
    "\n",
    "# Perform matrix-vector multiplication\n",
    "result4 = np.matmul(matrix, vector)\n"
   ]
  },
  {
   "cell_type": "code",
   "execution_count": 13,
   "id": "8513cc17",
   "metadata": {},
   "outputs": [],
   "source": [
    "import numpy as np\n",
    "from scipy.sparse import coo_matrix\n",
    "\n",
    "# Create two sparse matrices\n",
    "sparse_matrix1 = coo_matrix(([1, 2], ([0, 2], [1, 0])), shape=(3, 3))\n",
    "sparse_matrix2 = coo_matrix(([3, 4], ([0, 2], [1, 0])), shape=(3, 3))\n",
    "\n",
    "# Perform sparse matrix multiplication\n",
    "result5 = sparse_matrix1.dot(sparse_matrix2)\n"
   ]
  },
  {
   "cell_type": "code",
   "execution_count": 17,
   "id": "016ca7ed",
   "metadata": {},
   "outputs": [
    {
     "data": {
      "text/plain": [
       "numpy.matrix"
      ]
     },
     "execution_count": 17,
     "metadata": {},
     "output_type": "execute_result"
    }
   ],
   "source": [
    "type(sparse_matrix1.todense())"
   ]
  },
  {
   "cell_type": "code",
   "execution_count": null,
   "id": "fe4c93b0",
   "metadata": {},
   "outputs": [],
   "source": [
    "import numpy as np\n",
    "\n",
    "# Create two matrices\n",
    "A = np.array([[1, 2], [3, 4]])\n",
    "B = np.array([[5, 6], [7, 8]])\n",
    "\n",
    "# Perform matrix multiplication with @ operator\n",
    "result6 = A @ B\n"
   ]
  },
  {
   "cell_type": "code",
   "execution_count": null,
   "id": "3b3984ff",
   "metadata": {},
   "outputs": [],
   "source": [
    "import numpy as np\n",
    "\n",
    "# Create two matrices\n",
    "A = np.array([[1, 2, 3], [4, 5, 6]])  # Dimensions: 2x3\n",
    "B = np.array([[7, 8], [9, 10], [11, 12]])  # Dimensions: 3x2\n",
    "\n",
    "# Perform matrix multiplication\n",
    "result7 = np.dot(A, B)\n"
   ]
  },
  {
   "cell_type": "code",
   "execution_count": null,
   "id": "e6ccaaf5",
   "metadata": {},
   "outputs": [],
   "source": [
    "import numpy as np\n",
    "\n",
    "# Create batched matrices\n",
    "batched_matrix1 = np.random.rand(3, 2, 2)  # Batch size: 3, Each matrix: 2x2\n",
    "batched_matrix2 = np.random.rand(3, 2, 2)\n",
    "\n",
    "# Perform batched matrix multiplication with @ operator\n",
    "result8 = batched_matrix1 @ batched_matrix2\n"
   ]
  },
  {
   "cell_type": "code",
   "execution_count": 2,
   "id": "adadcb6d",
   "metadata": {},
   "outputs": [
    {
     "data": {
      "text/plain": [
       "array([ 8, 18])"
      ]
     },
     "execution_count": 2,
     "metadata": {},
     "output_type": "execute_result"
    }
   ],
   "source": [
    "import numpy as np\n",
    "\n",
    "# Create a matrix and a vector\n",
    "matrix = np.array([[1, 2], [3, 4]])  # Dimensions: 2x2\n",
    "vector = np.array([2, 3])  # Dimensions: 2\n",
    "\n",
    "# Perform matrix-vector multiplication with @ operator\n",
    "result9 = matrix @ vector\n"
   ]
  },
  {
   "cell_type": "code",
   "execution_count": null,
   "id": "51221264",
   "metadata": {},
   "outputs": [],
   "source": []
  },
  {
   "cell_type": "code",
   "execution_count": null,
   "id": "01992088",
   "metadata": {},
   "outputs": [],
   "source": [
    "import torch\n",
    "\n",
    "# Create two matrices\n",
    "A = torch.tensor([[1, 2], [3, 4]])\n",
    "B = torch.tensor([[5, 6], [7, 8]])\n",
    "\n",
    "# Perform matrix multiplication\n",
    "result1 = torch.matmul(A, B)\n"
   ]
  },
  {
   "cell_type": "code",
   "execution_count": null,
   "id": "a76cadba",
   "metadata": {},
   "outputs": [],
   "source": [
    "import torch\n",
    "\n",
    "# Create two matrices\n",
    "A = torch.tensor([[1, 2, 3], [4, 5, 6]])  # Dimensions: 2x3\n",
    "B = torch.tensor([[7, 8], [9, 10], [11, 12]])  # Dimensions: 3x2\n",
    "\n",
    "# Perform matrix multiplication\n",
    "result2 = torch.matmul(A, B)\n"
   ]
  },
  {
   "cell_type": "code",
   "execution_count": null,
   "id": "1440b648",
   "metadata": {},
   "outputs": [],
   "source": [
    "import torch\n",
    "\n",
    "# Create batched matrices\n",
    "batched_matrix1 = torch.randn(3, 2, 2)  # Batch size: 3, Each matrix: 2x2\n",
    "batched_matrix2 = torch.randn(3, 2, 2)\n",
    "\n",
    "# Perform batched matrix multiplication\n",
    "result3 = torch.matmul(batched_matrix1, batched_matrix2)\n"
   ]
  },
  {
   "cell_type": "code",
   "execution_count": 18,
   "id": "4a83f0c5",
   "metadata": {},
   "outputs": [],
   "source": [
    "import torch\n",
    "\n",
    "# Create a matrix and a vector\n",
    "matrix = torch.tensor([[1, 2], [3, 4]])  # Dimensions: 2x2\n",
    "vector = torch.tensor([2, 3])  # Dimensions: 2\n",
    "\n",
    "# Perform matrix-vector multiplication\n",
    "result4 = torch.matmul(matrix, vector)\n"
   ]
  },
  {
   "cell_type": "code",
   "execution_count": 19,
   "id": "63f04c7c",
   "metadata": {},
   "outputs": [
    {
     "data": {
      "text/plain": [
       "tensor([ 8, 18])"
      ]
     },
     "execution_count": 19,
     "metadata": {},
     "output_type": "execute_result"
    }
   ],
   "source": [
    "result4"
   ]
  },
  {
   "cell_type": "code",
   "execution_count": null,
   "id": "6f6b0e58",
   "metadata": {},
   "outputs": [],
   "source": [
    "import torch\n",
    "\n",
    "# Create a matrix and a scalar\n",
    "matrix = torch.tensor([[1, 2], [3, 4]])  # Dimensions: 2x2\n",
    "scalar = 2\n",
    "\n",
    "# Perform matrix-scalar multiplication (broadcasting)\n",
    "result5 = torch.matmul(matrix, scalar)\n"
   ]
  },
  {
   "cell_type": "code",
   "execution_count": 21,
   "id": "aa3e4445",
   "metadata": {},
   "outputs": [],
   "source": [
    "import torch\n",
    "\n",
    "# Create high-dimensional tensors\n",
    "A = torch.randn(2, 3, 4, 5)  # Dimensions: 2x3x4x5\n",
    "B = torch.randn(2, 5, 4, 3)  # Dimensions: 2x5x4x3\n",
    "\n",
    "# Perform high-dimensional matrix multiplication\n",
    "# result6 = torch.matmul(A, B)\n"
   ]
  },
  {
   "cell_type": "code",
   "execution_count": 31,
   "id": "03001558",
   "metadata": {},
   "outputs": [
    {
     "data": {
      "text/plain": [
       "tensor([[[[ 1.3385, -0.0165, -1.3635, -0.0923, -1.4550],\n",
       "          [ 0.6669,  0.0727,  1.7798, -0.0961,  1.1318],\n",
       "          [ 0.4495, -1.1967, -0.1342, -0.0177, -1.5273],\n",
       "          [-0.0337, -0.0809, -1.6889, -1.6471, -1.3760]],\n",
       "\n",
       "         [[ 0.2396, -0.2928,  1.2080,  1.9246, -0.3690],\n",
       "          [ 1.1440, -1.1569,  0.3526,  0.9215, -1.6693],\n",
       "          [-0.7641,  0.4813,  1.1039,  0.8717, -0.5538],\n",
       "          [-0.0970, -0.3829,  0.7943,  0.6465, -0.6360]],\n",
       "\n",
       "         [[-0.6867,  1.1335,  1.0186,  0.0498,  0.8098],\n",
       "          [-0.0796, -0.5695, -0.9594, -0.5342, -0.3943],\n",
       "          [-1.4320,  0.3233, -0.9237, -1.2492,  0.8806],\n",
       "          [ 0.2203,  1.9052,  0.6359, -0.4368,  0.0044]]],\n",
       "\n",
       "\n",
       "        [[[-0.3239, -0.7547,  0.5845, -0.4220, -1.2488],\n",
       "          [ 0.8115,  0.7543,  1.9461,  0.3727,  0.9628],\n",
       "          [ 0.7900, -0.2339,  0.0687,  0.8278, -1.0773],\n",
       "          [ 0.8491, -1.6239, -0.4301, -0.7720,  0.5583]],\n",
       "\n",
       "         [[-0.8237, -1.0298,  0.2170,  1.4983, -1.1180],\n",
       "          [ 1.3119,  1.7647, -2.2446, -0.2047,  0.1236],\n",
       "          [-0.2336,  1.4210,  0.1267,  1.3644,  0.2993],\n",
       "          [ 1.4872,  0.3694,  0.3707, -0.0506,  1.0275]],\n",
       "\n",
       "         [[ 0.5362,  0.6624, -0.3845,  0.3886, -0.2764],\n",
       "          [-0.1865, -0.7187, -0.3070, -1.6796,  0.9078],\n",
       "          [ 1.9674, -1.0360, -1.8716,  0.9874,  1.4875],\n",
       "          [ 0.4532,  0.8273, -1.4337, -1.4471, -0.5257]]]])"
      ]
     },
     "execution_count": 31,
     "metadata": {},
     "output_type": "execute_result"
    }
   ],
   "source": [
    "A"
   ]
  },
  {
   "cell_type": "code",
   "execution_count": 26,
   "id": "c97e411f",
   "metadata": {},
   "outputs": [
    {
     "data": {
      "text/plain": [
       "tensor([-0.2572, -0.4800, -0.3163])"
      ]
     },
     "execution_count": 26,
     "metadata": {},
     "output_type": "execute_result"
    }
   ],
   "source": [
    "B[1][1][1]"
   ]
  },
  {
   "cell_type": "code",
   "execution_count": null,
   "id": "4c60455b",
   "metadata": {},
   "outputs": [],
   "source": [
    "import torch\n",
    "\n",
    "# Create complex tensors\n",
    "real_A = torch.randn(2, 2)\n",
    "imag_A = torch.randn(2, 2)\n",
    "real_B = torch.randn(2, 2)\n",
    "imag_B = torch.randn(2, 2)\n",
    "\n",
    "# Combine real and imaginary parts to form complex tensors\n",
    "A = torch.complex(real_A, imag_A)\n",
    "B = torch.complex(real_B, imag_B)\n",
    "\n",
    "# Perform complex matrix multiplication\n",
    "result7 = torch.matmul(A, B)\n"
   ]
  }
 ],
 "metadata": {
  "kernelspec": {
   "display_name": "Python 3 (ipykernel)",
   "language": "python",
   "name": "python3"
  },
  "language_info": {
   "codemirror_mode": {
    "name": "ipython",
    "version": 3
   },
   "file_extension": ".py",
   "mimetype": "text/x-python",
   "name": "python",
   "nbconvert_exporter": "python",
   "pygments_lexer": "ipython3",
   "version": "3.10.9"
  }
 },
 "nbformat": 4,
 "nbformat_minor": 5
}
