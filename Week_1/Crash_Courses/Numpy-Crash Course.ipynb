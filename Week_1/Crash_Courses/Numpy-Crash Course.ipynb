{
 "cells": [
  {
   "cell_type": "markdown",
   "id": "e3479843",
   "metadata": {},
   "source": [
    "\n",
    "\n",
    "Introduction to NumPy\n",
    "--------------------\n",
    "\n",
    "**NumPy**, short for Numerical Python, is a fundamental library in Python for numerical and scientific computing. It provides support for creating and manipulating arrays (homogeneous, multidimensional data structures) along with a wide range of mathematical functions to operate on these arrays efficiently.\n",
    "\n",
    "Applications of NumPy\n",
    "----------------------\n",
    "\n",
    "NumPy has a wide range of applications:\n",
    "\n",
    "- **Data Analysis**: NumPy is widely used for data manipulation and analysis, especially in data science and machine learning.\n",
    "- **Mathematics**: It offers a vast collection of mathematical functions for linear algebra, Fourier analysis, and more.\n",
    "- **Signal Processing**: NumPy is used for tasks like filtering, spectral analysis, and signal generation.\n",
    "- **Image Processing**: Libraries like OpenCV use NumPy arrays to represent images.\n",
    "- **Simulation and Modeling**: NumPy is essential for simulations and modeling in various scientific fields.\n",
    "\n",
    "Commonly Used NumPy Functions\n",
    "-------------------------------\n",
    "\n",
    "Here are some commonly used functions in NumPy:\n",
    "\n",
    "- **Creation of Arrays**: \n",
    "    - `np.array()`: Create arrays from Python lists or tuples.\n",
    "    - `np.zeros()`: Create arrays filled with zeros.\n",
    "    - `np.ones()`: Create arrays filled with ones.\n",
    "    - `np.arange()`: Create arrays with regularly spaced values.\n",
    "    \n",
    "- **Array Shape and Dimensions**:\n",
    "    - `.shape`: Get the shape (dimensions) of the array.\n",
    "    - `.ndim`: Get the number of dimensions of the array.\n",
    "    \n",
    "- **Mathematical Functions**:\n",
    "    - `np.sum()`: Calculate the sum of array elements.\n",
    "    - `np.mean()`: Compute the mean (average) of array elements.\n",
    "    - `np.max()`: Find the maximum element in the array.\n",
    "    - `np.min()`: Find the minimum element in the array.\n",
    "    - `np.dot()`: Perform dot product between arrays.\n",
    "    - `np.cross()`: Compute the cross product of two arrays.\n",
    "\n",
    "- **Array Manipulation**:\n",
    "    - `.reshape()`: Reshape the array into a different shape.\n",
    "    - `.flatten()`: Flatten a multi-dimensional array.\n",
    "    - `np.concatenate()`: Concatenate arrays along an existing axis.\n",
    "    - `np.vstack()`: Stack arrays vertically (row-wise).\n",
    "    - `np.hstack()`: Stack arrays horizontally (column-wise).\n",
    "\n",
    "- **Random Number Generation**:\n",
    "    - `np.random.rand()`: Generate random numbers from a uniform distribution.\n",
    "    - `np.random.randint()`: Generate random integers within a specified range.\n",
    "    - `np.random.choice()`: Randomly sample from an array.\n",
    "\n",
    "- **File I/O**:\n",
    "    - `np.load()`: Load data from a binary file.\n",
    "    - `np.save()`: Save data to a binary file.\n",
    "    - `np.loadtxt()`: Load data from a text file.\n",
    "    - `np.savetxt()`: Save data to a text file.\n",
    "\n",
    "References for Learning NumPy\n",
    "-------------------------------\n",
    "\n",
    "- [Official NumPy Documentation](https://numpy.org/doc/stable/): Comprehensive documentation with tutorials, examples, and a user guide.\n",
    "    \n",
    "- [NumPy Quickstart Tutorial](https://numpy.org/doc/stable/user/quickstart.html): A quick-start guide to get you started with NumPy.\n",
    "    \n",
    "- [NumPy Tutorial on W3Schools](https://www.w3schools.com/python/numpy_intro.asp): Beginner-friendly tutorial with examples.\n",
    "    \n",
    "- [NumPy Tutorial on DataCamp](https://www.datacamp.com/community/tutorials/python-numpy-tutorial): Interactive tutorial with exercises.\n",
    "    \n",
    "- [NumPy Cheat Sheet](https://s3.amazonaws.com/assets.datacamp.com/blog_assets/Numpy_Python_Cheat_Sheet.pdf): A concise cheat sheet with commonly used NumPy functions.\n",
    "\n",
    "\n",
    "\n"
   ]
  },
  {
   "cell_type": "code",
   "execution_count": null,
   "id": "6a479eb6",
   "metadata": {},
   "outputs": [],
   "source": [
    "import numpy as np\n"
   ]
  },
  {
   "cell_type": "code",
   "execution_count": null,
   "id": "acef735d",
   "metadata": {},
   "outputs": [],
   "source": [
    "import numpy as np\n",
    "arr1 = np.array([1, 2, 3, 4, 5])\n",
    "arr2 = np.array([0.1, 0.2, 0.3, 0.4, 0.5])\n",
    "arr3 = np.array([\"apple\", \"banana\", \"cherry\"])\n",
    "arr4 = np.array([True, False, True, False])\n",
    "\n",
    "#We create a one-dimensional NumPy array using np.array() and then print it. \n",
    "#NumPy arrays are similar to Python lists but more powerful."
   ]
  },
  {
   "cell_type": "code",
   "execution_count": null,
   "id": "c160f7dd",
   "metadata": {},
   "outputs": [],
   "source": [
    "print(arr.shape)  # Prints the shape (length) of the array\n",
    "print(arr.ndim)   # Prints the number of dimensions of the array\n"
   ]
  },
  {
   "cell_type": "code",
   "execution_count": null,
   "id": "66fd2ffb",
   "metadata": {},
   "outputs": [],
   "source": [
    "Reshaping an Array"
   ]
  },
  {
   "cell_type": "code",
   "execution_count": null,
   "id": "ae9ad668",
   "metadata": {},
   "outputs": [],
   "source": [
    "reshaped1 = arr1.reshape(1, -1)\n",
    "reshaped2 = arr2.reshape(-1, 1)\n",
    "reshaped3 = arr3.reshape(2, 2)\n",
    "reshaped4 = arr4.reshape(2, -1)\n",
    "\n"
   ]
  },
  {
   "cell_type": "code",
   "execution_count": null,
   "id": "b2020603",
   "metadata": {},
   "outputs": [],
   "source": [
    "Array Operations"
   ]
  },
  {
   "cell_type": "code",
   "execution_count": null,
   "id": "139cfd25",
   "metadata": {},
   "outputs": [],
   "source": [
    "a = np.array([1, 2, 3])\n",
    "b = np.array([4, 5, 6])\n",
    "result = a + b\n",
    "print(result)\n"
   ]
  },
  {
   "cell_type": "code",
   "execution_count": null,
   "id": "a8b80a1e",
   "metadata": {},
   "outputs": [],
   "source": [
    "Indexing and Slicing"
   ]
  },
  {
   "cell_type": "code",
   "execution_count": null,
   "id": "ce989a59",
   "metadata": {},
   "outputs": [],
   "source": [
    "print(arr[0])      # Access the first element\n",
    "print(arr[1:4])    # Slice elements from index 1 to 3\n"
   ]
  },
  {
   "cell_type": "code",
   "execution_count": null,
   "id": "ae12af24",
   "metadata": {},
   "outputs": [],
   "source": [
    "Array Functions"
   ]
  },
  {
   "cell_type": "code",
   "execution_count": null,
   "id": "07018f72",
   "metadata": {},
   "outputs": [],
   "source": [
    "print(np.sum(arr))     # Sum of all elements in the array\n",
    "print(np.mean(arr))    # Mean (average) of elements in the array\n",
    "print(np.max(arr))     # Maximum element in the array\n",
    "print(np.min(arr))     # Minimum element in the array\n"
   ]
  },
  {
   "cell_type": "code",
   "execution_count": null,
   "id": "5445e89b",
   "metadata": {},
   "outputs": [],
   "source": [
    "Reshaping an Array"
   ]
  },
  {
   "cell_type": "code",
   "execution_count": null,
   "id": "a417ceed",
   "metadata": {},
   "outputs": [],
   "source": [
    "matrix = np.array([[1, 2, 3], [4, 5, 6]])\n",
    "reshaped = matrix.reshape(3, 2)\n",
    "print(reshaped)\n"
   ]
  },
  {
   "cell_type": "code",
   "execution_count": null,
   "id": "9d1708bb",
   "metadata": {},
   "outputs": [],
   "source": [
    "Creating Special Arrays"
   ]
  },
  {
   "cell_type": "code",
   "execution_count": null,
   "id": "b3110bd7",
   "metadata": {},
   "outputs": [],
   "source": [
    "zeros = np.zeros((2, 3))  # Creates a 2x3 array of zeros\n",
    "ones = np.ones((3, 2))    # Creates a 3x2 array of ones\n",
    "eye = np.eye(3)           # Creates a 3x3 identity matrix\n"
   ]
  },
  {
   "cell_type": "code",
   "execution_count": null,
   "id": "efdc7f64",
   "metadata": {},
   "outputs": [],
   "source": [
    "Random Numbers"
   ]
  },
  {
   "cell_type": "code",
   "execution_count": null,
   "id": "bbd4c3b7",
   "metadata": {},
   "outputs": [],
   "source": [
    "random_arr = np.random.rand(3, 2)  # Creates a 3x2 array of random numbers between 0 and 1\n"
   ]
  },
  {
   "cell_type": "code",
   "execution_count": null,
   "id": "7f84b7ba",
   "metadata": {},
   "outputs": [],
   "source": [
    "Array Concatenation\n",
    "\n"
   ]
  },
  {
   "cell_type": "code",
   "execution_count": null,
   "id": "114cfce9",
   "metadata": {},
   "outputs": [],
   "source": [
    "x = np.array([1, 2])\n",
    "y = np.array([3, 4])\n",
    "concatenated = np.concatenate((x, y))\n",
    "print(concatenated)\n"
   ]
  },
  {
   "cell_type": "code",
   "execution_count": null,
   "id": "347a81d8",
   "metadata": {},
   "outputs": [],
   "source": [
    "Generating Random Data"
   ]
  },
  {
   "cell_type": "code",
   "execution_count": null,
   "id": "3183a976",
   "metadata": {},
   "outputs": [],
   "source": [
    "random_data1 = np.random.rand(2, 3)\n",
    "random_data2 = np.random.randint(1, 10, (3, 3))\n",
    "random_data3 = np.random.choice([1, 2, 3, 4, 5], size=(2, 4), replace=True)\n",
    "random_data4 = np.random.normal(0, 1, (3, 3))\n"
   ]
  },
  {
   "cell_type": "code",
   "execution_count": null,
   "id": "b1e8aba9",
   "metadata": {},
   "outputs": [],
   "source": [
    "Linear Algebra"
   ]
  },
  {
   "cell_type": "code",
   "execution_count": null,
   "id": "440466f7",
   "metadata": {},
   "outputs": [],
   "source": [
    "import numpy as np\n",
    "\n",
    "# Example 1: Creating NumPy arrays\n",
    "vector_a = np.array([1, 2, 3])\n",
    "vector_b = np.array([4, 5, 6])\n"
   ]
  },
  {
   "cell_type": "code",
   "execution_count": null,
   "id": "d0e1212f",
   "metadata": {},
   "outputs": [],
   "source": [
    "# Example 2: Vector addition\n",
    "result_addition = vector_a + vector_b\n"
   ]
  },
  {
   "cell_type": "code",
   "execution_count": null,
   "id": "0fd301de",
   "metadata": {},
   "outputs": [],
   "source": [
    "# Example 3: Vector subtraction\n",
    "result_subtraction = vector_a - vector_b\n"
   ]
  },
  {
   "cell_type": "code",
   "execution_count": null,
   "id": "fbfdaf6a",
   "metadata": {},
   "outputs": [],
   "source": [
    "# Example 4: Scalar multiplication\n",
    "scalar = 2\n",
    "result_scalar_mul = scalar * vector_a\n"
   ]
  },
  {
   "cell_type": "code",
   "execution_count": null,
   "id": "b66a58a4",
   "metadata": {},
   "outputs": [],
   "source": [
    "# Example 5: Dot product of two vectors\n",
    "dot_product = np.dot(vector_a, vector_b)\n"
   ]
  },
  {
   "cell_type": "code",
   "execution_count": null,
   "id": "3a34cacd",
   "metadata": {},
   "outputs": [],
   "source": [
    "# Example 6: Creating matrices\n",
    "matrix_a = np.array([[1, 2], [3, 4]])\n",
    "matrix_b = np.array([[5, 6], [7, 8]])\n"
   ]
  },
  {
   "cell_type": "code",
   "execution_count": null,
   "id": "21ff24f9",
   "metadata": {},
   "outputs": [],
   "source": [
    "# Example 7: Matrix addition\n",
    "result_matrix_addition = matrix_a + matrix_b\n"
   ]
  },
  {
   "cell_type": "code",
   "execution_count": null,
   "id": "fe955383",
   "metadata": {},
   "outputs": [],
   "source": [
    "# Example 8: Matrix multiplication\n",
    "result_matrix_mul = np.dot(matrix_a, matrix_b)\n"
   ]
  },
  {
   "cell_type": "code",
   "execution_count": null,
   "id": "85278ac6",
   "metadata": {},
   "outputs": [],
   "source": [
    "# Example 9: Matrix transposition\n",
    "transpose_matrix_a = np.transpose(matrix_a)\n"
   ]
  },
  {
   "cell_type": "code",
   "execution_count": null,
   "id": "4ecd3e33",
   "metadata": {},
   "outputs": [],
   "source": [
    "# Example 10: Matrix determinant\n",
    "determinant_matrix_a = np.linalg.det(matrix_a)\n"
   ]
  },
  {
   "cell_type": "code",
   "execution_count": null,
   "id": "d9e5aba2",
   "metadata": {},
   "outputs": [],
   "source": [
    "\n",
    "\n",
    "# Create two 2x2 matrices\n",
    "A = np.array([[1, 2], [3, 4]])\n",
    "B = np.array([[5, 6], [7, 8]])\n",
    "\n",
    "# Perform matrix multiplication\n",
    "result = np.dot(A, B)\n",
    "\n",
    "# Explanation:\n",
    "# This example demonstrates matrix multiplication with NumPy for 2x2 matrices 'A' and 'B'.\n",
    "# We use the 'np.dot' function to compute the matrix product, resulting in a new 2x2 matrix.\n",
    "result\n"
   ]
  },
  {
   "cell_type": "code",
   "execution_count": null,
   "id": "29b7459e",
   "metadata": {},
   "outputs": [],
   "source": [
    "\n",
    "\n",
    "# Create a 2x3 matrix A and a 3x2 matrix B\n",
    "A = np.array([[1, 2, 3], [4, 5, 6]])\n",
    "B = np.array([[7, 8], [9, 10], [11, 12]])\n",
    "\n",
    "# Perform matrix multiplication\n",
    "result = np.dot(A, B)\n",
    "\n",
    "# Explanation:\n",
    "# In this example, we perform matrix multiplication between matrices 'A' (2x3) and 'B' (3x2) using NumPy's 'np.dot' function.\n",
    "# The resulting matrix has dimensions 2x2.\n",
    "result\n"
   ]
  },
  {
   "cell_type": "code",
   "execution_count": null,
   "id": "84755b88",
   "metadata": {},
   "outputs": [],
   "source": [
    "Calculating Mean and Median"
   ]
  },
  {
   "cell_type": "code",
   "execution_count": null,
   "id": "ca3b39ab",
   "metadata": {},
   "outputs": [],
   "source": [
    "import numpy as np\n",
    "\n",
    "# Example 1: Calculating mean and median of an array\n",
    "data = np.array([10, 15, 20, 25, 30])\n",
    "mean = np.mean(data)\n",
    "median = np.median(data)\n",
    "\n",
    "mean, median\n"
   ]
  },
  {
   "cell_type": "code",
   "execution_count": null,
   "id": "7d9aff7c",
   "metadata": {},
   "outputs": [],
   "source": [
    "Generating Random Data"
   ]
  },
  {
   "cell_type": "code",
   "execution_count": null,
   "id": "da474c32",
   "metadata": {},
   "outputs": [],
   "source": [
    "# Example 2: Generating random data\n",
    "random_data = np.random.rand(5, 5)\n",
    "random_data\n"
   ]
  },
  {
   "cell_type": "code",
   "execution_count": null,
   "id": "11c459fb",
   "metadata": {},
   "outputs": [],
   "source": [
    "Calculating Standard Deviation and Variance"
   ]
  },
  {
   "cell_type": "code",
   "execution_count": null,
   "id": "e1d2b54b",
   "metadata": {},
   "outputs": [],
   "source": [
    "# Example 3: Calculating standard deviation and variance\n",
    "data = np.array([12, 15, 18, 24, 30])\n",
    "std_deviation = np.std(data)\n",
    "variance = np.var(data)\n",
    "\n",
    "std_deviation, variance\n"
   ]
  },
  {
   "cell_type": "code",
   "execution_count": null,
   "id": "3eaa75f9",
   "metadata": {},
   "outputs": [],
   "source": [
    "Reshaping Data"
   ]
  },
  {
   "cell_type": "code",
   "execution_count": null,
   "id": "e8f63096",
   "metadata": {},
   "outputs": [],
   "source": [
    "# Example 4: Reshaping a NumPy array\n",
    "data = np.array([1, 2, 3, 4, 5, 6])\n",
    "reshaped_data = data.reshape(2, 3)\n",
    "\n",
    "reshaped_data\n"
   ]
  },
  {
   "cell_type": "code",
   "execution_count": null,
   "id": "846759af",
   "metadata": {},
   "outputs": [],
   "source": [
    "# Example 5: Generating normally distributed data\n",
    "mu, sigma = 0, 0.1\n",
    "normal_data = np.random.normal(mu, sigma, 1000)\n",
    "\n",
    "normal_data[:5]\n"
   ]
  },
  {
   "cell_type": "code",
   "execution_count": null,
   "id": "04300d9b",
   "metadata": {},
   "outputs": [],
   "source": [
    "# Example 6: Sorting a NumPy array\n",
    "data = np.array([30, 15, 5, 20, 10])\n",
    "sorted_data = np.sort(data)\n",
    "\n",
    "sorted_data\n"
   ]
  },
  {
   "cell_type": "code",
   "execution_count": null,
   "id": "e8984eb9",
   "metadata": {},
   "outputs": [],
   "source": [
    "# Example 7: Finding unique values in an array\n",
    "data = np.array([2, 3, 2, 5, 3, 7])\n",
    "unique_values = np.unique(data)\n",
    "\n",
    "unique_values\n"
   ]
  },
  {
   "cell_type": "code",
   "execution_count": null,
   "id": "348f5245",
   "metadata": {},
   "outputs": [],
   "source": [
    "# Example 8: Computing percentiles\n",
    "data = np.array([10, 15, 20, 25, 30])\n",
    "percentile_75 = np.percentile(data, 75)\n",
    "percentile_90 = np.percentile(data, 90)\n",
    "\n",
    "percentile_75, percentile_90\n"
   ]
  },
  {
   "cell_type": "code",
   "execution_count": null,
   "id": "154ab370",
   "metadata": {},
   "outputs": [],
   "source": [
    "# Example 9: Calculating correlation coefficients\n",
    "data1 = np.array([1, 2, 3, 4, 5])\n",
    "data2 = np.array([5, 4, 3, 2, 1])\n",
    "correlation_coefficient = np.corrcoef(data1, data2)\n",
    "\n",
    "correlation_coefficient\n"
   ]
  },
  {
   "cell_type": "code",
   "execution_count": null,
   "id": "144dc10d",
   "metadata": {},
   "outputs": [],
   "source": [
    "# Example 10: Performing a t-test\n",
    "sample1 = np.array([45, 50, 55, 60, 65])\n",
    "sample2 = np.array([55, 58, 62, 68, 72])\n",
    "t_statistic, p_value = np.ttest_ind(sample1, sample2)\n",
    "\n",
    "t_statistic, p_value\n"
   ]
  },
  {
   "cell_type": "code",
   "execution_count": null,
   "id": "e34169d6",
   "metadata": {},
   "outputs": [],
   "source": [
    "Selecting Elements Greater Than a Threshold"
   ]
  },
  {
   "cell_type": "code",
   "execution_count": null,
   "id": "35b11095",
   "metadata": {},
   "outputs": [],
   "source": [
    "import numpy as np\n",
    "\n",
    "# Create an array\n",
    "arr = np.array([10, 20, 30, 40, 50])\n",
    "\n",
    "# Select elements greater than 30\n",
    "result = arr[arr > 30]\n",
    "\n",
    "result\n"
   ]
  },
  {
   "cell_type": "code",
   "execution_count": null,
   "id": "c635a310",
   "metadata": {},
   "outputs": [],
   "source": [
    "Selecting Elements Based on Multiple Conditions\n"
   ]
  },
  {
   "cell_type": "code",
   "execution_count": null,
   "id": "c00a1b07",
   "metadata": {},
   "outputs": [],
   "source": [
    "# Create an array\n",
    "arr = np.array([10, 25, 35, 45, 60])\n",
    "\n",
    "# Select elements between 20 and 50\n",
    "result = arr[(arr > 20) & (arr < 50)]\n",
    "\n",
    "result\n"
   ]
  },
  {
   "cell_type": "code",
   "execution_count": null,
   "id": "16e9d34e",
   "metadata": {},
   "outputs": [],
   "source": [
    "Replacing Elements Based on a Condition"
   ]
  },
  {
   "cell_type": "code",
   "execution_count": null,
   "id": "e5178068",
   "metadata": {},
   "outputs": [],
   "source": [
    "# Create an array\n",
    "arr = np.array([5, 15, 25, 35, 45])\n",
    "\n",
    "# Replace elements greater than 30 with 999\n",
    "arr[arr > 30] = 999\n",
    "\n",
    "arr\n"
   ]
  },
  {
   "cell_type": "code",
   "execution_count": null,
   "id": "8e40c960",
   "metadata": {},
   "outputs": [],
   "source": []
  },
  {
   "cell_type": "code",
   "execution_count": null,
   "id": "7213818f",
   "metadata": {},
   "outputs": [],
   "source": [
    "# Create a 2D array\n",
    "matrix = np.array([[1, 2, 3], [4, 5, 6], [7, 8, 9]])\n",
    "\n",
    "# Select elements greater than 5\n",
    "result = matrix[matrix > 5]\n",
    "\n",
    "result\n"
   ]
  },
  {
   "cell_type": "code",
   "execution_count": null,
   "id": "f81a65c2",
   "metadata": {},
   "outputs": [],
   "source": [
    "Selecting Elements from a 2D Array"
   ]
  },
  {
   "cell_type": "code",
   "execution_count": null,
   "id": "a700dd27",
   "metadata": {},
   "outputs": [],
   "source": [
    "# Create a 2D array\n",
    "matrix = np.array([[1, 2, 3], [4, 5, 6], [7, 8, 9]])\n",
    "\n",
    "# Select elements greater than 5\n",
    "result = matrix[matrix > 5]\n",
    "\n",
    "result\n"
   ]
  },
  {
   "cell_type": "code",
   "execution_count": null,
   "id": "0157ffc5",
   "metadata": {},
   "outputs": [],
   "source": [
    "Using a Condition with np.where()"
   ]
  },
  {
   "cell_type": "code",
   "execution_count": null,
   "id": "d9193dbc",
   "metadata": {},
   "outputs": [],
   "source": [
    "# Create an array\n",
    "arr = np.array([5, 10, 15, 20, 25])\n",
    "\n",
    "# Use np.where() to select elements less than 15\n",
    "result = np.where(arr < 15, arr, 0)\n",
    "\n",
    "result\n"
   ]
  },
  {
   "cell_type": "code",
   "execution_count": null,
   "id": "312ee174",
   "metadata": {},
   "outputs": [],
   "source": [
    "Universal array function"
   ]
  },
  {
   "cell_type": "code",
   "execution_count": null,
   "id": "e820eb0f",
   "metadata": {},
   "outputs": [],
   "source": [
    "import numpy as np\n",
    "\n",
    "# Example 1: Square root of an array\n",
    "arr = np.array([1, 4, 9, 16, 25])\n",
    "sqrt_arr = np.sqrt(arr)\n",
    "\n",
    "sqrt_arr\n"
   ]
  },
  {
   "cell_type": "code",
   "execution_count": null,
   "id": "5c630997",
   "metadata": {},
   "outputs": [],
   "source": [
    "# Example 2: Exponential function\n",
    "arr = np.array([1, 2, 3, 4, 5])\n",
    "exp_arr = np.exp(arr)\n",
    "\n",
    "exp_arr\n"
   ]
  },
  {
   "cell_type": "code",
   "execution_count": null,
   "id": "bf4859f6",
   "metadata": {},
   "outputs": [],
   "source": [
    "# Example 3: Trigonometric functions\n",
    "arr = np.array([0, np.pi/4, np.pi/2, np.pi])\n",
    "sin_arr = np.sin(arr)\n",
    "cos_arr = np.cos(arr)\n",
    "\n",
    "sin_arr, cos_arr\n"
   ]
  },
  {
   "cell_type": "code",
   "execution_count": null,
   "id": "e96fb6e7",
   "metadata": {},
   "outputs": [],
   "source": [
    "# Example 4: Natural logarithm\n",
    "arr = np.array([1, 2, 4, 8, 16])\n",
    "log_arr = np.log(arr)\n",
    "\n",
    "log_arr\n"
   ]
  },
  {
   "cell_type": "code",
   "execution_count": null,
   "id": "cb3d5539",
   "metadata": {},
   "outputs": [],
   "source": [
    "# Example 5: Rounding and absolute value\n",
    "arr = np.array([3.14159, -2.71828, 1.61803])\n",
    "rounded_arr = np.round(arr, decimals=2)\n",
    "abs_arr = np.abs(arr)\n",
    "\n",
    "rounded_arr, abs_arr\n"
   ]
  },
  {
   "cell_type": "code",
   "execution_count": null,
   "id": "db558ab4",
   "metadata": {},
   "outputs": [],
   "source": [
    "import numpy as np\n",
    "\n",
    "# Example 6: Element-wise maximum and minimum\n",
    "arr1 = np.array([5, 10, 15, 20, 25])\n",
    "arr2 = np.array([12, 8, 18, 22, 30])\n",
    "\n",
    "max_arr = np.maximum(arr1, arr2)\n",
    "min_arr = np.minimum(arr1, arr2)\n",
    "\n",
    "max_arr, min_arr\n"
   ]
  },
  {
   "cell_type": "code",
   "execution_count": null,
   "id": "f68f81b0",
   "metadata": {},
   "outputs": [],
   "source": [
    "# Example 7: Element-wise exponentiation and logarithm\n",
    "arr = np.array([1, 2, 3, 4, 5])\n",
    "exp_arr = np.exp2(arr)\n",
    "log2_arr = np.log2(arr)\n",
    "\n",
    "exp_arr, log2_arr\n"
   ]
  },
  {
   "cell_type": "code",
   "execution_count": null,
   "id": "816d712f",
   "metadata": {},
   "outputs": [],
   "source": [
    "# Example 8: Rounding up and down\n",
    "arr = np.array([3.14159, 2.71828, 1.61803])\n",
    "ceil_arr = np.ceil(arr)\n",
    "floor_arr = np.floor(arr)\n",
    "\n",
    "ceil_arr, floor_arr\n"
   ]
  },
  {
   "cell_type": "code",
   "execution_count": null,
   "id": "61d8bfbb",
   "metadata": {},
   "outputs": [],
   "source": [
    "# Example 9: Finding the sign of elements\n",
    "arr = np.array([-3, 0, 4, -1, 7])\n",
    "sign_arr = np.sign(arr)\n",
    "\n",
    "sign_arr\n"
   ]
  },
  {
   "cell_type": "code",
   "execution_count": null,
   "id": "17f81f56",
   "metadata": {},
   "outputs": [],
   "source": [
    "# Example 10: Element-wise power\n",
    "arr = np.array([2, 3, 4, 5])\n",
    "power_arr = np.power(arr, 3)\n",
    "\n",
    "power_arr\n"
   ]
  },
  {
   "cell_type": "code",
   "execution_count": null,
   "id": "0dee09aa",
   "metadata": {},
   "outputs": [],
   "source": [
    "Axis Logic"
   ]
  },
  {
   "cell_type": "code",
   "execution_count": null,
   "id": "16bce2c3",
   "metadata": {},
   "outputs": [],
   "source": [
    "import numpy as np\n",
    "\n",
    "# Example 1: Sum along rows and columns\n",
    "arr = np.array([[1, 2, 3], [4, 5, 6]])\n",
    "\n",
    "sum_rows = np.sum(arr, axis=1)\n",
    "sum_columns = np.sum(arr, axis=0)\n",
    "\n",
    "sum_rows, sum_columns\n"
   ]
  },
  {
   "cell_type": "code",
   "execution_count": null,
   "id": "ee6f7362",
   "metadata": {},
   "outputs": [],
   "source": [
    "# Example 2: Mean along rows and columns\n",
    "arr = np.array([[1, 2, 3], [4, 5, 6]])\n",
    "\n",
    "mean_rows = np.mean(arr, axis=1)\n",
    "mean_columns = np.mean(arr, axis=0)\n",
    "\n",
    "mean_rows, mean_columns\n"
   ]
  },
  {
   "cell_type": "code",
   "execution_count": null,
   "id": "c05aa63f",
   "metadata": {},
   "outputs": [],
   "source": [
    "# Example 3: Maximum along rows and columns\n",
    "arr = np.array([[1, 2, 3], [4, 5, 6]])\n",
    "\n",
    "max_rows = np.max(arr, axis=1)\n",
    "max_columns = np.max(arr, axis=0)\n",
    "\n",
    "max_rows, max_columns\n"
   ]
  },
  {
   "cell_type": "code",
   "execution_count": null,
   "id": "02908b6e",
   "metadata": {},
   "outputs": [],
   "source": [
    "# Example 4: Minimum along rows and columns\n",
    "arr = np.array([[1, 2, 3], [4, 5, 6]])\n",
    "\n",
    "min_rows = np.min(arr, axis=1)\n",
    "min_columns = np.min(arr, axis=0)\n",
    "\n",
    "min_rows, min_columns\n"
   ]
  },
  {
   "cell_type": "code",
   "execution_count": null,
   "id": "28dd99d7",
   "metadata": {},
   "outputs": [],
   "source": [
    "# Example 5: Applying a custom function along rows\n",
    "arr = np.array([[1, 2, 3], [4, 5, 6]])\n",
    "\n",
    "custom_func_rows = np.apply_along_axis(lambda x: np.sum(x**2), axis=1, arr=arr)\n",
    "\n",
    "custom_func_rows\n"
   ]
  },
  {
   "cell_type": "code",
   "execution_count": null,
   "id": "a397c7de",
   "metadata": {},
   "outputs": [],
   "source": [
    "# Example 6: Finding the index of the maximum value along rows\n",
    "arr = np.array([[1, 2, 3], [4, 5, 6]])\n",
    "\n",
    "argmax_rows = np.argmax(arr, axis=1)\n",
    "\n",
    "argmax_rows\n"
   ]
  },
  {
   "cell_type": "code",
   "execution_count": null,
   "id": "5d96d67a",
   "metadata": {},
   "outputs": [],
   "source": [
    "# Example 7: Transposing a matrix\n",
    "arr = np.array([[1, 2, 3], [4, 5, 6]])\n",
    "\n",
    "transpose_arr = np.transpose(arr)\n",
    "\n",
    "transpose_arr\n"
   ]
  },
  {
   "cell_type": "code",
   "execution_count": null,
   "id": "3c46b2cf",
   "metadata": {},
   "outputs": [],
   "source": [
    "# Example 8: Finding unique values along rows\n",
    "arr = np.array([[1, 2, 2], [3, 4, 4]])\n",
    "\n",
    "unique_rows = np.apply_along_axis(lambda x: np.unique(x), axis=1, arr=arr)\n",
    "\n",
    "unique_rows\n"
   ]
  },
  {
   "cell_type": "code",
   "execution_count": null,
   "id": "65266668",
   "metadata": {},
   "outputs": [],
   "source": [
    "# Example 9: Sorting along columns\n",
    "arr = np.array([[3, 2, 1], [6, 5, 4]])\n",
    "\n",
    "sorted_columns = np.sort(arr, axis=0)\n",
    "\n",
    "sorted_columns\n"
   ]
  },
  {
   "cell_type": "code",
   "execution_count": null,
   "id": "dc37592f",
   "metadata": {},
   "outputs": [],
   "source": [
    "# Example 10: Cumulative sum along columns\n",
    "arr = np.array([[1, 2, 3], [4, 5, 6]])\n",
    "\n",
    "cumsum_columns = np.cumsum(arr, axis=0)\n",
    "\n",
    "cumsum_columns\n"
   ]
  },
  {
   "cell_type": "code",
   "execution_count": null,
   "id": "605a9ff3",
   "metadata": {},
   "outputs": [],
   "source": []
  },
  {
   "cell_type": "code",
   "execution_count": 3,
   "id": "82f7486a",
   "metadata": {},
   "outputs": [
    {
     "data": {
      "text/plain": [
       "array([1, 2, 3, 4, 5, 6])"
      ]
     },
     "execution_count": 3,
     "metadata": {},
     "output_type": "execute_result"
    }
   ],
   "source": [
    "import numpy as np\n",
    "\n",
    "# Example 1: Flattening a 2D array using flatten()\n",
    "arr_2d = np.array([[1, 2, 3], [4, 5, 6]])\n",
    "flattened_arr = arr_2d.flatten()\n",
    "\n",
    "flattened_arr\n"
   ]
  },
  {
   "cell_type": "code",
   "execution_count": 4,
   "id": "da50dbca",
   "metadata": {},
   "outputs": [
    {
     "data": {
      "text/plain": [
       "array([1, 2, 3, 4, 5, 6])"
      ]
     },
     "execution_count": 4,
     "metadata": {},
     "output_type": "execute_result"
    }
   ],
   "source": [
    "# Example 2: Flattening a 2D array using ravel()\n",
    "arr_2d = np.array([[1, 2, 3], [4, 5, 6]])\n",
    "flattened_arr = arr_2d.ravel()\n",
    "\n",
    "flattened_arr\n"
   ]
  },
  {
   "cell_type": "code",
   "execution_count": 5,
   "id": "ad478787",
   "metadata": {},
   "outputs": [
    {
     "data": {
      "text/plain": [
       "array([1, 2, 3, 4, 5, 6, 7, 8])"
      ]
     },
     "execution_count": 5,
     "metadata": {},
     "output_type": "execute_result"
    }
   ],
   "source": [
    "# Example 3: Flattening a multi-dimensional array\n",
    "arr_multi = np.array([[[1, 2], [3, 4]], [[5, 6], [7, 8]]])\n",
    "flattened_arr = arr_multi.flatten()\n",
    "\n",
    "flattened_arr\n"
   ]
  },
  {
   "cell_type": "code",
   "execution_count": null,
   "id": "b00aa687",
   "metadata": {},
   "outputs": [],
   "source": [
    "# Example 4: Modifying the flattened array\n",
    "arr_2d = np.array([[1, 2, 3], [4, 5, 6]])\n",
    "flattened_arr = arr_2d.flatten()\n",
    "\n",
    "# Modify the flattened array\n",
    "flattened_arr[0] = 99\n",
    "\n",
    "flattened_arr, arr_2d\n"
   ]
  },
  {
   "cell_type": "code",
   "execution_count": null,
   "id": "091a5b06",
   "metadata": {},
   "outputs": [],
   "source": [
    "# Example 5: Flattening a subarray\n",
    "arr_2d = np.array([[1, 2, 3], [4, 5, 6]])\n",
    "subarray = arr_2d[:, 1:3]  # Selecting a subarray\n",
    "flattened_subarray = subarray.flatten()\n",
    "\n",
    "flattened_subarray\n"
   ]
  },
  {
   "cell_type": "code",
   "execution_count": null,
   "id": "a04fb443",
   "metadata": {},
   "outputs": [],
   "source": [
    "import numpy as np\n",
    "\n",
    "# Example 1: Vertical stack of two 1D arrays\n",
    "array1 = np.array([1, 2, 3])\n",
    "array2 = np.array([4, 5, 6])\n",
    "stacked_array = np.vstack((array1, array2))\n",
    "\n",
    "stacked_array\n"
   ]
  },
  {
   "cell_type": "code",
   "execution_count": null,
   "id": "ac5f29a6",
   "metadata": {},
   "outputs": [],
   "source": [
    "# Example 2: Vertical stack of two 2D arrays\n",
    "matrix1 = np.array([[1, 2, 3], [4, 5, 6]])\n",
    "matrix2 = np.array([[7, 8, 9], [10, 11, 12]])\n",
    "stacked_matrix = np.vstack((matrix1, matrix2))\n",
    "\n",
    "stacked_matrix\n"
   ]
  },
  {
   "cell_type": "code",
   "execution_count": null,
   "id": "f91f0212",
   "metadata": {},
   "outputs": [],
   "source": [
    "# Example 3: Vertical stack of mixed dimensions\n",
    "array = np.array([1, 2, 3])\n",
    "matrix = np.array([[4, 5, 6], [7, 8, 9]])\n",
    "stacked = np.vstack((array, matrix))\n",
    "\n",
    "stacked\n"
   ]
  },
  {
   "cell_type": "code",
   "execution_count": null,
   "id": "e425cfc4",
   "metadata": {},
   "outputs": [],
   "source": [
    "import numpy as np\n",
    "\n",
    "# Example 1: Horizontal stack of two 1D arrays\n",
    "array1 = np.array([1, 2, 3])\n",
    "array2 = np.array([4, 5, 6])\n",
    "stacked_array = np.hstack((array1, array2))\n",
    "\n",
    "stacked_array\n"
   ]
  },
  {
   "cell_type": "code",
   "execution_count": null,
   "id": "66421aa9",
   "metadata": {},
   "outputs": [],
   "source": [
    "# Example 2: Horizontal stack of two 2D arrays\n",
    "matrix1 = np.array([[1, 2], [3, 4]])\n",
    "matrix2 = np.array([[5, 6], [7, 8]])\n",
    "stacked_matrix = np.hstack((matrix1, matrix2))\n",
    "\n",
    "stacked_matrix\n"
   ]
  },
  {
   "cell_type": "code",
   "execution_count": null,
   "id": "4dfa0cd2",
   "metadata": {},
   "outputs": [],
   "source": [
    "# Example 3: Horizontal stack of mixed dimensions\n",
    "array = np.array([1, 2, 3])\n",
    "matrix = np.array([[4, 5], [6, 7], [8, 9]])\n",
    "stacked = np.hstack((array.reshape(-1, 1), matrix))\n",
    "\n",
    "stacked\n"
   ]
  },
  {
   "cell_type": "code",
   "execution_count": null,
   "id": "4e52e53c",
   "metadata": {},
   "outputs": [],
   "source": [
    "import numpy as np\n",
    "\n",
    "# Example 1: Basic indexing\n",
    "arr = np.array([1, 2, 3, 4, 5])\n",
    "element = arr[2]\n",
    "\n",
    "element\n"
   ]
  },
  {
   "cell_type": "code",
   "execution_count": null,
   "id": "1b0d4086",
   "metadata": {},
   "outputs": [],
   "source": [
    "# Example 2: Slicing a 1D array\n",
    "arr = np.array([1, 2, 3, 4, 5])\n",
    "slice_arr = arr[1:4]\n",
    "\n",
    "slice_arr\n"
   ]
  },
  {
   "cell_type": "code",
   "execution_count": null,
   "id": "ac969759",
   "metadata": {},
   "outputs": [],
   "source": [
    "# Example 3: Slicing rows of a 2D array\n",
    "matrix = np.array([[1, 2, 3], [4, 5, 6], [7, 8, 9]])\n",
    "slice_rows = matrix[1:3, :]\n",
    "\n",
    "slice_rows\n"
   ]
  },
  {
   "cell_type": "code",
   "execution_count": null,
   "id": "56090ce4",
   "metadata": {},
   "outputs": [],
   "source": [
    "# Example 4: Slicing columns of a 2D array\n",
    "matrix = np.array([[1, 2, 3], [4, 5, 6], [7, 8, 9]])\n",
    "slice_columns = matrix[:, 1:3]\n",
    "\n",
    "slice_columns\n"
   ]
  },
  {
   "cell_type": "code",
   "execution_count": null,
   "id": "c0b998dc",
   "metadata": {},
   "outputs": [],
   "source": [
    "# Example 5: Slicing with step\n",
    "arr = np.array([1, 2, 3, 4, 5])\n",
    "slice_step = arr[0:5:2]\n",
    "\n",
    "slice_step\n"
   ]
  },
  {
   "cell_type": "code",
   "execution_count": null,
   "id": "b924ea40",
   "metadata": {},
   "outputs": [],
   "source": [
    "# Example 6: Integer array indexing\n",
    "arr = np.array([10, 20, 30, 40, 50])\n",
    "indices = np.array([1, 3])\n",
    "selected_elements = arr[indices]\n",
    "\n",
    "selected_elements\n"
   ]
  },
  {
   "cell_type": "code",
   "execution_count": null,
   "id": "a4e65a85",
   "metadata": {},
   "outputs": [],
   "source": [
    "# Example 7: Boolean array indexing\n",
    "arr = np.array([1, 2, 3, 4, 5])\n",
    "mask = arr > 2\n",
    "selected_elements = arr[mask]\n",
    "\n",
    "selected_elements\n"
   ]
  },
  {
   "cell_type": "code",
   "execution_count": null,
   "id": "573fc6cd",
   "metadata": {},
   "outputs": [],
   "source": [
    "# Example 8: Slicing and modifying a subarray\n",
    "arr = np.array([1, 2, 3, 4, 5])\n",
    "subarray = arr[1:4]\n",
    "subarray[:] = 0\n",
    "\n",
    "arr\n"
   ]
  },
  {
   "cell_type": "code",
   "execution_count": null,
   "id": "a225c4bd",
   "metadata": {},
   "outputs": [],
   "source": [
    "# Example 9: Using ellipsis to index a 3D array\n",
    "tensor = np.random.rand(2, 3, 4)\n",
    "selected_tensor = tensor[..., 1]\n",
    "\n",
    "selected_tensor\n"
   ]
  },
  {
   "cell_type": "code",
   "execution_count": null,
   "id": "d5a8be75",
   "metadata": {},
   "outputs": [],
   "source": [
    "# Example 10: Fancy indexing in a 2D array\n",
    "matrix = np.array([[1, 2, 3], [4, 5, 6], [7, 8, 9]])\n",
    "row_indices = np.array([0, 2])\n",
    "col_indices = np.array([1, 2])\n",
    "selected_elements = matrix[row_indices[:, np.newaxis], col_indices]\n",
    "\n",
    "selected_elements\n"
   ]
  }
 ],
 "metadata": {
  "kernelspec": {
   "display_name": "Python 3 (ipykernel)",
   "language": "python",
   "name": "python3"
  },
  "language_info": {
   "codemirror_mode": {
    "name": "ipython",
    "version": 3
   },
   "file_extension": ".py",
   "mimetype": "text/x-python",
   "name": "python",
   "nbconvert_exporter": "python",
   "pygments_lexer": "ipython3",
   "version": "3.10.9"
  }
 },
 "nbformat": 4,
 "nbformat_minor": 5
}
