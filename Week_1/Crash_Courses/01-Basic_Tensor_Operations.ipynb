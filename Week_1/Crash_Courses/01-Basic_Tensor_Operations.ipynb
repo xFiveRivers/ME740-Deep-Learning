{
 "cells": [
  {
   "cell_type": "markdown",
   "id": "4e7a8e08",
   "metadata": {},
   "source": [
    "# 01 - Basic Tensor Operations in PyTorch\n",
    "\n",
    "This notebook introduces basic tensor operations in PyTorch, including tensor creation, indexing, slicing, and reshaping. Understanding these operations is fundamental to utilizing PyTorch effectively in deep learning tasks."
   ]
  },
  {
   "cell_type": "markdown",
   "id": "d0b3e11d",
   "metadata": {},
   "source": [
    "## 1. Creating Tensors\n",
    "\n",
    "Tensors are the core data structure in PyTorch, similar to NumPy arrays but with additional capabilities for automatic differentiation and GPU acceleration. There are several ways to create tensors in PyTorch:\n",
    "- **Directly from data**: Using `torch.tensor()`.\n",
    "- **From NumPy arrays**: Using `torch.from_numpy()`.\n",
    "- **Using built-in functions**: Such as `torch.zeros()`, `torch.ones()`, `torch.arange()`, etc.\n"
   ]
  },
  {
   "cell_type": "code",
   "execution_count": 24,
   "id": "b7bc6428",
   "metadata": {},
   "outputs": [
    {
     "name": "stdout",
     "output_type": "stream",
     "text": [
      "Tensor from data: tensor([[1, 2, 3],\n",
      "        [4, 5, 6]])\n",
      "Tensor from NumPy array: tensor([1, 2, 3])\n",
      "Zeros Tensor: tensor([[0., 0., 0.],\n",
      "        [0., 0., 0.]])\n",
      "Ones Tensor: tensor([[1., 1., 1.],\n",
      "        [1., 1., 1.]])\n",
      "Arange Tensor: tensor([0, 2, 4, 6, 8])\n"
     ]
    }
   ],
   "source": [
    "# Example: Creating Tensors\n",
    "import torch\n",
    "\n",
    "# Directly from data\n",
    "tensor_from_data = torch.tensor([[1, 2, 3], [4, 5, 6]])\n",
    "print('Tensor from data:', tensor_from_data)\n",
    "\n",
    "# From NumPy array\n",
    "import numpy as np\n",
    "numpy_array = np.array([1, 2, 3])\n",
    "tensor_from_numpy = torch.from_numpy(numpy_array)\n",
    "print('Tensor from NumPy array:', tensor_from_numpy)\n",
    "\n",
    "# Using built-in functions\n",
    "zeros_tensor = torch.zeros((2, 3))\n",
    "print('Zeros Tensor:', zeros_tensor)\n",
    "ones_tensor = torch.ones((2, 3))\n",
    "print('Ones Tensor:', ones_tensor)\n",
    "arange_tensor = torch.arange(0, 10, 2)\n",
    "print('Arange Tensor:', arange_tensor)"
   ]
  },
  {
   "cell_type": "markdown",
   "id": "21537f2c",
   "metadata": {},
   "source": [
    "## 2. Indexing Tensors\n",
    "\n",
    "Indexing in PyTorch is similar to indexing in NumPy. It allows accessing specific elements, rows, columns, or slices of tensors. Indexing starts from 0, and negative indexing is supported as well.\n"
   ]
  },
  {
   "cell_type": "code",
   "execution_count": 25,
   "id": "b4f9498c",
   "metadata": {},
   "outputs": [
    {
     "name": "stdout",
     "output_type": "stream",
     "text": [
      "Original Tensor:\n",
      " tensor([[1, 2, 3],\n",
      "        [4, 5, 6],\n",
      "        [7, 8, 9]])\n",
      "Element at row 0, column 1: tensor(2)\n",
      "Row at index 1: tensor([4, 5, 6])\n",
      "Last element of the tensor: tensor(9)\n"
     ]
    }
   ],
   "source": [
    "# Example: Indexing Tensors\n",
    "tensor = torch.tensor([[1, 2, 3], [4, 5, 6], [7, 8, 9]])\n",
    "print('Original Tensor:\\n', tensor)\n",
    "\n",
    "# Indexing a single element\n",
    "element = tensor[0, 1]\n",
    "print('Element at row 0, column 1:', element)\n",
    "\n",
    "# Indexing a single row\n",
    "row = tensor[1]\n",
    "print('Row at index 1:', row)\n",
    "\n",
    "# Indexing with negative indices\n",
    "last_element = tensor[-1, -1]\n",
    "print('Last element of the tensor:', last_element)"
   ]
  },
  {
   "cell_type": "markdown",
   "id": "fee821f1",
   "metadata": {},
   "source": [
    "## 3. Slicing Tensors\n",
    "\n",
    "Slicing is used to access a range of elements in tensors. It allows selection of sub-tensors using a start, stop, and step, similar to Python lists or NumPy arrays.\n"
   ]
  },
  {
   "cell_type": "code",
   "execution_count": 26,
   "id": "7394d3d4",
   "metadata": {},
   "outputs": [
    {
     "name": "stdout",
     "output_type": "stream",
     "text": [
      "Slice of first two rows and last two columns:\n",
      " tensor([[2, 3],\n",
      "        [5, 6]])\n",
      "Slice with step 2:\n",
      " tensor([[1, 3],\n",
      "        [7, 9]])\n"
     ]
    }
   ],
   "source": [
    "# Example: Slicing Tensors\n",
    "tensor = torch.tensor([[1, 2, 3], [4, 5, 6], [7, 8, 9]])\n",
    "\n",
    "# Slicing a range of rows and columns\n",
    "slice_1 = tensor[:2, 1:]\n",
    "print('Slice of first two rows and last two columns:\\n', slice_1)\n",
    "\n",
    "# Slicing with a step\n",
    "slice_2 = tensor[::2, ::2]\n",
    "print('Slice with step 2:\\n', slice_2)"
   ]
  },
  {
   "cell_type": "markdown",
   "id": "e0ad74eb",
   "metadata": {},
   "source": [
    "## 4. Reshaping Tensors\n",
    "\n",
    "Reshaping changes the shape of a tensor without altering its data. PyTorch provides the `reshape()` function for this purpose, as well as `view()` for contiguous tensors.\n"
   ]
  },
  {
   "cell_type": "code",
   "execution_count": 27,
   "id": "8b0c62c8",
   "metadata": {},
   "outputs": [
    {
     "name": "stdout",
     "output_type": "stream",
     "text": [
      "Original Tensor: tensor([1, 2, 3, 4, 5, 6, 7, 8, 9])\n",
      "Reshaped Tensor (3x3):\n",
      " tensor([[1, 2, 3],\n",
      "        [4, 5, 6],\n",
      "        [7, 8, 9]])\n",
      "View Tensor (3x3):\n",
      " tensor([[1, 2, 3],\n",
      "        [4, 5, 6],\n",
      "        [7, 8, 9]])\n"
     ]
    }
   ],
   "source": [
    "# Example: Reshaping Tensors\n",
    "tensor = torch.arange(1, 10)\n",
    "print('Original Tensor:', tensor)\n",
    "\n",
    "# Reshape to a 3x3 matrix\n",
    "reshaped_tensor = tensor.reshape(3, 3)\n",
    "print('Reshaped Tensor (3x3):\\n', reshaped_tensor)\n",
    "\n",
    "# Using view() to reshape\n",
    "view_tensor = tensor.view(3, 3)\n",
    "print('View Tensor (3x3):\\n', view_tensor)"
   ]
  },
  {
   "cell_type": "markdown",
   "id": "c1a37d3b",
   "metadata": {},
   "source": [
    "## Exercises\n",
    "\n",
    "1. Create a tensor of shape (4, 5) with random integers and print it.\n",
    "2. Extract the second row and third column from the tensor created above.\n",
    "3. Slice the tensor to get a 2x3 sub-tensor and print it.\n",
    "4. Reshape the original tensor into a shape of (2, 10) and (10, 2) and print both."
   ]
  },
  {
   "cell_type": "code",
   "execution_count": 28,
   "id": "86c4bb8d",
   "metadata": {},
   "outputs": [
    {
     "data": {
      "text/plain": [
       "tensor([[42, 14, 59, 63, 73],\n",
       "        [64, 67, 15, 29,  7],\n",
       "        [98, 99, 56, 95, 85],\n",
       "        [76, 28, 79, 64, 12]])"
      ]
     },
     "execution_count": 28,
     "metadata": {},
     "output_type": "execute_result"
    }
   ],
   "source": [
    "tensor = torch.randint(low=0, high=100, size=(4,5))\n",
    "tensor"
   ]
  },
  {
   "cell_type": "code",
   "execution_count": 29,
   "id": "4e60ef5d",
   "metadata": {},
   "outputs": [
    {
     "data": {
      "text/plain": [
       "tensor(15)"
      ]
     },
     "execution_count": 29,
     "metadata": {},
     "output_type": "execute_result"
    }
   ],
   "source": [
    "tensor[1, 2]"
   ]
  },
  {
   "cell_type": "code",
   "execution_count": 30,
   "id": "082fec6c",
   "metadata": {},
   "outputs": [
    {
     "data": {
      "text/plain": [
       "tensor([[42, 14, 59],\n",
       "        [64, 67, 15]])"
      ]
     },
     "execution_count": 30,
     "metadata": {},
     "output_type": "execute_result"
    }
   ],
   "source": [
    "tensor[:2, :3]"
   ]
  },
  {
   "cell_type": "code",
   "execution_count": 31,
   "id": "c34a1e5b",
   "metadata": {},
   "outputs": [
    {
     "data": {
      "text/plain": [
       "tensor([[42, 14, 59, 63, 73, 64, 67, 15, 29,  7],\n",
       "        [98, 99, 56, 95, 85, 76, 28, 79, 64, 12]])"
      ]
     },
     "execution_count": 31,
     "metadata": {},
     "output_type": "execute_result"
    }
   ],
   "source": [
    "tensor.reshape(shape=(2, 10))"
   ]
  },
  {
   "cell_type": "code",
   "execution_count": 32,
   "id": "616cbcbe",
   "metadata": {},
   "outputs": [
    {
     "data": {
      "text/plain": [
       "tensor([[42, 14],\n",
       "        [59, 63],\n",
       "        [73, 64],\n",
       "        [67, 15],\n",
       "        [29,  7],\n",
       "        [98, 99],\n",
       "        [56, 95],\n",
       "        [85, 76],\n",
       "        [28, 79],\n",
       "        [64, 12]])"
      ]
     },
     "execution_count": 32,
     "metadata": {},
     "output_type": "execute_result"
    }
   ],
   "source": [
    "tensor.reshape(shape=(10, 2))"
   ]
  }
 ],
 "metadata": {
  "kernelspec": {
   "display_name": "ME740",
   "language": "python",
   "name": "python3"
  },
  "language_info": {
   "codemirror_mode": {
    "name": "ipython",
    "version": 3
   },
   "file_extension": ".py",
   "mimetype": "text/x-python",
   "name": "python",
   "nbconvert_exporter": "python",
   "pygments_lexer": "ipython3",
   "version": "3.13.1"
  }
 },
 "nbformat": 4,
 "nbformat_minor": 5
}
