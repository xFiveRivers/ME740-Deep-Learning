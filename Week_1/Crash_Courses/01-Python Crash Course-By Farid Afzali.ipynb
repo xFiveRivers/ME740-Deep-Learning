{
 "cells": [
  {
   "cell_type": "markdown",
   "metadata": {},
   "source": [
    "# Python Libraries\n",
    "import numpy as np\n",
    "import pandas as pd\n",
    "import matplotlib.pyplot as plt\n",
    "import seaborn as sns\n",
    "\n",
    "# Machine Learning Libraries\n",
    "import sklearn\n",
    "from sklearn.model_selection import train_test_split\n",
    "from sklearn.linear_model import LinearRegression, LogisticRegression\n",
    "from sklearn.cluster import KMeans\n",
    "from sklearn.decomposition import PCA\n",
    "\n",
    "# Deep Learning Libraries\n",
    "import tensorflow as tf\n",
    "from tensorflow import keras\n",
    "from keras.models import Sequential\n",
    "from keras.layers import Dense, Activation\n",
    "from keras.optimizers import SGD, Adam\n",
    "\n",
    "# References\n",
    "# - \"Hands-On Machine Learning with Scikit-Learn, Keras, and TensorFlow\" by Aurélien Géron\n",
    "#   [Book Link](https://www.oreilly.com/library/view/hands-on-machine-learning/9781492032632/)\n",
    "# - \"Deep Learning\" by Ian Goodfellow, Yoshua Bengio, and Aaron Courville\n",
    "#   [Book Link](http://www.deeplearningbook.org/)\n",
    "# - Official documentation for libraries:\n",
    "#   - NumPy: [Documentation](https://numpy.org/doc/stable/)\n",
    "#   - Pandas: [Documentation](https://pandas.pydata.org/docs/)\n",
    "#   - scikit-learn: [Documentation](https://scikit-learn.org/stable/documentation.html)\n",
    "#   - TensorFlow: [Documentation](https://www.tensorflow.org/api_docs)\n",
    "#   - Keras: [Documentation](https://keras.io/api/)\n"
   ]
  },
  {
   "cell_type": "markdown",
   "metadata": {},
   "source": [
    "\n",
    "___\n",
    "# Python Crash Course\n",
    "\n",
    "# Introduction to Python: Building the Foundation for Machine Learning\n",
    "\n",
    "Welcome to the Machine Learning course! Before we dive into the exciting world of machine learning algorithms and techniques, it's crucial to build a strong foundation in Python programming. Python is a versatile and widely-used programming language that forms the backbone of many machine learning libraries and frameworks.\n",
    "\n",
    "## Why Start with a Python Crash Course?\n",
    "\n",
    "Python serves as the primary language for implementing machine learning algorithms and working with various libraries and tools. By mastering the fundamentals of Python, you'll have a solid base for effectively exploring, implementing, and deploying machine learning solutions.\n",
    "\n",
    "### Key Topics Covered in the Python Crash Course\n",
    "\n",
    "The Python crash course aims to provide you with a thorough understanding of essential concepts and syntax. In this session, we will cover the following topics:\n",
    "\n",
    "* **Data Types**: We'll start by exploring different data types, including numbers, strings, lists, dictionaries, booleans, tuples, and sets. These are the building blocks of Python data structures.\n",
    "\n",
    "* **Comparison Operators**: Learn how to compare values using operators like `==`, `!=`, `<`, `>`, `<=`, and `>=`. These comparisons are fundamental in making decisions within your programs.\n",
    "\n",
    "* **Conditional Statements**: Understand how to use `if`, `elif`, and `else` statements to create conditional logic, enabling your programs to respond to different situations.\n",
    "\n",
    "* **Loops**: Discover the power of `for` and `while` loops for iterating over sequences and performing repetitive tasks.\n",
    "\n",
    "* **Range**: Learn about the `range()` function, which generates a sequence of numbers that can be used for various purposes.\n",
    "\n",
    "* **List Comprehension**: Explore a concise way to create lists using list comprehension, improving code readability and efficiency.\n",
    "\n",
    "* **Functions**: Dive into function definition and usage, which allows you to encapsulate code for reusability and organization.\n",
    "\n",
    "* **Lambda Expressions**: Understand anonymous functions using lambda expressions, which are often used for simple tasks or transformations.\n",
    "\n",
    "* **Map and Filter**: Explore higher-order functions like `map()` and `filter()` to perform operations on sequences.\n",
    "\n",
    "* **Methods**: Learn about methods, which are functions associated with objects, enabling you to perform actions on various data types.\n",
    "\n",
    "By mastering these concepts, you'll not only become proficient in Python programming but also set the stage for effectively utilizing machine learning libraries and techniques.\n",
    "\n",
    "## Getting Started\n",
    "\n",
    "Before we proceed further in our machine learning journey, let's embark on this Python crash course. Remember, this is the first and most essential step towards gaining the skills required to implement machine learning algorithms and solve real-world problems.\n",
    "\n",
    "Let's start by exploring the exciting world of Python and building the skills you need for success in this course!\n"
   ]
  },
  {
   "cell_type": "markdown",
   "metadata": {},
   "source": [
    "# Data types\n",
    "\n",
    "### Numbers"
   ]
  },
  {
   "cell_type": "code",
   "execution_count": null,
   "metadata": {},
   "outputs": [],
   "source": []
  },
  {
   "cell_type": "code",
   "execution_count": 4,
   "metadata": {},
   "outputs": [
    {
     "name": "stdout",
     "output_type": "stream",
     "text": [
      "5\n"
     ]
    }
   ],
   "source": [
    "# This is a comment. Python ignores comments, they are for explaining the code.\n",
    "# In Python, you can work with whole numbers called integers.\n",
    "# Let's assign an integer value to a variable and print it.\n",
    "\n",
    "my_integer = 5\n",
    "print(my_integer)  # This will print: 5\n"
   ]
  },
  {
   "cell_type": "code",
   "execution_count": null,
   "metadata": {},
   "outputs": [],
   "source": []
  },
  {
   "cell_type": "code",
   "execution_count": null,
   "metadata": {},
   "outputs": [],
   "source": []
  },
  {
   "cell_type": "markdown",
   "metadata": {},
   "source": [
    "### Example 2: Arithmetic Operations"
   ]
  },
  {
   "cell_type": "code",
   "execution_count": null,
   "metadata": {},
   "outputs": [],
   "source": [
    "# You can perform arithmetic operations on numbers.\n",
    "# Addition, subtraction, multiplication, and division are basic operations.\n",
    "\n",
    "num1 = 10\n",
    "num2 = 3\n",
    "\n",
    "add_result = num1 + num2\n",
    "sub_result = num1 - num2\n",
    "mul_result = num1 * num2\n",
    "div_result = num1 / num2\n",
    "\n",
    "print(add_result)  # This will print: 13\n",
    "print(sub_result)  # This will print: 7\n",
    "print(mul_result)  # This will print: 30\n",
    "print(div_result)  # This will print: 3.3333... (floating-point result)\n"
   ]
  },
  {
   "cell_type": "markdown",
   "metadata": {},
   "source": [
    "### Example 3: Floating-Point Numbers"
   ]
  },
  {
   "cell_type": "code",
   "execution_count": null,
   "metadata": {},
   "outputs": [],
   "source": [
    "# Python also supports decimal numbers known as floating-point numbers.\n",
    "\n",
    "my_float = 3.14\n",
    "print(my_float)  # This will print: 3.14\n",
    "\n",
    "result = 7 / 2\n",
    "print(result)    # This will print: 3.5 (floating-point result)"
   ]
  },
  {
   "cell_type": "markdown",
   "metadata": {},
   "source": [
    "### Topic #2: Number Conversion and Built-in Functions\n",
    "\n"
   ]
  },
  {
   "cell_type": "code",
   "execution_count": null,
   "metadata": {},
   "outputs": [],
   "source": [
    "# You can convert between integer and float using int() and float() functions.\n",
    "\n",
    "float_number = 7.8\n",
    "integer_number = int(float_number)  # Converts float to integer (decimal part is discarded)\n",
    "\n",
    "print(integer_number)  # This will print: 7\n",
    "\n",
    "int_number = 42\n",
    "float_number = float(int_number)    # Converts integer to float\n",
    "\n",
    "print(float_number)    # This will print: 42.0\n"
   ]
  },
  {
   "cell_type": "markdown",
   "metadata": {},
   "source": [
    "### Example 5: Built-in Math Functions\n",
    "\n"
   ]
  },
  {
   "cell_type": "code",
   "execution_count": null,
   "metadata": {},
   "outputs": [],
   "source": [
    "# Python provides built-in functions for various mathematical operations.\n",
    "\n",
    "import math\n",
    "\n",
    "sqrt_result = math.sqrt(25)         # Calculates square root\n",
    "power_result = math.pow(2, 3)       # Calculates 2 raised to the power of 3\n",
    "absolute_result = abs(-10)          # Calculates absolute value\n",
    "\n",
    "print(sqrt_result)      # This will print: 5.0\n",
    "print(power_result)     # This will print: 8.0\n",
    "print(absolute_result)  # This will print: 10\n"
   ]
  },
  {
   "cell_type": "markdown",
   "metadata": {},
   "source": [
    "### Example 6: More Arithmetic Operations\n",
    "\n"
   ]
  },
  {
   "cell_type": "code",
   "execution_count": null,
   "metadata": {},
   "outputs": [],
   "source": [
    "# You can also use other arithmetic operations like modulus (%) and exponentiation (**).\n",
    "\n",
    "num1 = 10\n",
    "num2 = 3\n",
    "\n",
    "mod_result = num1 % num2      # Calculates remainder after division\n",
    "exp_result = num1 ** num2     # Calculates num1 raised to the power of num2\n",
    "\n",
    "print(mod_result)  # This will print: 1\n",
    "print(exp_result)  # This will print: 1000\n"
   ]
  },
  {
   "cell_type": "code",
   "execution_count": null,
   "metadata": {},
   "outputs": [],
   "source": [
    "# Parentheses can be used to control the order of operations.\n",
    "\n",
    "result = 5 + 3 * 2          # Without parentheses, multiplication is done first\n",
    "print(result)  # This will print: 11\n",
    "\n",
    "result_with_parentheses = (5 + 3) * 2  # With parentheses, addition is done first\n",
    "print(result_with_parentheses)  # This will print: 16\n"
   ]
  },
  {
   "cell_type": "code",
   "execution_count": null,
   "metadata": {},
   "outputs": [],
   "source": [
    "# Python can handle operations involving integers and floats seamlessly.\n",
    "\n",
    "integer_value = 5\n",
    "float_value = 2.5\n",
    "\n",
    "mixed_result = integer_value + float_value\n",
    "print(mixed_result)  # This will print: 7.5\n"
   ]
  },
  {
   "cell_type": "code",
   "execution_count": null,
   "metadata": {},
   "outputs": [],
   "source": [
    "# If you want integer division that discards the remainder, use '//' operator.\n",
    "\n",
    "numerator = 10\n",
    "denominator = 3\n",
    "\n",
    "floor_result = numerator // denominator\n",
    "print(floor_result)  # This will print: 3\n"
   ]
  },
  {
   "cell_type": "code",
   "execution_count": null,
   "metadata": {},
   "outputs": [],
   "source": [
    "# You can increment or decrement a variable using shorthand operators.\n",
    "\n",
    "counter = 0\n",
    "\n",
    "counter += 1  # Increment by 1\n",
    "print(counter)  # This will print: 1\n",
    "\n",
    "counter -= 1  # Decrement by 1\n",
    "print(counter)  # This will print: 0\n"
   ]
  },
  {
   "cell_type": "code",
   "execution_count": null,
   "metadata": {},
   "outputs": [],
   "source": []
  },
  {
   "cell_type": "code",
   "execution_count": null,
   "metadata": {},
   "outputs": [],
   "source": []
  },
  {
   "cell_type": "markdown",
   "metadata": {},
   "source": [
    "### Variable Assignment"
   ]
  },
  {
   "cell_type": "code",
   "execution_count": null,
   "metadata": {},
   "outputs": [],
   "source": [
    "# Variables are used to store data. You can assign values to variables.\n",
    "\n",
    "age = 25\n",
    "name = \"Alice\"\n",
    "\n",
    "print(name)  # This will print: Alice\n",
    "print(age)   # This will print: 25\n"
   ]
  },
  {
   "cell_type": "code",
   "execution_count": null,
   "metadata": {},
   "outputs": [],
   "source": [
    "# You can assign the result of an expression to a variable.\n",
    "\n",
    "num1 = 10\n",
    "num2 = 3\n",
    "\n",
    "result = num1 + num2\n",
    "print(result)  # This will print: 13\n"
   ]
  },
  {
   "cell_type": "code",
   "execution_count": null,
   "metadata": {},
   "outputs": [],
   "source": [
    "# You can assign multiple variables in one line.\n",
    "\n",
    "x, y, z = 1, 2, 3\n",
    "print(x, y, z)  # This will print: 1 2 3\n"
   ]
  },
  {
   "cell_type": "code",
   "execution_count": null,
   "metadata": {},
   "outputs": [],
   "source": [
    "# You can use multiple assignment to swap values between variables.\n",
    "\n",
    "a = 5\n",
    "b = 10\n",
    "\n",
    "a, b = b, a\n",
    "print(a)  # This will print: 10\n",
    "print(b)  # This will print: 5\n"
   ]
  },
  {
   "cell_type": "code",
   "execution_count": null,
   "metadata": {},
   "outputs": [],
   "source": [
    "# Constants are variables whose value should not change. \n",
    "# By convention, constants are named using uppercase letters.\n",
    "\n",
    "PI = 3.14159\n",
    "GRAVITY = 9.81\n",
    "\n",
    "print(PI)      # This will print: 3.14159\n",
    "print(GRAVITY) # This will print: 9.81\n"
   ]
  },
  {
   "cell_type": "code",
   "execution_count": null,
   "metadata": {},
   "outputs": [],
   "source": [
    "# The random library can be used to generate random numbers.\n",
    "\n",
    "import random\n",
    "\n",
    "random_number = random.randint(1, 10)  # Generates a random integer between 1 and 10 (inclusive)\n",
    "print(random_number)\n"
   ]
  },
  {
   "cell_type": "code",
   "execution_count": null,
   "metadata": {},
   "outputs": [],
   "source": [
    "# Variables can be updated using their current values.\n",
    "\n",
    "count = 0\n",
    "count += 1  # Increment count by 1\n",
    "print(count)  # This will print: 1\n",
    "\n",
    "count *= 2  # Multiply count by 2\n",
    "print(count)  # This will print: 2\n"
   ]
  },
  {
   "cell_type": "code",
   "execution_count": null,
   "metadata": {},
   "outputs": [],
   "source": [
    "# You can concatenate (combine) strings using the + operator.\n",
    "\n",
    "first_name = \"John\"\n",
    "last_name = \"Doe\"\n",
    "\n",
    "full_name = first_name + \" \" + last_name\n",
    "print(full_name)  # This will print: John Doe\n"
   ]
  },
  {
   "cell_type": "code",
   "execution_count": null,
   "metadata": {},
   "outputs": [],
   "source": [
    "# You can use the input() function to get user input and store it in a variable.\n",
    "\n",
    "name = input(\"Enter your name: \")\n",
    "print(\"Hello, \" + name + \"!\")\n"
   ]
  },
  {
   "cell_type": "code",
   "execution_count": null,
   "metadata": {},
   "outputs": [],
   "source": [
    "# You can use string formatting to insert variables into strings.\n",
    "\n",
    "age = 30\n",
    "message = \"I am {} years old.\".format(age)\n",
    "print(message)  # This will print: I am 30 years old.\n"
   ]
  },
  {
   "cell_type": "code",
   "execution_count": null,
   "metadata": {},
   "outputs": [],
   "source": [
    "# Boolean variables can only hold True or False values.\n",
    "\n",
    "is_raining = True\n",
    "is_sunny = False\n",
    "\n",
    "print(is_raining)  # This will print: True\n",
    "print(is_sunny)    # This will print: False\n"
   ]
  },
  {
   "cell_type": "code",
   "execution_count": 8,
   "metadata": {},
   "outputs": [
    {
     "name": "stdout",
     "output_type": "stream",
     "text": [
      "Enter a number: 3.4\n",
      "Count is now: 3\n"
     ]
    }
   ],
   "source": [
    "# You can update a variable's value based on user input.\n",
    "\n",
    "count = 0\n",
    "user_input = int(float(input(\"Enter a number: \")))\n",
    "count += user_input\n",
    "print(\"Count is now:\", count)\n"
   ]
  },
  {
   "cell_type": "code",
   "execution_count": null,
   "metadata": {},
   "outputs": [],
   "source": [
    "# You can convert data types using built-in functions.\n",
    "\n",
    "number_str = \"42\"\n",
    "number_int = int(number_str)   # Convert string to integer\n",
    "\n",
    "float_str = \"3.14\"\n",
    "float_num = float(float_str)   # Convert string to float\n",
    "\n",
    "print(number_int)  # This will print: 42\n",
    "print(float_num)   # This will print: 3.14\n"
   ]
  },
  {
   "cell_type": "code",
   "execution_count": null,
   "metadata": {},
   "outputs": [],
   "source": [
    "# You can use the None value to represent an absence of value.\n",
    "\n",
    "unavailable_data = None\n",
    "print(unavailable_data)  # This will print: None\n"
   ]
  },
  {
   "cell_type": "markdown",
   "metadata": {},
   "source": [
    "### Strings"
   ]
  },
  {
   "cell_type": "code",
   "execution_count": null,
   "metadata": {},
   "outputs": [],
   "source": [
    "# Strings are sequences of characters. You can create and print strings.\n",
    "\n",
    "message = \"Hello, Python!\"\n",
    "print(message)  # This will print: Hello, Python!\n"
   ]
  },
  {
   "cell_type": "code",
   "execution_count": null,
   "metadata": {},
   "outputs": [],
   "source": [
    "# You can concatenate strings using the + operator.\n",
    "\n",
    "first_name = \"John\"\n",
    "last_name = \"Doe\"\n",
    "\n",
    "full_name = first_name + \" \" + last_name\n",
    "print(full_name)  # This will print: John Doe\n"
   ]
  },
  {
   "cell_type": "code",
   "execution_count": null,
   "metadata": {},
   "outputs": [],
   "source": [
    "# You can find the length of a string using the len() function.\n",
    "\n",
    "text = \"Hello, world!\"\n",
    "length = len(text)\n",
    "print(length)  # This will print: 13\n"
   ]
  },
  {
   "cell_type": "code",
   "execution_count": null,
   "metadata": {},
   "outputs": [],
   "source": [
    "# Strings are sequences, and you can access individual characters using indexing.\n",
    "\n",
    "message = \"Hello, Python!\"\n",
    "first_char = message[0]   # Indexing starts at 0\n",
    "print(first_char)  # This will print: H\n"
   ]
  },
  {
   "cell_type": "code",
   "execution_count": null,
   "metadata": {},
   "outputs": [],
   "source": [
    "# You can extract a portion of a string using slicing.\n",
    "\n",
    "text = \"Python Programming\"\n",
    "substring = text[7:16]  # Slicing includes the starting index but excludes the ending index\n",
    "print(substring)  # This will print: Programming\n"
   ]
  },
  {
   "cell_type": "code",
   "execution_count": null,
   "metadata": {},
   "outputs": [],
   "source": [
    "# Strings have many built-in methods for various operations.\n",
    "\n",
    "text = \"    Hello, Python!    \"\n",
    "trimmed_text = text.strip()     # Remove leading and trailing whitespace\n",
    "upper_text = text.upper()       # Convert to uppercase\n",
    "lower_text = text.lower()       # Convert to lowercase\n",
    "replace_text = text.replace(\"Python\", \"Java\")  # Replace substring\n",
    "\n",
    "print(trimmed_text)   # This will print: Hello, Python!\n",
    "print(upper_text)     # This will print:     HELLO, PYTHON!\n",
    "print(lower_text)     # This will print:     hello, python!\n",
    "print(replace_text)   # This will print:     Hello, Java!\n"
   ]
  },
  {
   "cell_type": "code",
   "execution_count": null,
   "metadata": {},
   "outputs": [],
   "source": [
    "# You can count the occurrences of a substring within a string.\n",
    "\n",
    "text = \"Hello, hello, hello!\"\n",
    "count = text.count(\"hello\")\n",
    "print(count)  # This will print: 3\n"
   ]
  },
  {
   "cell_type": "code",
   "execution_count": null,
   "metadata": {},
   "outputs": [],
   "source": [
    "# You can find the index of the first occurrence of a substring.\n",
    "\n",
    "sentence = \"Python programming is fun\"\n",
    "index = sentence.find(\"programming\")\n",
    "print(index)  # This will print: 7\n"
   ]
  },
  {
   "cell_type": "code",
   "execution_count": null,
   "metadata": {},
   "outputs": [],
   "source": [
    "# You can capitalize the first letter of a string or convert it to title case.\n",
    "\n",
    "word = \"hello\"\n",
    "capitalized_word = word.capitalize()  # Capitalize the first letter\n",
    "title_case_word = word.title()         # Convert to title case\n",
    "\n",
    "print(capitalized_word)  # This will print: Hello\n",
    "print(title_case_word)   # This will print: Hello\n"
   ]
  },
  {
   "cell_type": "code",
   "execution_count": null,
   "metadata": {},
   "outputs": [],
   "source": [
    "# You can join strings from a list into a single string using a separator.\n",
    "\n",
    "fruits = [\"apple\", \"banana\", \"orange\"]\n",
    "joined_string = \", \".join(fruits)  # Join with a comma and space separator\n",
    "\n",
    "print(joined_string)  # This will print: apple, banana, orange\n"
   ]
  },
  {
   "cell_type": "code",
   "execution_count": null,
   "metadata": {},
   "outputs": [],
   "source": []
  },
  {
   "cell_type": "code",
   "execution_count": null,
   "metadata": {},
   "outputs": [],
   "source": []
  },
  {
   "cell_type": "code",
   "execution_count": null,
   "metadata": {},
   "outputs": [],
   "source": [
    "# You can format strings using f-strings.\n",
    "\n",
    "name = \"Alice\"\n",
    "age = 30\n",
    "formatted_string = f\"My name is {name} and I am {age} years old.\"\n",
    "print(formatted_string)\n"
   ]
  },
  {
   "cell_type": "code",
   "execution_count": null,
   "metadata": {},
   "outputs": [],
   "source": [
    "# You can format numbers within f-strings using various formatting options.\n",
    "\n",
    "pi = 3.14159265359\n",
    "\n",
    "formatted_pi = f\"The value of pi is {pi:.2f}\"  # Format pi to 2 decimal places\n",
    "print(formatted_pi)  # This will print: The value of pi is 3.14\n",
    "\n",
    "percentage = 0.75\n",
    "\n",
    "formatted_percentage = f\"The percentage is {percentage:.1%}\"  # Format as percentage\n",
    "print(formatted_percentage)  # This will print: The percentage is 75.0%\n"
   ]
  },
  {
   "cell_type": "code",
   "execution_count": null,
   "metadata": {},
   "outputs": [],
   "source": [
    "'''\n",
    "This is a multi-line comment.\n",
    "It can span multiple lines.\n",
    "Use triple quotes to start and end the comment block.\n",
    "'''\n",
    "\n",
    "\"\"\"\n",
    "This is another way to write a multi-line comment.\n",
    "It also spans multiple lines.\n",
    "\"\"\"\n"
   ]
  },
  {
   "cell_type": "code",
   "execution_count": null,
   "metadata": {},
   "outputs": [],
   "source": [
    "# You can align and pad variables within f-strings.\n",
    "'''\n",
    "Align: In the f-string, the name variable is aligned to the left with a width of 10 characters using the < alignment specifier.\n",
    "This means that the text \"Alice\" will be placed to the left of a field with a total width of 10 characters,\n",
    "and any extra space to reach the width of 10 characters will be filled with spaces.\n",
    "\n",
    "Pad: In the f-string, the age variable is padded with spaces to the left to achieve a total width of\n",
    "3 characters using the > alignment specifier. \n",
    "This means that the number \"30\" will be placed to the right of a field with a total width of 3 characters,\n",
    "and any extra space to reach the width of 3 characters will be filled with spaces.\n",
    "'''\n",
    "\n",
    "name = \"Alice\"\n",
    "age = 30\n",
    "\n",
    "formatted_info = f\"Name: {name:<10} | Age: {age:>3}\"  # Align and pad\n",
    "print(formatted_info)\n"
   ]
  },
  {
   "cell_type": "code",
   "execution_count": null,
   "metadata": {},
   "outputs": [],
   "source": [
    "# You can check if a substring exists within a string.\n",
    "\n",
    "text = \"Python is great!\"\n",
    "contains_python = \"Python\" in text\n",
    "print(contains_python)  # This will print: True\n"
   ]
  },
  {
   "cell_type": "code",
   "execution_count": null,
   "metadata": {},
   "outputs": [],
   "source": [
    "# You can split a string into a list of substrings using the split() method.\n",
    "\n",
    "sentence = \"Python programming is fun\"\n",
    "words = sentence.split()  # Split by spaces\n",
    "print(words)  # This will print: ['Python', 'programming', 'is', 'fun']\n"
   ]
  },
  {
   "cell_type": "code",
   "execution_count": null,
   "metadata": {},
   "outputs": [],
   "source": [
    "# The `re` library can be used for working with regular expressions.\n",
    "\n",
    "import re\n",
    "\n",
    "text = \"The phone number is 123-456-7890\"\n",
    "pattern = r'\\d{3}-\\d{3}-\\d{4}'  # Regular expression pattern for a phone number\n",
    "match = re.search(pattern, text)\n",
    "if match:\n",
    "    phone_number = match.group()\n",
    "    print(\"Phone number:\", phone_number)\n",
    "else:\n",
    "    print(\"No phone number found.\")\n"
   ]
  },
  {
   "cell_type": "code",
   "execution_count": null,
   "metadata": {},
   "outputs": [],
   "source": []
  },
  {
   "cell_type": "markdown",
   "metadata": {},
   "source": [
    "1. **Bold Text**: To make certain words bold, use double asterisks ** or double underscores __ around the text you want to bold.\n",
    "\n",
    "2. *Italics*: To italicize words, use single asterisk * or single underscore _ around the text you want to italicize.\n",
    "\n",
    "3. Bulleted List: To create a bulleted list, use an asterisk *, plus +, or a hyphen - followed by a space at the beginning of each line.\n",
    "\n",
    "4. Numbered List: To create a numbered list, use numbers followed by a period and a space at the beginning of each line.\n",
    "\n",
    "5. Mixed Formatting: You can combine different formatting styles in a single text cell."
   ]
  },
  {
   "cell_type": "markdown",
   "metadata": {},
   "source": [
    "### Printing"
   ]
  },
  {
   "cell_type": "markdown",
   "metadata": {
    "collapsed": true
   },
   "source": [
    "The **print()** function in Python is used to display information or output to the console.\n",
    "It's a fundamental tool for communicating with users and debugging your code. \n",
    "Here are several examples demonstrating different aspects of using the print() function, including formatting options and using different libraries:"
   ]
  },
  {
   "cell_type": "code",
   "execution_count": null,
   "metadata": {},
   "outputs": [],
   "source": [
    "# You can print text and variables using the print() function.\n",
    "\n",
    "name = \"Alice\"\n",
    "age = 30\n",
    "\n",
    "print(\"Hello, \" + name + \"! You are\", age, \"years old.\")\n"
   ]
  },
  {
   "cell_type": "code",
   "execution_count": null,
   "metadata": {},
   "outputs": [],
   "source": [
    "# You can use f-strings to format and display variables within a string.\n",
    "\n",
    "x = 5\n",
    "y = 10\n",
    "\n",
    "print(f\"The value of x is {x} and y is {y}.\")\n"
   ]
  },
  {
   "cell_type": "code",
   "execution_count": null,
   "metadata": {},
   "outputs": [],
   "source": [
    "# The print() function can take multiple arguments and automatically adds spaces between them.\n",
    "\n",
    "animal = \"cat\"\n",
    "sound = \"meow\"\n",
    "\n",
    "print(\"The\", animal, \"makes a\", sound, \"sound.\")\n"
   ]
  },
  {
   "cell_type": "code",
   "execution_count": null,
   "metadata": {},
   "outputs": [],
   "source": [
    "# You can specify a separator between arguments and the end character for the print statement.\n",
    "\n",
    "print(\"Python\", \"is\", \"fun\", sep=\"-\")  # Separate with hyphen\n",
    "print(\"Hello\", end=\" \")               # Print on the same line\n",
    "print(\"World!\")\n"
   ]
  },
  {
   "cell_type": "code",
   "execution_count": null,
   "metadata": {},
   "outputs": [],
   "source": [
    "# You can redirect the output of the print() function to a file.\n",
    "\n",
    "with open(\"output.txt\", \"w\") as f:\n",
    "    print(\"This will be written to the file.\", file=f)\n"
   ]
  },
  {
   "cell_type": "code",
   "execution_count": 2,
   "metadata": {},
   "outputs": [
    {
     "name": "stdout",
     "output_type": "stream",
     "text": [
      "{'age': 30, 'city': 'New York', 'name': 'Alice'}\n"
     ]
    }
   ],
   "source": [
    "# The pprint module helps print complex data structures in a more readable way.\n",
    "\n",
    "import pprint\n",
    "\n",
    "data = {'name': 'Alice', 'age': 30, 'city': 'New York'}\n",
    "pprint.pprint(data)\n"
   ]
  },
  {
   "cell_type": "code",
   "execution_count": 3,
   "metadata": {},
   "outputs": [
    {
     "name": "stdout",
     "output_type": "stream",
     "text": [
      "This will be written to the file.\n",
      "\n"
     ]
    }
   ],
   "source": [
    "# You can print to different file objects, not just the console.\n",
    "\n",
    "with open(\"output.txt\", \"w\") as f:\n",
    "    print(\"This will be written to the file.\", file=f)\n",
    "\n",
    "with open(\"output.txt\", \"r\") as f:\n",
    "    content = f.read()\n",
    "    print(content)\n"
   ]
  },
  {
   "cell_type": "markdown",
   "metadata": {},
   "source": [
    "### Lists"
   ]
  },
  {
   "cell_type": "markdown",
   "metadata": {},
   "source": [
    "## Lists in Python\n",
    "\n",
    "A **list** is a fundamental data structure in Python that allows you to store and manage collections of items. Lists are ordered, mutable (modifiable), and can contain elements of different data types. Lists are enclosed in square brackets `[]` and each item is separated by a comma.\n",
    "\n",
    "Lists are versatile and widely used in various programming tasks, including data science, due to their ability to hold and manipulate data efficiently.\n",
    "\n",
    "### Common Built-in List Methods for Data Science\n",
    "\n",
    "1. **`append(item)`**: Adds an element to the end of the list.\n",
    "\n",
    "2. **`extend(iterable)`**: Adds all elements of an iterable (e.g., another list) to the end of the list.\n",
    "\n",
    "3. **`insert(index, item)`**: Inserts an element at a specified index.\n",
    "\n",
    "4. **`remove(item)`**: Removes the first occurrence of the specified element.\n",
    "\n",
    "5. **`pop(index)`**: Removes and returns the element at the specified index.\n",
    "\n",
    "6. **`index(item)`**: Returns the index of the first occurrence of the specified element.\n",
    "\n",
    "7. **`count(item)`**: Returns the number of occurrences of the specified element.\n",
    "\n",
    "8. **`sort()`**: Sorts the elements of the list in ascending order.\n",
    "\n",
    "9. **`reverse()`**: Reverses the order of elements in the list.\n",
    "\n",
    "10. **`copy()`**: Creates a shallow copy of the list.\n",
    "\n",
    "11. **`clear()`**: Removes all elements from the list.\n",
    "\n",
    "12. **`len()`**: Returns the number of elements in the list.\n",
    "\n",
    "13. **`sum()`**: Returns the sum of all elements in the list (if all elements are numeric).\n",
    "\n",
    "14. **`max()`**: Returns the maximum value from the list (if all elements are numeric).\n",
    "\n",
    "15. **`min()`**: Returns the minimum value from the list (if all elements are numeric).\n",
    "\n",
    "16. **`index(item, start, end)`**: Returns the index of the first occurrence of the specified element within the specified range.\n",
    "\n",
    "17. **`pop()`**: Removes and returns the last element of the list.\n",
    "\n",
    "18. **`join(iterable)`**: Joins the elements of the list into a string using the specified separator.\n",
    "\n",
    "### Applications of Lists\n",
    "\n",
    "Lists have various applications in data science:\n",
    "\n",
    "- **Data Storage**: Lists are used to store data sets, such as time series or lists of values.\n",
    "\n",
    "- **Data Manipulation**: Lists provide methods to add, remove, sort, and modify elements, making data manipulation efficient.\n",
    "\n",
    "- **Iteration**: Lists are often iterated through in loops to analyze or process each element.\n",
    "\n",
    "- **Data Transformation**: Lists can be transformed using list comprehensions or other techniques.\n",
    "\n",
    "- **Feature Representation**: Lists can be used to represent categorical or nominal features.\n",
    "\n",
    "- **Model Evaluation**: Lists can store prediction results or evaluation metrics.\n",
    "\n"
   ]
  },
  {
   "cell_type": "code",
   "execution_count": null,
   "metadata": {},
   "outputs": [],
   "source": [
    "# Lists are created by enclosing items in square brackets.\n",
    "\n",
    "fruits = [\"apple\", \"banana\", \"orange\"]\n"
   ]
  },
  {
   "cell_type": "code",
   "execution_count": null,
   "metadata": {},
   "outputs": [],
   "source": [
    "# You can access elements in a list using indexing.\n",
    "\n",
    "print(fruits[0])  # This will print: apple\n",
    "print(fruits[1])  # This will print: banana\n"
   ]
  },
  {
   "cell_type": "code",
   "execution_count": null,
   "metadata": {},
   "outputs": [],
   "source": [
    "# You can extract a portion of a list using slicing.\n",
    "\n",
    "print(fruits[1:3])  # This will print: ['banana', 'orange']\n"
   ]
  },
  {
   "cell_type": "code",
   "execution_count": null,
   "metadata": {},
   "outputs": [],
   "source": [
    "# You can modify elements in a list using indexing.\n",
    "\n",
    "fruits[0] = \"kiwi\"\n",
    "print(fruits)  # This will print: ['kiwi', 'banana', 'orange']\n"
   ]
  },
  {
   "cell_type": "code",
   "execution_count": null,
   "metadata": {},
   "outputs": [],
   "source": [
    "# You can add elements to a list using the append() method.\n",
    "\n",
    "fruits.append(\"grape\")\n",
    "print(fruits)  # This will print: ['kiwi', 'banana', 'orange', 'grape']\n"
   ]
  },
  {
   "cell_type": "code",
   "execution_count": null,
   "metadata": {},
   "outputs": [],
   "source": [
    "# You can remove elements from a list using the remove() method.\n",
    "\n",
    "fruits.remove(\"banana\")\n",
    "print(fruits)  # This will print: ['kiwi', 'orange', 'grape']\n"
   ]
  },
  {
   "cell_type": "code",
   "execution_count": null,
   "metadata": {},
   "outputs": [],
   "source": [
    "# You can find the number of elements in a list using the len() function.\n",
    "\n",
    "length = len(fruits)\n",
    "print(length)  # This will print: 3\n"
   ]
  },
  {
   "cell_type": "code",
   "execution_count": null,
   "metadata": {},
   "outputs": [],
   "source": [
    "# You can check if an element exists in a list using the 'in' keyword.\n",
    "\n",
    "if \"apple\" in fruits:\n",
    "    print(\"Apple is in the list.\")\n",
    "else:\n",
    "    print(\"Apple is not in the list.\")\n"
   ]
  },
  {
   "cell_type": "code",
   "execution_count": null,
   "metadata": {},
   "outputs": [],
   "source": [
    "# You can use a for loop to iterate through the elements of a list.\n",
    "\n",
    "for fruit in fruits:\n",
    "    print(fruit)\n"
   ]
  },
  {
   "cell_type": "code",
   "execution_count": null,
   "metadata": {},
   "outputs": [],
   "source": [
    "# You can use the + operator to concatenate two lists.\n",
    "\n",
    "more_fruits = [\"pear\", \"pineapple\"]\n",
    "all_fruits = fruits + more_fruits\n",
    "print(all_fruits)\n"
   ]
  },
  {
   "cell_type": "code",
   "execution_count": null,
   "metadata": {},
   "outputs": [],
   "source": [
    "# You can reverse the order of elements in a list using the reverse() method.\n",
    "\n",
    "fruits.reverse()\n",
    "print(fruits)\n"
   ]
  },
  {
   "cell_type": "code",
   "execution_count": null,
   "metadata": {},
   "outputs": [],
   "source": [
    "# You can sort the elements of a list using the sort() method.\n",
    "\n",
    "fruits.sort()\n",
    "print(fruits)\n"
   ]
  },
  {
   "cell_type": "code",
   "execution_count": null,
   "metadata": {},
   "outputs": [],
   "source": [
    "# You can create a copy of a list using the copy() method.\n",
    "\n",
    "fruits_copy = fruits.copy()\n",
    "print(fruits_copy)\n"
   ]
  },
  {
   "cell_type": "code",
   "execution_count": null,
   "metadata": {},
   "outputs": [],
   "source": [
    "# You can remove all elements from a list using the clear() method.\n",
    "\n",
    "fruits.clear()\n",
    "print(fruits)  # This will print: []\n"
   ]
  },
  {
   "cell_type": "code",
   "execution_count": null,
   "metadata": {},
   "outputs": [],
   "source": [
    "# List comprehensions are a concise way to create lists.\n",
    "\n",
    "numbers = [x for x in range(1, 6)]\n",
    "print(numbers)  # This will print: [1, 2, 3, 4, 5]\n"
   ]
  },
  {
   "cell_type": "code",
   "execution_count": null,
   "metadata": {},
   "outputs": [],
   "source": [
    "# You can find the index of an element in a list using the index() method.\n",
    "\n",
    "index = fruits_copy.index(\"orange\")\n",
    "print(index)  # This will print: 1\n"
   ]
  },
  {
   "cell_type": "code",
   "execution_count": null,
   "metadata": {},
   "outputs": [],
   "source": [
    "# You can count how many times an element appears in a list using the count() method.\n",
    "\n",
    "count = fruits_copy.count(\"orange\")\n",
    "print(count)  # This will print: 1\n"
   ]
  },
  {
   "cell_type": "code",
   "execution_count": null,
   "metadata": {},
   "outputs": [],
   "source": [
    "# You can use the random module to shuffle a list randomly.\n",
    "\n",
    "import random\n",
    "\n",
    "random.shuffle(fruits_copy)\n",
    "print(fruits_copy)\n"
   ]
  },
  {
   "cell_type": "code",
   "execution_count": null,
   "metadata": {},
   "outputs": [],
   "source": [
    "# You can use the pop() method to remove and return an element from a list.\n",
    "\n",
    "removed_item = fruits_copy.pop()\n",
    "print(removed_item)\n",
    "print(fruits_copy)\n"
   ]
  },
  {
   "cell_type": "code",
   "execution_count": null,
   "metadata": {},
   "outputs": [],
   "source": [
    "# You can use membership operators to check if an element exists in a list.\n",
    "\n",
    "if \"kiwi\" in fruits_copy:\n",
    "    print(\"Kiwi is in the list.\")\n",
    "else:\n",
    "    print(\"Kiwi is not in the list.\")\n"
   ]
  },
  {
   "cell_type": "code",
   "execution_count": null,
   "metadata": {},
   "outputs": [],
   "source": [
    "fruits = [\"apple\", \"banana\"]\n",
    "fruits.append(\"orange\")\n",
    "print(fruits)  # Output: ['apple', 'banana', 'orange']\n"
   ]
  },
  {
   "cell_type": "code",
   "execution_count": null,
   "metadata": {},
   "outputs": [],
   "source": [
    "fruits = [\"apple\", \"banana\"]\n",
    "more_fruits = [\"orange\", \"grape\"]\n",
    "fruits.extend(more_fruits)\n",
    "print(fruits)  # Output: ['apple', 'banana', 'orange', 'grape']\n"
   ]
  },
  {
   "cell_type": "code",
   "execution_count": null,
   "metadata": {},
   "outputs": [],
   "source": [
    "fruits = [\"apple\", \"banana\", \"orange\"]\n",
    "fruits.insert(1, \"kiwi\")\n",
    "print(fruits)  # Output: ['apple', 'kiwi', 'banana', 'orange']\n"
   ]
  },
  {
   "cell_type": "code",
   "execution_count": null,
   "metadata": {},
   "outputs": [],
   "source": [
    "fruits = [\"apple\", \"banana\", \"orange\"]\n",
    "fruits.remove(\"banana\")\n",
    "print(fruits)  # Output: ['apple', 'orange']\n"
   ]
  },
  {
   "cell_type": "code",
   "execution_count": null,
   "metadata": {},
   "outputs": [],
   "source": [
    "fruits = [\"apple\", \"banana\", \"orange\"]\n",
    "removed_fruit = fruits.pop(1)\n",
    "print(removed_fruit)  # Output: 'banana'\n",
    "print(fruits)         # Output: ['apple', 'orange']\n"
   ]
  },
  {
   "cell_type": "code",
   "execution_count": null,
   "metadata": {},
   "outputs": [],
   "source": [
    "fruits = [\"apple\", \"banana\", \"orange\"]\n",
    "index = fruits.index(\"banana\")\n",
    "print(index)  # Output: 1\n"
   ]
  },
  {
   "cell_type": "code",
   "execution_count": null,
   "metadata": {},
   "outputs": [],
   "source": [
    "fruits = [\"apple\", \"banana\", \"banana\", \"orange\"]\n",
    "count = fruits.count(\"banana\")\n",
    "print(count)  # Output: 2\n"
   ]
  },
  {
   "cell_type": "code",
   "execution_count": null,
   "metadata": {},
   "outputs": [],
   "source": [
    "fruits = [\"orange\", \"apple\", \"banana\"]\n",
    "fruits.sort()\n",
    "print(fruits)  # Output: ['apple', 'banana', 'orange']\n"
   ]
  },
  {
   "cell_type": "code",
   "execution_count": null,
   "metadata": {},
   "outputs": [],
   "source": [
    "fruits = [\"apple\", \"banana\", \"orange\"]\n",
    "fruits.reverse()\n",
    "print(fruits)  # Output: ['orange', 'banana', 'apple']\n"
   ]
  },
  {
   "cell_type": "code",
   "execution_count": null,
   "metadata": {},
   "outputs": [],
   "source": [
    "fruits = [\"apple\", \"banana\"]\n",
    "fruits_copy = fruits.copy()\n",
    "print(fruits_copy)  # Output: ['apple', 'banana']\n"
   ]
  },
  {
   "cell_type": "code",
   "execution_count": null,
   "metadata": {},
   "outputs": [],
   "source": []
  },
  {
   "cell_type": "markdown",
   "metadata": {},
   "source": [
    "### Dictionaries"
   ]
  },
  {
   "cell_type": "markdown",
   "metadata": {},
   "source": [
    "## Dictionaries in Python\n",
    "\n",
    "A **dictionary** is a versatile data structure that stores data as key-value pairs. Each key is unique and maps to a value. Dictionaries are enclosed in curly braces `{}`. They are often used when you need to associate data with specific keys for efficient retrieval.\n",
    "\n",
    "### Common Dictionary Built-in Functions\n",
    "\n",
    "1. **`keys()`**: Returns a view of dictionary keys.\n",
    "2. **`values()`**: Returns a view of dictionary values.\n",
    "3. **`items()`**: Returns a view of key-value pairs.\n",
    "4. **`get(key, default)`**: Retrieves the value for a key with an optional default value.\n",
    "5. **`copy()`**: Creates a shallow copy of the dictionary.\n",
    "6. **`clear()`**: Removes all key-value pairs from the dictionary.\n",
    "7. **`update(dictionary)`**: Merges the dictionary with another dictionary.\n",
    "8. **`pop(key)`**: Removes and returns the value associated with a key.\n",
    "9. **`setdefault(key, default)`**: Sets a default value for a key if not present.\n",
    "10. **`popitem()`**: Removes and returns an arbitrary key-value pair.\n",
    "11. **`fromkeys(keys, value)`**: Creates a new dictionary with specified keys and a common value.\n",
    "\n",
    "Dictionaries are widely used for tasks like storing settings, mapping identifiers to values, and managing data with meaningful associations.\n"
   ]
  },
  {
   "cell_type": "code",
   "execution_count": null,
   "metadata": {},
   "outputs": [],
   "source": [
    "# Create a dictionary to store book information.\n",
    "book = {\n",
    "    \"title\": \"Python Crash Course\",\n",
    "    \"author\": \"Eric Matthes\",\n",
    "    \"year\": 2015\n",
    "}\n"
   ]
  },
  {
   "cell_type": "code",
   "execution_count": null,
   "metadata": {},
   "outputs": [],
   "source": [
    "# Access the author's name from the book dictionary.\n",
    "author = book[\"author\"]\n",
    "print(f\"The author of the book is {author}.\")\n"
   ]
  },
  {
   "cell_type": "code",
   "execution_count": null,
   "metadata": {},
   "outputs": [],
   "source": [
    "# Update the year in the book dictionary.\n",
    "book[\"year\"] = 2021\n",
    "print(f\"The book was published in {book['year']}.\")\n"
   ]
  },
  {
   "cell_type": "code",
   "execution_count": null,
   "metadata": {},
   "outputs": [],
   "source": [
    "# Add a new key-value pair for the genre in the book dictionary.\n",
    "book[\"genre\"] = \"Programming\"\n",
    "print(book)\n"
   ]
  },
  {
   "cell_type": "code",
   "execution_count": null,
   "metadata": {},
   "outputs": [],
   "source": [
    "# Remove the year key-value pair from the book dictionary.\n",
    "del book[\"year\"]\n",
    "print(book)\n"
   ]
  },
  {
   "cell_type": "code",
   "execution_count": null,
   "metadata": {},
   "outputs": [],
   "source": [
    "# Check if a key exists in the book dictionary.\n",
    "if \"title\" in book:\n",
    "    print(\"The 'title' key exists in the dictionary.\")\n"
   ]
  },
  {
   "cell_type": "code",
   "execution_count": null,
   "metadata": {},
   "outputs": [],
   "source": [
    "# Get lists of keys and values from the book dictionary.\n",
    "keys = book.keys()\n",
    "values = book.values()\n",
    "print(keys)\n",
    "print(values)\n"
   ]
  },
  {
   "cell_type": "code",
   "execution_count": null,
   "metadata": {},
   "outputs": [],
   "source": [
    "# Iterate through key-value pairs in the book dictionary.\n",
    "for key, value in book.items():\n",
    "    print(f\"{key}: {value}\")\n"
   ]
  },
  {
   "cell_type": "code",
   "execution_count": null,
   "metadata": {},
   "outputs": [],
   "source": [
    "# Retrieve a value using get() with a default value.\n",
    "publisher = book.get(\"publisher\", \"Unknown\")\n",
    "print(f\"The publisher of the book is {publisher}.\")\n"
   ]
  },
  {
   "cell_type": "code",
   "execution_count": 5,
   "metadata": {},
   "outputs": [
    {
     "name": "stdout",
     "output_type": "stream",
     "text": [
      "95.5\n",
      "0.0\n"
     ]
    }
   ],
   "source": [
    "#Using Defaultdict for Default Values\n",
    "from collections import defaultdict\n",
    "\n",
    "grades = defaultdict(float)\n",
    "grades[\"Alice\"] = 95.5\n",
    "print(grades[\"Alice\"])  # Output: 95.5\n",
    "print(grades[\"Bob\"])    # Output: 0.0 (default value)\n"
   ]
  },
  {
   "cell_type": "code",
   "execution_count": null,
   "metadata": {},
   "outputs": [],
   "source": [
    "# Create a dictionary with nested dictionaries.\n",
    "contacts = {\n",
    "    \"Alice\": {\"phone\": \"123-456-7890\", \"email\": \"alice@example.com\"},\n",
    "    \"Bob\": {\"phone\": \"987-654-3210\", \"email\": \"bob@example.com\"}\n",
    "}\n",
    "print(contacts[\"Alice\"][\"email\"])\n"
   ]
  },
  {
   "cell_type": "code",
   "execution_count": null,
   "metadata": {},
   "outputs": [],
   "source": [
    "# Create a shallow copy of the book dictionary.\n",
    "book_copy = book.copy()\n",
    "print(book_copy)\n"
   ]
  },
  {
   "cell_type": "code",
   "execution_count": null,
   "metadata": {},
   "outputs": [],
   "source": [
    "# Clear all key-value pairs from the book dictionary.\n",
    "book.clear()\n",
    "print(book)\n"
   ]
  },
  {
   "cell_type": "code",
   "execution_count": null,
   "metadata": {},
   "outputs": [],
   "source": [
    "# Merge address dictionary into the contacts dictionary.\n",
    "address = {\"city\": \"Los Angeles\", \"zipcode\": \"90001\"}\n",
    "contacts.update(address)\n",
    "print(contacts)\n"
   ]
  },
  {
   "cell_type": "code",
   "execution_count": null,
   "metadata": {},
   "outputs": [],
   "source": [
    "# Remove and return the email address of Alice from the contacts dictionary.\n",
    "alice_email = contacts.pop(\"Alice\")[\"email\"]\n",
    "print(alice_email)\n",
    "print(contacts)\n"
   ]
  },
  {
   "cell_type": "code",
   "execution_count": null,
   "metadata": {},
   "outputs": [],
   "source": [
    "# Set a default value for the phone number of Carol in the contacts dictionary.\n",
    "contacts.setdefault(\"Carol\", {}).setdefault(\"phone\", \"Unknown\")\n",
    "print(contacts)\n"
   ]
  },
  {
   "cell_type": "code",
   "execution_count": null,
   "metadata": {},
   "outputs": [],
   "source": [
    "# Convert the contacts dictionary to a list of tuples and back to a dictionary.\n",
    "contacts_as_list = list(contacts.items())\n",
    "contacts_as_dict = dict(contacts_as_list)\n",
    "print(contacts_as_list)\n",
    "print(contacts_as_dict)\n"
   ]
  },
  {
   "cell_type": "code",
   "execution_count": null,
   "metadata": {},
   "outputs": [],
   "source": [
    "# Remove and return an arbitrary key-value pair from the contacts dictionary.\n",
    "arbitrary_pair = contacts.popitem()\n",
    "print(arbitrary_pair)\n",
    "print(contacts)\n"
   ]
  },
  {
   "cell_type": "code",
   "execution_count": null,
   "metadata": {},
   "outputs": [],
   "source": [
    "# Create a new dictionary with default values for keys from a list.\n",
    "keys = [\"a\", \"b\", \"c\"]\n",
    "default_value = 0\n",
    "new_dict = dict.fromkeys(keys, default_value)\n",
    "print(new_dict)\n"
   ]
  },
  {
   "cell_type": "code",
   "execution_count": null,
   "metadata": {},
   "outputs": [],
   "source": [
    "# Find the maximum and minimum keys and values in the new_dict dictionary.\n",
    "max_key = max(new_dict.keys())\n",
    "min_value = min(new_dict.values())\n",
    "print(f\"Maximum key: {max_key}\")\n",
    "print(f\"Minimum value: {min_value}\")\n"
   ]
  },
  {
   "cell_type": "code",
   "execution_count": null,
   "metadata": {},
   "outputs": [],
   "source": []
  },
  {
   "cell_type": "markdown",
   "metadata": {},
   "source": [
    "### Booleans"
   ]
  },
  {
   "cell_type": "markdown",
   "metadata": {},
   "source": [
    "## Booleans in Python\n",
    "\n",
    "A **boolean** is a data type in Python that represents one of two possible values: `True` or `False`. Booleans are often used in programming to make decisions, create conditions, and control the flow of code execution.\n",
    "\n",
    "Booleans are fundamental for logic operations, comparisons, and conditional statements. They allow you to express whether a statement is true or false, which is essential for writing dynamic and interactive programs.\n",
    "\n",
    "### Common Boolean Functionalities\n",
    "\n",
    "1. **Comparisons**: Booleans are often used to compare values and determine whether conditions are met.\n",
    "2. **Conditional Statements**: Booleans drive `if`, `else`, and `elif` statements to execute different code paths.\n",
    "3. **Logical Operators**: Boolean values can be combined using `and`, `or`, and `not` to create complex conditions.\n",
    "4. **Loop Termination**: Booleans can control the termination of loops using `break` and `while` conditions.\n",
    "5. **Function Return Values**: Functions can return boolean values to indicate success or failure.\n",
    "\n"
   ]
  },
  {
   "cell_type": "code",
   "execution_count": null,
   "metadata": {},
   "outputs": [],
   "source": [
    "# Comparison: Is 5 greater than 3?\n",
    "result = 5 > 3\n",
    "print(result)  # Output: True\n"
   ]
  },
  {
   "cell_type": "code",
   "execution_count": null,
   "metadata": {},
   "outputs": [],
   "source": [
    "# Equality check: Is 'apple' equal to 'banana'?\n",
    "result = 'apple' == 'banana'\n",
    "print(result)  # Output: False\n"
   ]
  },
  {
   "cell_type": "code",
   "execution_count": null,
   "metadata": {},
   "outputs": [],
   "source": [
    "# Logical AND: Are both conditions true?\n",
    "result = (5 > 3) and ('apple' == 'apple')\n",
    "print(result)  # Output: True\n"
   ]
  },
  {
   "cell_type": "code",
   "execution_count": null,
   "metadata": {},
   "outputs": [],
   "source": [
    "# Logical OR: Is at least one condition true?\n",
    "result = (5 < 3) or ('apple' == 'banana')\n",
    "print(result)  # Output: False\n"
   ]
  },
  {
   "cell_type": "code",
   "execution_count": null,
   "metadata": {},
   "outputs": [],
   "source": [
    "# Logical NOT: Is the condition not true?\n",
    "result = not (5 > 3)\n",
    "print(result)  # Output: False\n"
   ]
  },
  {
   "cell_type": "code",
   "execution_count": null,
   "metadata": {},
   "outputs": [],
   "source": [
    "# Using a boolean in a conditional statement.\n",
    "age = 18\n",
    "if age >= 18:\n",
    "    print(\"You can vote!\")\n",
    "else:\n",
    "    print(\"You cannot vote.\")\n"
   ]
  },
  {
   "cell_type": "code",
   "execution_count": null,
   "metadata": {},
   "outputs": [],
   "source": [
    "# Using a boolean to terminate a loop.\n",
    "while True:\n",
    "    answer = input(\"Do you want to continue? (yes/no): \")\n",
    "    if answer == \"no\":\n",
    "        print(\"Exiting loop.\")\n",
    "        break\n"
   ]
  },
  {
   "cell_type": "code",
   "execution_count": null,
   "metadata": {},
   "outputs": [],
   "source": [
    "# Function that returns a boolean value.\n",
    "def is_positive(number):\n",
    "    return number > 0\n",
    "\n",
    "result = is_positive(5)\n",
    "print(result)  # Output: True\n"
   ]
  },
  {
   "cell_type": "code",
   "execution_count": 9,
   "metadata": {},
   "outputs": [
    {
     "name": "stdout",
     "output_type": "stream",
     "text": [
      "False\n"
     ]
    }
   ],
   "source": [
    "# Identity comparison: Are the objects the same?\n",
    "x = [1, 2, 3]\n",
    "y = [1, 2, 3]\n",
    "result = x is y\n",
    "print(result)  # Output: False\n"
   ]
  },
  {
   "cell_type": "code",
   "execution_count": 12,
   "metadata": {},
   "outputs": [
    {
     "name": "stdout",
     "output_type": "stream",
     "text": [
      "True\n",
      "False\n"
     ]
    }
   ],
   "source": [
    "x = [1, 2, 3]\n",
    "y = [1, 2, 3]\n",
    "result = x==y\n",
    "result2= x is y\n",
    "print(result)\n",
    "print(result2)"
   ]
  },
  {
   "cell_type": "code",
   "execution_count": 13,
   "metadata": {},
   "outputs": [
    {
     "name": "stdout",
     "output_type": "stream",
     "text": [
      "True\n",
      "True\n"
     ]
    }
   ],
   "source": [
    "x = 1\n",
    "y = 1\n",
    "result = x==y\n",
    "result2= x is y\n",
    "print(result)\n",
    "print(result2)"
   ]
  },
  {
   "cell_type": "code",
   "execution_count": null,
   "metadata": {},
   "outputs": [],
   "source": [
    "# Membership check: Is an element in a list?\n",
    "fruits = ['apple', 'banana', 'orange']\n",
    "result = 'banana' in fruits\n",
    "print(result)  # Output: True\n"
   ]
  },
  {
   "cell_type": "code",
   "execution_count": null,
   "metadata": {},
   "outputs": [],
   "source": [
    "# Combining conditions: Are both conditions true?\n",
    "age = 25\n",
    "is_student = True\n",
    "result = age < 30 and is_student\n",
    "print(result)  # Output: True\n"
   ]
  },
  {
   "cell_type": "code",
   "execution_count": null,
   "metadata": {},
   "outputs": [],
   "source": [
    "# Short-circuit evaluation: Only evaluate the second condition if necessary.\n",
    "x = 5\n",
    "y = 0\n",
    "result = x > 0 and 10 / y > 0\n",
    "print(result)  # Output: False (division by zero error avoided)\n"
   ]
  },
  {
   "cell_type": "code",
   "execution_count": null,
   "metadata": {},
   "outputs": [],
   "source": [
    "# Numeric comparisons: Is a number within a range?\n",
    "value = 15\n",
    "result = 10 < value < 20\n",
    "print(result)  # Output: True\n"
   ]
  },
  {
   "cell_type": "code",
   "execution_count": null,
   "metadata": {},
   "outputs": [],
   "source": [
    "# Complex boolean expression.\n",
    "name = \"Alice\"\n",
    "age = 25\n",
    "result = name == \"Alice\" and (age > 18 or age < 30)\n",
    "print(result)  # Output: True\n"
   ]
  },
  {
   "cell_type": "code",
   "execution_count": null,
   "metadata": {},
   "outputs": [],
   "source": [
    "# Using None in a boolean context.\n",
    "value = None\n",
    "result = value is None\n",
    "print(result)  # Output: True\n"
   ]
  },
  {
   "cell_type": "code",
   "execution_count": null,
   "metadata": {},
   "outputs": [],
   "source": [
    "# Using logical operators with boolean values.\n",
    "a = True\n",
    "b = False\n",
    "result1 = a and b\n",
    "result2 = a or b\n",
    "result3 = not a\n",
    "print(result1, result2, result3)  # Output: False True False\n"
   ]
  },
  {
   "cell_type": "code",
   "execution_count": null,
   "metadata": {},
   "outputs": [],
   "source": [
    "# Comparison with strings: Are they equal?\n",
    "string1 = \"hello\"\n",
    "string2 = \"world\"\n",
    "result = string1 == string2\n",
    "print(result)  # Output: False\n"
   ]
  },
  {
   "cell_type": "code",
   "execution_count": null,
   "metadata": {},
   "outputs": [],
   "source": [
    "# Using a ternary expression for a conditional value.\n",
    "age = 22\n",
    "status = \"minor\" if age < 18 else \"adult\"\n",
    "print(status)  # Output: adult\n"
   ]
  },
  {
   "cell_type": "code",
   "execution_count": null,
   "metadata": {},
   "outputs": [],
   "source": [
    "# Casting other types to boolean.\n",
    "result1 = bool(5)       # True\n",
    "result2 = bool(0)       # False\n",
    "result3 = bool(\"hello\") # True\n",
    "result4 = bool(\"\")      # False\n",
    "print(result1, result2, result3, result4)\n"
   ]
  },
  {
   "cell_type": "code",
   "execution_count": null,
   "metadata": {},
   "outputs": [],
   "source": [
    "# Using all() and any() with lists.\n",
    "scores = [85, 92, 78, 65, 90]\n",
    "result_all = all(score >= 70 for score in scores)\n",
    "result_any = any(score >= 90 for score in scores)\n",
    "print(result_all, result_any)  # Output: False True\n"
   ]
  },
  {
   "cell_type": "code",
   "execution_count": null,
   "metadata": {},
   "outputs": [],
   "source": []
  },
  {
   "cell_type": "code",
   "execution_count": null,
   "metadata": {},
   "outputs": [],
   "source": []
  },
  {
   "cell_type": "code",
   "execution_count": null,
   "metadata": {},
   "outputs": [],
   "source": []
  },
  {
   "cell_type": "markdown",
   "metadata": {
    "collapsed": true
   },
   "source": [
    "### Touples "
   ]
  },
  {
   "cell_type": "markdown",
   "metadata": {},
   "source": [
    "## Tuples in Python\n",
    "\n",
    "A **tuple** is an ordered, immutable collection of items in Python. Tuples are similar to lists, but unlike lists, tuples cannot be modified after creation. Tuples are defined using parentheses `()` and can contain elements of different types.\n",
    "\n",
    "Tuples are commonly used to store related pieces of data as a single entity. They are used when you need to ensure data remains unchanged and to represent items that shouldn't be altered during program execution.\n",
    "\n",
    "### Common Tuple Functionalities\n",
    "\n",
    "1. **Creating Tuples**: Tuples are created using parentheses with comma-separated values.\n",
    "2. **Accessing Elements**: Elements of a tuple can be accessed using indexing.\n",
    "3. **Immutable Nature**: Tuples cannot be modified after creation.\n",
    "4. **Tuple Packing and Unpacking**: Values can be packed and unpacked into/from tuples.\n",
    "5. **Concatenation and Repetition**: Tuples can be concatenated and repeated.\n",
    "6. **Iteration**: Tuples can be iterated through using loops.\n",
    "7. **Length and Count**: Finding the length and counting occurrences of elements.\n",
    "8. **Using in and not in**: Checking for membership.\n",
    "9. **Slicing**: Extracting a subset of elements from a tuple.\n",
    "\n",
    "Tuples provide a lightweight way to store related data in a secure and unchangeable manner.\n",
    "\n",
    "\n",
    "To learn more about tuples, you can refer to the official Python documentation on tuples: [Python Tuples Documentation](https://docs.python.org/3/tutorial/datastructures.html#tuples-and-sequences)\n",
    "\n"
   ]
  },
  {
   "cell_type": "code",
   "execution_count": null,
   "metadata": {},
   "outputs": [],
   "source": [
    "# Creating a tuple with different types of elements.\n",
    "person = (\"Alice\", 30, \"New York\")\n",
    "print(person)\n"
   ]
  },
  {
   "cell_type": "code",
   "execution_count": null,
   "metadata": {},
   "outputs": [],
   "source": [
    "# Accessing elements of a tuple using indexing.\n",
    "name = person[0]\n",
    "print(name)  # Output: Alice\n"
   ]
  },
  {
   "cell_type": "code",
   "execution_count": null,
   "metadata": {},
   "outputs": [],
   "source": [
    "# Attempting to modify a tuple will result in an error.\n",
    "person[1] = 31  # Raises TypeError\n"
   ]
  },
  {
   "cell_type": "code",
   "execution_count": null,
   "metadata": {},
   "outputs": [],
   "source": [
    "# Tuple packing and unpacking.\n",
    "info = \"Bob\", 25, \"Los Angeles\"\n",
    "name, age, city = info\n",
    "print(name, age, city)  # Output: Bob 25 Los Angeles\n"
   ]
  },
  {
   "cell_type": "code",
   "execution_count": null,
   "metadata": {},
   "outputs": [],
   "source": [
    "# Concatenating and repeating tuples.\n",
    "fruits = (\"apple\", \"banana\")\n",
    "combined = fruits + (\"orange\",)\n",
    "repeated = fruits * 3\n",
    "print(combined)  # Output: ('apple', 'banana', 'orange')\n",
    "print(repeated)  # Output: ('apple', 'banana', 'apple', 'banana', 'apple', 'banana')\n"
   ]
  },
  {
   "cell_type": "code",
   "execution_count": null,
   "metadata": {},
   "outputs": [],
   "source": [
    "# Iterating through elements of a tuple.\n",
    "for item in person:\n",
    "    print(item)\n"
   ]
  },
  {
   "cell_type": "code",
   "execution_count": null,
   "metadata": {},
   "outputs": [],
   "source": [
    "# Finding the length and counting occurrences.\n",
    "length = len(person)\n",
    "count_alice = person.count(\"Alice\")\n",
    "print(length, count_alice)  # Output: 3 1\n"
   ]
  },
  {
   "cell_type": "code",
   "execution_count": null,
   "metadata": {},
   "outputs": [],
   "source": [
    "# Checking for membership in a tuple.\n",
    "contains_age = 30 in person\n",
    "not_contains_email = \"email\" not in person\n",
    "print(contains_age, not_contains_email)  # Output: True True\n"
   ]
  },
  {
   "cell_type": "code",
   "execution_count": null,
   "metadata": {},
   "outputs": [],
   "source": [
    "# Slicing a tuple to extract a subset.\n",
    "tuple_slice = fruits[1:]\n",
    "print(tuple_slice)  # Output: ('banana',)\n"
   ]
  },
  {
   "cell_type": "code",
   "execution_count": null,
   "metadata": {},
   "outputs": [],
   "source": [
    "# Function returning a tuple.\n",
    "def get_person():\n",
    "    return \"Carol\", 28, \"Chicago\"\n",
    "\n",
    "name, age, city = get_person()\n",
    "print(name, age, city)  # Output: Carol 28 Chicago\n"
   ]
  },
  {
   "cell_type": "code",
   "execution_count": null,
   "metadata": {},
   "outputs": [],
   "source": [
    "# Using min() and max() with tuples.\n",
    "numbers = (10, 5, 8, 12)\n",
    "min_value = min(numbers)\n",
    "max_value = max(numbers)\n",
    "print(min_value, max_value)  # Output: 5 12\n"
   ]
  },
  {
   "cell_type": "code",
   "execution_count": null,
   "metadata": {},
   "outputs": [],
   "source": [
    "# Sorting a tuple and converting to a list.\n",
    "unsorted = (5, 3, 8, 1)\n",
    "sorted_list = sorted(unsorted)\n",
    "sorted_tuple = tuple(sorted_list)\n",
    "print(sorted_tuple)  # Output: (1, 3, 5, 8)\n"
   ]
  },
  {
   "cell_type": "code",
   "execution_count": 21,
   "metadata": {},
   "outputs": [
    {
     "name": "stdout",
     "output_type": "stream",
     "text": [
      "4 4\n"
     ]
    }
   ],
   "source": [
    "A=(1,2,3,4)\n",
    "AA=[1,2,3,4]\n",
    "x=A[3]\n",
    "y=AA[3]\n",
    "\n",
    "print(x,y)\n",
    "\n",
    "\n",
    "\n"
   ]
  },
  {
   "cell_type": "code",
   "execution_count": null,
   "metadata": {},
   "outputs": [],
   "source": [
    "# Creating a single-element tuple.\n",
    "single_element_tuple = (\"single\",)\n",
    "print(single_element_tuple)  # Output: ('single',)\n"
   ]
  },
  {
   "cell_type": "code",
   "execution_count": null,
   "metadata": {},
   "outputs": [],
   "source": [
    "# Using index() to find the index of an element.\n",
    "fruits = (\"apple\", \"banana\", \"apple\")\n",
    "index = fruits.index(\"banana\")\n",
    "print(index)  # Output: 1\n"
   ]
  },
  {
   "cell_type": "code",
   "execution_count": null,
   "metadata": {},
   "outputs": [],
   "source": [
    "# Creating nested tuples.\n",
    "nested_tuple = ((1, 2, 3), (4, 5, 6), (7, 8, 9))\n",
    "print(nested_tuple[1][2])  # Output: 6\n"
   ]
  },
  {
   "cell_type": "code",
   "execution_count": null,
   "metadata": {},
   "outputs": [],
   "source": [
    "# Converting a list to a tuple.\n",
    "numbers_list = [1, 2, 3]\n",
    "numbers_tuple = tuple(numbers_list)\n",
    "print(numbers_tuple)  # Output: (1, 2, 3)\n"
   ]
  },
  {
   "cell_type": "code",
   "execution_count": null,
   "metadata": {},
   "outputs": [],
   "source": [
    "# Converting a tuple to a string.\n",
    "fruits = (\"apple\", \"banana\", \"orange\")\n",
    "fruits_string = \", \".join(fruits)\n",
    "print(fruits_string)  # Output: apple, banana, orange\n"
   ]
  },
  {
   "cell_type": "code",
   "execution_count": null,
   "metadata": {},
   "outputs": [],
   "source": [
    "# Using tuple with enumerate to get index and value.\n",
    "fruits = (\"apple\", \"banana\", \"orange\")\n",
    "for index, fruit in enumerate(fruits):\n",
    "    print(f\"Index {index}: {fruit}\")\n"
   ]
  },
  {
   "cell_type": "code",
   "execution_count": null,
   "metadata": {},
   "outputs": [],
   "source": [
    "# Using namedtuple to create a more structured tuple.\n",
    "from collections import namedtuple\n",
    "\n",
    "Person = namedtuple(\"Person\", [\"name\", \"age\", \"city\"])\n",
    "person = Person(\"David\", 32, \"Seattle\")\n",
    "print(person.name, person.age, person.city)  # Output: David 32 Seattle\n"
   ]
  },
  {
   "cell_type": "code",
   "execution_count": null,
   "metadata": {},
   "outputs": [],
   "source": [
    "# Tuple comparison: Are tuples equal?\n",
    "tuple1 = (1, 2, 3)\n",
    "tuple2 = (1, 2, 4)\n",
    "result = tuple1 == tuple2\n",
    "print(result)  # Output: False\n"
   ]
  },
  {
   "cell_type": "code",
   "execution_count": null,
   "metadata": {},
   "outputs": [],
   "source": []
  },
  {
   "cell_type": "code",
   "execution_count": null,
   "metadata": {},
   "outputs": [],
   "source": []
  },
  {
   "cell_type": "code",
   "execution_count": null,
   "metadata": {},
   "outputs": [],
   "source": []
  },
  {
   "cell_type": "markdown",
   "metadata": {},
   "source": [
    "### Sets"
   ]
  },
  {
   "cell_type": "markdown",
   "metadata": {},
   "source": [
    "## Sets in Python\n",
    "\n",
    "A **set** is an unordered collection of unique elements in Python. Sets are similar to lists and tuples, but they do not allow duplicate values. Sets are defined using curly braces `{}` or the `set()` constructor. They are commonly used to perform set operations like union, intersection, and difference.\n",
    "\n",
    "Sets are useful for tasks that require handling unique values, eliminating duplicates, and performing membership tests efficiently.\n",
    "\n",
    "### Common Set Functionalities\n",
    "\n",
    "1. **Creating Sets**: Sets are created using curly braces or the `set()` constructor.\n",
    "2. **Adding and Removing Elements**: Elements can be added using `add()` and removed using `remove()` or `discard()`.\n",
    "3. **Set Operations**: Sets support operations like union, intersection, and difference.\n",
    "4. **Checking Membership**: Membership can be checked using `in` and `not in`.\n",
    "5. **Iterating Through Sets**: Elements of a set can be iterated using loops.\n",
    "6. **Length and Clear**: Finding the length and clearing a set.\n",
    "7. **Copying Sets**: Creating copies of sets using `copy()`.\n",
    "8. **Converting Lists to Sets**: Removing duplicates by converting lists to sets.\n",
    "\n",
    "Sets provide an efficient way to manage collections of unique elements.\n",
    "\n",
    "\n",
    "To learn more about sets, you can refer to the official Python documentation on sets: [Python Sets Documentation](https://docs.python.org/3/tutorial/datastructures.html#sets)\n",
    "\n"
   ]
  },
  {
   "cell_type": "code",
   "execution_count": 6,
   "metadata": {},
   "outputs": [
    {
     "name": "stdout",
     "output_type": "stream",
     "text": [
      "{'apple', 'banana', 'orange'}\n"
     ]
    }
   ],
   "source": [
    "# Creating sets with unique elements.\n",
    "fruits = {\"apple\", \"banana\", \"orange\"}\n",
    "print(fruits)\n"
   ]
  },
  {
   "cell_type": "code",
   "execution_count": null,
   "metadata": {},
   "outputs": [],
   "source": [
    "# Adding and removing elements from a set.\n",
    "fruits.add(\"grape\")\n",
    "fruits.remove(\"apple\")\n",
    "print(fruits)  # Output: {'banana', 'orange', 'grape'}\n"
   ]
  },
  {
   "cell_type": "code",
   "execution_count": null,
   "metadata": {},
   "outputs": [],
   "source": [
    "# Set union operation.\n",
    "vegetables = {\"carrot\", \"broccoli\"}\n",
    "food = fruits.union(vegetables)\n",
    "print(food)  # Output: {'banana', 'broccoli', 'carrot', 'grape', 'orange'}\n"
   ]
  },
  {
   "cell_type": "code",
   "execution_count": null,
   "metadata": {},
   "outputs": [],
   "source": [
    "# Set intersection operation.\n",
    "common_fruits = fruits.intersection(vegetables)\n",
    "print(common_fruits)  # Output: set()\n"
   ]
  },
  {
   "cell_type": "code",
   "execution_count": null,
   "metadata": {},
   "outputs": [],
   "source": [
    "# Set difference operation.\n",
    "unique_fruits = fruits.difference(vegetables)\n",
    "print(unique_fruits)  # Output: {'banana', 'orange', 'grape'}\n"
   ]
  },
  {
   "cell_type": "code",
   "execution_count": null,
   "metadata": {},
   "outputs": [],
   "source": [
    "# Checking membership in a set.\n",
    "contains_apple = \"apple\" in fruits\n",
    "not_contains_pear = \"pear\" not in fruits\n",
    "print(contains_apple, not_contains_pear)  # Output: False True\n"
   ]
  },
  {
   "cell_type": "code",
   "execution_count": null,
   "metadata": {},
   "outputs": [],
   "source": [
    "# Iterating through elements of a set.\n",
    "for item in fruits:\n",
    "    print(item)\n"
   ]
  },
  {
   "cell_type": "code",
   "execution_count": null,
   "metadata": {},
   "outputs": [],
   "source": [
    "# Finding the length and clearing a set.\n",
    "num_fruits = len(fruits)\n",
    "fruits.clear()\n",
    "print(num_fruits, fruits)  # Output: 3 set()\n"
   ]
  },
  {
   "cell_type": "code",
   "execution_count": null,
   "metadata": {},
   "outputs": [],
   "source": [
    "# Copying a set.\n",
    "fruits_copy = fruits.copy()\n",
    "fruits_copy.add(\"kiwi\")\n",
    "print(fruits_copy)  # Output: {'kiwi'}\n"
   ]
  },
  {
   "cell_type": "code",
   "execution_count": null,
   "metadata": {},
   "outputs": [],
   "source": [
    "# Converting a list to a set to remove duplicates.\n",
    "colors_list = [\"red\", \"green\", \"blue\", \"red\"]\n",
    "colors_set = set(colors_list)\n",
    "print(colors_set)  # Output: {'blue', 'green', 'red'}\n"
   ]
  },
  {
   "cell_type": "code",
   "execution_count": null,
   "metadata": {},
   "outputs": [],
   "source": [
    "# Using the set() constructor to create a set.\n",
    "numbers = set([1, 2, 3, 4, 5])\n",
    "print(numbers)  # Output: {1, 2, 3, 4, 5}\n"
   ]
  },
  {
   "cell_type": "code",
   "execution_count": null,
   "metadata": {},
   "outputs": [],
   "source": [
    "# Removing an element using discard() without raising an error.\n",
    "numbers.discard(3)\n",
    "print(numbers)  # Output: {1, 2, 4, 5}\n"
   ]
  },
  {
   "cell_type": "code",
   "execution_count": null,
   "metadata": {},
   "outputs": [],
   "source": [
    "# Using pop() to remove and return a random element.\n",
    "removed_element = numbers.pop()\n",
    "print(removed_element, numbers)\n"
   ]
  },
  {
   "cell_type": "code",
   "execution_count": null,
   "metadata": {},
   "outputs": [],
   "source": [
    "# Creating an immutable set using frozenset.\n",
    "immutable_set = frozenset(numbers)\n",
    "print(immutable_set)\n"
   ]
  },
  {
   "cell_type": "code",
   "execution_count": null,
   "metadata": {},
   "outputs": [],
   "source": [
    "# Using all() and any() with sets.\n",
    "even_numbers = {2, 4, 6, 8, 10}\n",
    "result_all = all(num % 2 == 0 for num in even_numbers)\n",
    "result_any = any(num > 5 for num in even_numbers)\n",
    "print(result_all, result_any)  # Output: True True\n"
   ]
  },
  {
   "cell_type": "code",
   "execution_count": null,
   "metadata": {},
   "outputs": [],
   "source": [
    "# Finding common elements between multiple sets.\n",
    "set1 = {1, 2, 3, 4}\n",
    "set2 = {3, 4, 5, 6}\n",
    "set3 = {4, 5, 6, 7}\n",
    "common_elements = set1.intersection(set2, set3)\n",
    "print(common_elements)  # Output: {4}\n"
   ]
  },
  {
   "cell_type": "code",
   "execution_count": null,
   "metadata": {},
   "outputs": [],
   "source": [
    "# Removing elements from one set that are present in another set.\n",
    "setA = {1, 2, 3, 4, 5}\n",
    "setB = {3, 4, 5, 6}\n",
    "setA.difference_update(setB)\n",
    "print(setA)  # Output: {1, 2}\n"
   ]
  },
  {
   "cell_type": "code",
   "execution_count": null,
   "metadata": {},
   "outputs": [],
   "source": [
    "# Finding elements that are unique to either of the sets.\n",
    "setX = {1, 2, 3, 4}\n",
    "setY = {3, 4, 5, 6}\n",
    "symmetric_diff = setX.symmetric_difference(setY)\n",
    "print(symmetric_diff)  # Output: {1, 2, 5, 6}\n"
   ]
  },
  {
   "cell_type": "code",
   "execution_count": null,
   "metadata": {},
   "outputs": [],
   "source": [
    "# Checking if one set is a superset or subset of another set.\n",
    "setP = {1, 2, 3, 4, 5}\n",
    "setQ = {3, 4}\n",
    "is_subset = setQ.issubset(setP)\n",
    "is_superset = setP.issuperset(setQ)\n",
    "print(is_subset, is_superset)  # Output: True True\n"
   ]
  },
  {
   "cell_type": "code",
   "execution_count": null,
   "metadata": {},
   "outputs": [],
   "source": [
    "# Converting a list of numbers to a set using set comprehension.\n",
    "numbers_list = [1, 2, 3, 3, 4, 4, 5, 5]\n",
    "unique_numbers_set = {x for x in numbers_list}\n",
    "print(unique_numbers_set)  # Output: {1, 2, 3, 4, 5}\n"
   ]
  },
  {
   "cell_type": "code",
   "execution_count": null,
   "metadata": {},
   "outputs": [],
   "source": []
  },
  {
   "cell_type": "code",
   "execution_count": null,
   "metadata": {},
   "outputs": [],
   "source": []
  },
  {
   "cell_type": "markdown",
   "metadata": {},
   "source": [
    "## Comparison Operators"
   ]
  },
  {
   "cell_type": "markdown",
   "metadata": {},
   "source": [
    "## Comparison Operators in Python\n",
    "\n",
    "**Comparison operators** are used to compare values and determine the relationship between them. These operators return boolean values (`True` or `False`) based on whether the comparison is true or false.\n",
    "\n",
    "Python provides several comparison operators for different types of comparisons, such as equality, inequality, greater than, less than, etc. These operators are commonly used in conditional statements, loops, and logical operations to control program flow based on different conditions.\n",
    "\n",
    "### Common Comparison Operators\n",
    "\n",
    "1. **Equal (`==`)**: Checks if two values are equal.\n",
    "2. **Not Equal (`!=`)**: Checks if two values are not equal.\n",
    "3. **Greater Than (`>`)**: Checks if the left value is greater than the right value.\n",
    "4. **Less Than (`<`)**: Checks if the left value is less than the right value.\n",
    "5. **Greater Than or Equal To (`>=`)**: Checks if the left value is greater than or equal to the right value.\n",
    "6. **Less Than or Equal To (`<=`)**: Checks if the left value is less than or equal to the right value.\n",
    "\n",
    "Comparison operators play a fundamental role in decision-making and data processing in programming.\n",
    "\n",
    "## Learn More\n",
    "\n",
    "To learn more about comparison operators, you can refer to the official Python documentation: [Python Comparison Operators Documentation](https://docs.python.org/3/reference/expressions.html#comparisons)\n",
    "\n"
   ]
  },
  {
   "cell_type": "code",
   "execution_count": null,
   "metadata": {},
   "outputs": [],
   "source": [
    "# Equal operator: Are the values equal?\n",
    "result = 5 == 5\n",
    "print(result)  # Output: True\n"
   ]
  },
  {
   "cell_type": "code",
   "execution_count": null,
   "metadata": {},
   "outputs": [],
   "source": [
    "# Not equal operator: Are the values not equal?\n",
    "result = 5 != 10\n",
    "print(result)  # Output: True\n"
   ]
  },
  {
   "cell_type": "code",
   "execution_count": null,
   "metadata": {},
   "outputs": [],
   "source": [
    "# Greater than operator: Is the left value greater than the right value?\n",
    "result = 10 > 5\n",
    "print(result)  # Output: True\n"
   ]
  },
  {
   "cell_type": "code",
   "execution_count": null,
   "metadata": {},
   "outputs": [],
   "source": [
    "# Less than operator: Is the left value less than the right value?\n",
    "result = 5 < 10\n",
    "print(result)  # Output: True\n"
   ]
  },
  {
   "cell_type": "code",
   "execution_count": null,
   "metadata": {},
   "outputs": [],
   "source": [
    "# Greater than or equal to operator: Is the left value greater than or equal to the right value?\n",
    "result = 10 >= 10\n",
    "print(result)  # Output: True\n"
   ]
  },
  {
   "cell_type": "code",
   "execution_count": null,
   "metadata": {},
   "outputs": [],
   "source": [
    "# Less than or equal to operator: Is the left value less than or equal to the right value?\n",
    "result = 5 <= 10\n",
    "print(result)  # Output: True\n"
   ]
  },
  {
   "cell_type": "code",
   "execution_count": null,
   "metadata": {},
   "outputs": [],
   "source": [
    "# Using multiple comparison operators in a single statement.\n",
    "x = 5\n",
    "y = 10\n",
    "result = x < y < 15\n",
    "print(result)  # Output: True\n"
   ]
  },
  {
   "cell_type": "code",
   "execution_count": null,
   "metadata": {},
   "outputs": [],
   "source": [
    "# Chaining comparison operators with logical operators.\n",
    "age = 25\n",
    "is_student = False\n",
    "result = 18 <= age < 30 and not is_student\n",
    "print(result)  # Output: True\n"
   ]
  },
  {
   "cell_type": "code",
   "execution_count": 32,
   "metadata": {},
   "outputs": [
    {
     "name": "stdout",
     "output_type": "stream",
     "text": [
      "True\n"
     ]
    }
   ],
   "source": [
    "# Comparing strings using comparison operators.\n",
    "name1 = \"Alice\"\n",
    "name2 = \"Bob\"\n",
    "result = name1 < name2\n",
    "print(result)  # Output: False\n"
   ]
  },
  {
   "cell_type": "code",
   "execution_count": 37,
   "metadata": {},
   "outputs": [
    {
     "data": {
      "text/plain": [
       "True"
      ]
     },
     "execution_count": 37,
     "metadata": {},
     "output_type": "execute_result"
    }
   ],
   "source": [
    "name1='cA'\n",
    "Name2='aZZZZAAAAAAAAAB'\n",
    "name1>Name2"
   ]
  },
  {
   "cell_type": "code",
   "execution_count": null,
   "metadata": {},
   "outputs": [],
   "source": [
    "# Using comparison operators in conditional statements.\n",
    "x = 15\n",
    "if x > 10:\n",
    "    print(\"x is greater than 10\")\n",
    "else:\n",
    "    print(\"x is not greater than 10\")\n"
   ]
  },
  {
   "cell_type": "code",
   "execution_count": null,
   "metadata": {},
   "outputs": [],
   "source": [
    "# Using comparison operators in loop conditions.\n",
    "numbers = [5, 10, 15, 20]\n",
    "for num in numbers:\n",
    "    if num >= 10:\n",
    "        print(num, \"is greater than or equal to 10\")\n"
   ]
  },
  {
   "cell_type": "code",
   "execution_count": null,
   "metadata": {},
   "outputs": [],
   "source": [
    "# Using comparison operators with strings.\n",
    "string1 = \"apple\"\n",
    "string2 = \"banana\"\n",
    "result = string1 < string2\n",
    "print(result)  # Output: True\n"
   ]
  },
  {
   "cell_type": "code",
   "execution_count": null,
   "metadata": {},
   "outputs": [],
   "source": [
    "# Comparing lists using comparison operators.\n",
    "list1 = [1, 2, 3]\n",
    "list2 = [1, 2, 3]\n",
    "result = list1 == list2\n",
    "print(result)  # Output: True\n"
   ]
  },
  {
   "cell_type": "code",
   "execution_count": null,
   "metadata": {},
   "outputs": [],
   "source": [
    "# Using comparison operators in list comprehension.\n",
    "numbers = [1, 2, 3, 4, 5]\n",
    "even_numbers = [num for num in numbers if num % 2 == 0]\n",
    "print(even_numbers)  # Output: [2, 4]\n"
   ]
  },
  {
   "cell_type": "code",
   "execution_count": null,
   "metadata": {},
   "outputs": [],
   "source": [
    "# Comparing floating-point numbers with a tolerance.\n",
    "x = 0.1 + 0.2\n",
    "result = abs(x - 0.3) < 1e-9\n",
    "print(result)  # Output: True\n"
   ]
  },
  {
   "cell_type": "markdown",
   "metadata": {},
   "source": [
    "## Logic Operators"
   ]
  },
  {
   "cell_type": "markdown",
   "metadata": {},
   "source": [
    "## Logic Operators in Python\n",
    "\n",
    "**Logical operators** are used to combine or manipulate boolean values (True or False). These operators allow you to perform logical operations on expressions and conditions. Python provides three main logical operators: `and`, `or`, and `not`.\n",
    "\n",
    "Logical operators are commonly used in control structures, conditional statements, and loops to make decisions based on multiple conditions.\n",
    "\n",
    "### Common Logical Operators\n",
    "\n",
    "1. **and**: Returns `True` if both conditions are `True`.\n",
    "2. **or**: Returns `True` if at least one condition is `True`.\n",
    "3. **not**: Returns the opposite of the condition's value.\n",
    "\n",
    "Logical operators are fundamental for making complex decisions and controlling program behavior based on multiple conditions.\n",
    "\n",
    "## Learn More\n",
    "\n",
    "To learn more about logical operators, you can refer to the official Python documentation: [Python Logical Operators Documentation](https://docs.python.org/3/reference/expressions.html#not)\n",
    "\n"
   ]
  },
  {
   "cell_type": "code",
   "execution_count": null,
   "metadata": {},
   "outputs": [],
   "source": [
    "# Using the 'and' operator to check multiple conditions.\n",
    "x = 10\n",
    "result = (x > 5) and (x < 15)\n",
    "print(result)  # Output: True\n"
   ]
  },
  {
   "cell_type": "code",
   "execution_count": null,
   "metadata": {},
   "outputs": [],
   "source": [
    "# Using the 'or' operator to check at least one true condition.\n",
    "age = 17\n",
    "is_student = False\n",
    "result = age < 18 or is_student\n",
    "print(result)  # Output: True\n"
   ]
  },
  {
   "cell_type": "code",
   "execution_count": null,
   "metadata": {},
   "outputs": [],
   "source": [
    "# Using the 'not' operator to negate a condition.\n",
    "has_permit = False\n",
    "result = not has_permit\n",
    "print(result)  # Output: True\n"
   ]
  },
  {
   "cell_type": "code",
   "execution_count": null,
   "metadata": {},
   "outputs": [],
   "source": [
    "# Combining 'and' and 'or' operators.\n",
    "temperature = 25\n",
    "is_sunny = True\n",
    "is_weekend = False\n",
    "result = temperature > 20 and (is_sunny or is_weekend)\n",
    "print(result)  # Output: True\n"
   ]
  },
  {
   "cell_type": "code",
   "execution_count": null,
   "metadata": {},
   "outputs": [],
   "source": [
    "# Chaining multiple logical operators.\n",
    "x = 5\n",
    "y = 10\n",
    "z = 15\n",
    "result = x < y < z\n",
    "print(result)  # Output: True\n"
   ]
  },
  {
   "cell_type": "code",
   "execution_count": null,
   "metadata": {},
   "outputs": [],
   "source": [
    "# Using 'not' with comparison operators.\n",
    "age = 20\n",
    "is_minor = not (age >= 18)\n",
    "print(is_minor)  # Output: False\n"
   ]
  },
  {
   "cell_type": "code",
   "execution_count": null,
   "metadata": {},
   "outputs": [],
   "source": [
    "# Short-circuit evaluation with 'and'.\n",
    "x = 5\n",
    "result = x > 0 and 10 / x > 1\n",
    "print(result)  # Output: True\n"
   ]
  },
  {
   "cell_type": "code",
   "execution_count": null,
   "metadata": {},
   "outputs": [],
   "source": [
    "# Short-circuit evaluation with 'or'.\n",
    "x = 0\n",
    "result = x == 0 or 10 / x > 1\n",
    "print(result)  # Output: True\n"
   ]
  },
  {
   "cell_type": "code",
   "execution_count": null,
   "metadata": {},
   "outputs": [],
   "source": [
    "# Using 'in' with logical operators.\n",
    "fruits = [\"apple\", \"banana\", \"orange\"]\n",
    "result = \"apple\" in fruits or \"pear\" in fruits\n",
    "print(result)  # Output: True\n"
   ]
  },
  {
   "cell_type": "code",
   "execution_count": null,
   "metadata": {},
   "outputs": [],
   "source": [
    "# Using 'all()' to check if all elements are true.\n",
    "scores = [80, 90, 75, 88]\n",
    "result = all(score >= 75 for score in scores)\n",
    "print(result)  # Output: True\n"
   ]
  },
  {
   "cell_type": "code",
   "execution_count": null,
   "metadata": {},
   "outputs": [],
   "source": [
    "# Using 'any()' to check if any element is true.\n",
    "grades = [\"A\", \"B\", \"C\", \"D\"]\n",
    "result = any(grade == \"A\" for grade in grades)\n",
    "print(result)  # Output: True\n"
   ]
  },
  {
   "cell_type": "code",
   "execution_count": null,
   "metadata": {},
   "outputs": [],
   "source": [
    "# Combining 'not' with 'in' to check non-membership.\n",
    "colors = [\"red\", \"green\", \"blue\"]\n",
    "result = \"yellow\" not in colors\n",
    "print(result)  # Output: True\n"
   ]
  },
  {
   "cell_type": "code",
   "execution_count": null,
   "metadata": {},
   "outputs": [],
   "source": [
    "# Using logical operators in conditional statements.\n",
    "age = 15\n",
    "is_student = True\n",
    "if age < 18 and is_student:\n",
    "    print(\"Youth discount applies\")\n",
    "else:\n",
    "    print(\"Standard fare\")\n"
   ]
  },
  {
   "cell_type": "code",
   "execution_count": null,
   "metadata": {},
   "outputs": [],
   "source": [
    "# Using logical operators to combine function conditions.\n",
    "def is_positive(number):\n",
    "    return number > 0\n",
    "\n",
    "def is_even(number):\n",
    "    return number % 2 == 0\n",
    "\n",
    "x = 10\n",
    "result = is_positive(x) and is_even(x)\n",
    "print(result)  # Output: True\n"
   ]
  },
  {
   "cell_type": "code",
   "execution_count": null,
   "metadata": {},
   "outputs": [],
   "source": [
    "# Using logical operators for complex logic.\n",
    "temperature = 27\n",
    "is_weekend = True\n",
    "is_sunny = True\n",
    "if (temperature > 25 or is_weekend) and is_sunny:\n",
    "    print(\"Enjoy the day outdoors!\")\n",
    "else:\n",
    "    print(\"Stay indoors\")\n"
   ]
  },
  {
   "cell_type": "code",
   "execution_count": null,
   "metadata": {},
   "outputs": [],
   "source": []
  },
  {
   "cell_type": "code",
   "execution_count": null,
   "metadata": {},
   "outputs": [],
   "source": []
  },
  {
   "cell_type": "code",
   "execution_count": null,
   "metadata": {},
   "outputs": [],
   "source": []
  },
  {
   "cell_type": "markdown",
   "metadata": {},
   "source": [
    "## if,elif, else Statements"
   ]
  },
  {
   "cell_type": "markdown",
   "metadata": {},
   "source": [
    "## if, elif, else Statements in Python\n",
    "\n",
    "The `if`, `elif`, and `else` statements are used to control the flow of a program based on specific conditions. These control structures allow you to execute different blocks of code depending on whether conditions are met or not.\n",
    "\n",
    "- The `if` statement is used to execute a block of code if a condition is `True`.\n",
    "- The `elif` (short for \"else if\") statement allows you to check additional conditions after the initial `if` statement.\n",
    "- The `else` statement is used to execute a block of code when none of the previous conditions are `True`.\n",
    "\n",
    "These statements play a crucial role in decision-making, branching, and implementing different behavior based on varying conditions.\n",
    "\n",
    "### Common Functionalities\n",
    "\n",
    "1. **if Statement**: Execute a block of code if a condition is `True`.\n",
    "2. **elif Statement**: Check additional conditions if the initial condition is not `True`.\n",
    "3. **else Statement**: Execute a block of code when no previous conditions are `True`.\n",
    "4. **Nested if Statements**: Use if statements within other if statements for more complex conditions.\n",
    "\n",
    "Using `if`, `elif`, and `else` statements allows you to implement flexible and dynamic behavior in your programs.\n",
    "\n",
    "## Learn More\n",
    "\n",
    "To learn more about `if`, `elif`, and `else` statements, you can refer to the official Python documentation: [Python Control Structures Documentation](https://docs.python.org/3/tutorial/controlflow.html#if-statements)\n",
    "\n"
   ]
  },
  {
   "cell_type": "code",
   "execution_count": null,
   "metadata": {},
   "outputs": [],
   "source": [
    "# Using a basic if statement.\n",
    "age = 20\n",
    "if age >= 18:\n",
    "    print(\"You are an adult.\")\n"
   ]
  },
  {
   "cell_type": "code",
   "execution_count": null,
   "metadata": {},
   "outputs": [],
   "source": [
    "# Using an if-else statement.\n",
    "temperature = 25\n",
    "if temperature > 30:\n",
    "    print(\"It's hot outside.\")\n",
    "else:\n",
    "    print(\"It's not too hot.\")\n"
   ]
  },
  {
   "cell_type": "code",
   "execution_count": null,
   "metadata": {},
   "outputs": [],
   "source": [
    "# Using an if-elif-else statement.\n",
    "score = 85\n",
    "if score >= 90:\n",
    "    print(\"Excellent!\")\n",
    "elif score >= 70:\n",
    "    print(\"Good job.\")\n",
    "else:\n",
    "    print(\"Keep practicing.\")\n"
   ]
  },
  {
   "cell_type": "code",
   "execution_count": null,
   "metadata": {},
   "outputs": [],
   "source": [
    "# Using nested if statements.\n",
    "age = 16\n",
    "if age >= 18:\n",
    "    if age < 21:\n",
    "        print(\"You're an adult, but not allowed to drink.\")\n",
    "    else:\n",
    "        print(\"You can drink legally.\")\n",
    "else:\n",
    "    print(\"You're a minor.\")\n"
   ]
  },
  {
   "cell_type": "code",
   "execution_count": null,
   "metadata": {},
   "outputs": [],
   "source": [
    "# Checking multiple conditions using if and elif.\n",
    "num = 0\n",
    "if num > 0:\n",
    "    print(\"Positive\")\n",
    "elif num < 0:\n",
    "    print(\"Negative\")\n",
    "else:\n",
    "    print(\"Zero\")\n"
   ]
  },
  {
   "cell_type": "code",
   "execution_count": null,
   "metadata": {},
   "outputs": [],
   "source": [
    "# Using logical operators with if statements.\n",
    "age = 22\n",
    "is_student = False\n",
    "if age < 18 or is_student:\n",
    "    print(\"Youth discount applies.\")\n",
    "else:\n",
    "    print(\"Standard fare.\")\n"
   ]
  },
  {
   "cell_type": "code",
   "execution_count": null,
   "metadata": {},
   "outputs": [],
   "source": [
    "# Using if-elif-elif-else to handle multiple conditions.\n",
    "grade = \"B\"\n",
    "if grade == \"A\":\n",
    "    print(\"Excellent\")\n",
    "elif grade == \"B\":\n",
    "    print(\"Good\")\n",
    "elif grade == \"C\":\n",
    "    print(\"Average\")\n",
    "else:\n",
    "    print(\"Needs improvement\")\n"
   ]
  },
  {
   "cell_type": "code",
   "execution_count": null,
   "metadata": {},
   "outputs": [],
   "source": [
    "# Using a ternary operator for a compact if-else.\n",
    "x = 10\n",
    "result = \"Even\" if x % 2 == 0 else \"Odd\"\n",
    "print(result)\n"
   ]
  },
  {
   "cell_type": "code",
   "execution_count": null,
   "metadata": {},
   "outputs": [],
   "source": [
    "# Combining multiple conditions using if and and.\n",
    "is_student = True\n",
    "age = 21\n",
    "if is_student and age < 25:\n",
    "    print(\"Youth discount applies.\")\n",
    "else:\n",
    "    print(\"Standard fare.\")\n"
   ]
  },
  {
   "cell_type": "code",
   "execution_count": null,
   "metadata": {},
   "outputs": [],
   "source": [
    "# Using if-elif for value ranges.\n",
    "temperature = 28\n",
    "if temperature < 10:\n",
    "    print(\"Very cold\")\n",
    "elif 10 <= temperature < 20:\n",
    "    print(\"Moderate\")\n",
    "elif 20 <= temperature < 30:\n",
    "    print(\"Warm\")\n",
    "else:\n",
    "    print(\"Hot\")\n"
   ]
  },
  {
   "cell_type": "code",
   "execution_count": null,
   "metadata": {},
   "outputs": [],
   "source": [
    "# Using if-elif with logical operators.\n",
    "age = 19\n",
    "is_student = True\n",
    "if age < 18 or (age >= 18 and is_student):\n",
    "    print(\"Youth discount applies.\")\n",
    "else:\n",
    "    print(\"Standard fare.\")\n"
   ]
  },
  {
   "cell_type": "code",
   "execution_count": null,
   "metadata": {},
   "outputs": [],
   "source": [
    "# Using nested if-elif-else to handle multiple conditions.\n",
    "hour = 15\n",
    "if hour < 12:\n",
    "    print(\"Good morning!\")\n",
    "elif hour < 18:\n",
    "    print(\"Good afternoon!\")\n",
    "else:\n",
    "    print(\"Good evening!\")\n"
   ]
  },
  {
   "cell_type": "code",
   "execution_count": null,
   "metadata": {},
   "outputs": [],
   "source": [
    "# Using if-else with list membership check.\n",
    "fruits = [\"apple\", \"banana\", \"orange\"]\n",
    "fruit = \"apple\"\n",
    "if fruit in fruits:\n",
    "    print(\"It's a fruit!\")\n",
    "else:\n",
    "    print(\"Not a fruit.\")\n"
   ]
  },
  {
   "cell_type": "code",
   "execution_count": null,
   "metadata": {},
   "outputs": [],
   "source": [
    "# Using if-elif with string comparison.\n",
    "day = \"Wednesday\"\n",
    "if day == \"Monday\":\n",
    "    print(\"Start of the week\")\n",
    "elif day == \"Wednesday\":\n",
    "    print(\"Midweek\")\n",
    "else:\n",
    "    print(\"Regular day\")\n"
   ]
  },
  {
   "cell_type": "code",
   "execution_count": null,
   "metadata": {},
   "outputs": [],
   "source": [
    "# Using if-else for input validation.\n",
    "age = int(input(\"Enter your age: \"))\n",
    "if age < 0:\n",
    "    print(\"Invalid age\")\n",
    "elif age < 18:\n",
    "    print(\"You're a minor.\")\n",
    "else:\n",
    "    print(\"You're an adult.\")\n"
   ]
  },
  {
   "cell_type": "code",
   "execution_count": null,
   "metadata": {},
   "outputs": [],
   "source": []
  },
  {
   "cell_type": "code",
   "execution_count": null,
   "metadata": {},
   "outputs": [],
   "source": []
  },
  {
   "cell_type": "code",
   "execution_count": null,
   "metadata": {},
   "outputs": [],
   "source": []
  },
  {
   "cell_type": "markdown",
   "metadata": {},
   "source": [
    "## for Loops"
   ]
  },
  {
   "cell_type": "markdown",
   "metadata": {},
   "source": [
    "## for Loops in Python\n",
    "\n",
    "A `for` loop is used to iterate over a sequence (such as a list, tuple, string, etc.) and execute a block of code for each item in the sequence. This allows you to perform repetitive tasks efficiently without writing repetitive code.\n",
    "\n",
    "- The `for` loop iterates over each item in a sequence.\n",
    "- The `range()` function is commonly used to generate a sequence of numbers for iteration.\n",
    "- `break` statement can be used to exit the loop prematurely.\n",
    "- `continue` statement can be used to skip the current iteration and proceed to the next.\n",
    "\n",
    "`for` loops are fundamental for performing actions on multiple elements and automating tasks that require repeated execution.\n",
    "\n",
    "### Common Functionalities\n",
    "\n",
    "1. **Iterating Over Sequences**: Using a `for` loop to iterate over elements in a sequence.\n",
    "2. **Using `range()`**: Generating a sequence of numbers using the `range()` function.\n",
    "3. **Exiting Early**: Using the `break` statement to exit the loop prematurely.\n",
    "4. **Skipping Iterations**: Using the `continue` statement to skip the current iteration.\n",
    "\n",
    "Using `for` loops allows you to automate tasks that require repetitive actions over sequences of data.\n",
    "\n",
    "## Learn More\n",
    "\n",
    "To learn more about `for` loops, you can refer to the official Python documentation: [Python for Loops Documentation](https://docs.python.org/3/tutorial/controlflow.html#for-statements)\n"
   ]
  },
  {
   "cell_type": "code",
   "execution_count": null,
   "metadata": {},
   "outputs": [],
   "source": [
    "# Iterating over a list using a for loop.\n",
    "fruits = [\"apple\", \"banana\", \"orange\"]\n",
    "for fruit in fruits:\n",
    "    print(fruit)\n"
   ]
  },
  {
   "cell_type": "code",
   "execution_count": null,
   "metadata": {},
   "outputs": [],
   "source": [
    "# Iterating over a string using a for loop.\n",
    "message = \"Hello, World!\"\n",
    "for char in message:\n",
    "    print(char)\n"
   ]
  },
  {
   "cell_type": "code",
   "execution_count": null,
   "metadata": {},
   "outputs": [],
   "source": [
    "# Iterating over a range of numbers using a for loop.\n",
    "for number in range(5):\n",
    "    print(number)\n"
   ]
  },
  {
   "cell_type": "code",
   "execution_count": null,
   "metadata": {},
   "outputs": [],
   "source": [
    "# Using range with start and end values.\n",
    "for num in range(3, 8):\n",
    "    print(num)\n"
   ]
  },
  {
   "cell_type": "code",
   "execution_count": null,
   "metadata": {},
   "outputs": [],
   "source": [
    "# Iterating over a list of tuples using a for loop.\n",
    "students = [(\"Alice\", 25), (\"Bob\", 30), (\"Eve\", 28)]\n",
    "for name, age in students:\n",
    "    print(name, \"is\", age, \"years old\")\n"
   ]
  },
  {
   "cell_type": "code",
   "execution_count": null,
   "metadata": {},
   "outputs": [],
   "source": [
    "# Using enumerate to iterate with index and value.\n",
    "fruits = [\"apple\", \"banana\", \"orange\"]\n",
    "for index, fruit in enumerate(fruits):\n",
    "    print(\"Index:\", index, \"Fruit:\", fruit)\n"
   ]
  },
  {
   "cell_type": "code",
   "execution_count": null,
   "metadata": {},
   "outputs": [],
   "source": [
    "# Exiting a loop prematurely with break.\n",
    "numbers = [1, 2, 3, 4, 5]\n",
    "for num in numbers:\n",
    "    if num == 3:\n",
    "        break\n",
    "    print(num)\n"
   ]
  },
  {
   "cell_type": "code",
   "execution_count": null,
   "metadata": {},
   "outputs": [],
   "source": [
    "# Skipping iteration with continue.\n",
    "numbers = [1, 2, 3, 4, 5]\n",
    "for num in numbers:\n",
    "    if num == 3:\n",
    "        continue\n",
    "    print(num)\n"
   ]
  },
  {
   "cell_type": "code",
   "execution_count": null,
   "metadata": {},
   "outputs": [],
   "source": [
    "# Using nested for loops to iterate over multiple sequences.\n",
    "for i in range(3):\n",
    "    for j in range(2):\n",
    "        print(i, j)\n"
   ]
  },
  {
   "cell_type": "code",
   "execution_count": null,
   "metadata": {},
   "outputs": [],
   "source": [
    "# Iterating over a dictionary using a for loop.\n",
    "student_scores = {\"Alice\": 90, \"Bob\": 85, \"Eve\": 92}\n",
    "for name, score in student_scores.items():\n",
    "    print(name, \"scored\", score)\n"
   ]
  },
  {
   "cell_type": "code",
   "execution_count": null,
   "metadata": {},
   "outputs": [],
   "source": [
    "# Using zip to iterate over multiple sequences in parallel.\n",
    "names = [\"Alice\", \"Bob\", \"Eve\"]\n",
    "scores = [90, 85, 92]\n",
    "for name, score in zip(names, scores):\n",
    "    print(name, \"scored\", score)\n"
   ]
  },
  {
   "cell_type": "code",
   "execution_count": null,
   "metadata": {},
   "outputs": [],
   "source": [
    "# Iterating over a list in reverse using a for loop.\n",
    "numbers = [1, 2, 3, 4, 5]\n",
    "for num in reversed(numbers):\n",
    "    print(num)\n"
   ]
  },
  {
   "cell_type": "code",
   "execution_count": null,
   "metadata": {},
   "outputs": [],
   "source": [
    "# Using range with a step value.\n",
    "for num in range(0, 10, 2):\n",
    "    print(num)\n"
   ]
  },
  {
   "cell_type": "code",
   "execution_count": null,
   "metadata": {},
   "outputs": [],
   "source": [
    "# Using for-else to check if loop completed without break.\n",
    "numbers = [1, 2, 3, 4, 5]\n",
    "for num in numbers:\n",
    "    if num == 6:\n",
    "        break\n",
    "else:\n",
    "    print(\"Loop completed without break.\")\n"
   ]
  },
  {
   "cell_type": "code",
   "execution_count": null,
   "metadata": {},
   "outputs": [],
   "source": [
    "# Iterating over nested lists using a for loop.\n",
    "matrix = [[1, 2, 3], [4, 5, 6], [7, 8, 9]]\n",
    "for row in matrix:\n",
    "    for element in row:\n",
    "        print(element, end=\" \")\n",
    "    print()\n"
   ]
  },
  {
   "cell_type": "code",
   "execution_count": null,
   "metadata": {},
   "outputs": [],
   "source": []
  },
  {
   "cell_type": "code",
   "execution_count": null,
   "metadata": {},
   "outputs": [],
   "source": []
  },
  {
   "cell_type": "markdown",
   "metadata": {},
   "source": [
    "## while Loops"
   ]
  },
  {
   "cell_type": "markdown",
   "metadata": {},
   "source": [
    "## while Loops in Python\n",
    "\n",
    "A `while` loop is used to repeatedly execute a block of code as long as a certain condition remains `True`. Unlike `for` loops, `while` loops do not require a predefined sequence to iterate over.\n",
    "\n",
    "- The `while` loop repeatedly executes code as long as a condition holds `True`.\n",
    "- The `break` statement can be used to exit the loop prematurely.\n",
    "- The `continue` statement can be used to skip the current iteration and proceed to the next.\n",
    "\n",
    "`while` loops are useful for situations where you want to keep performing an action until a specific condition is no longer satisfied.\n",
    "\n",
    "### Common Functionalities\n",
    "\n",
    "1. **Looping Based on Condition**: Using a `while` loop to execute code as long as a condition is `True`.\n",
    "2. **Exiting Early**: Using the `break` statement to exit the loop prematurely.\n",
    "3. **Skipping Iterations**: Using the `continue` statement to skip the current iteration.\n",
    "\n",
    "`while` loops offer flexibility in creating loops that depend on dynamic conditions.\n",
    "\n",
    "## Learn More\n",
    "\n",
    "To learn more about `while` loops, you can refer to the official Python documentation: [Python while Loops Documentation](https://docs.python.org/3/reference/compound_stmts.html#the-while-statement)\n"
   ]
  },
  {
   "cell_type": "code",
   "execution_count": null,
   "metadata": {},
   "outputs": [],
   "source": [
    "# Basic while loop example.\n",
    "count = 0\n",
    "while count < 5:\n",
    "    print(\"Count:\", count)\n",
    "    count += 1\n"
   ]
  },
  {
   "cell_type": "code",
   "execution_count": null,
   "metadata": {},
   "outputs": [],
   "source": [
    "# Using a while loop with user input.\n",
    "password = \"secret\"\n",
    "input_password = input(\"Enter the password: \")\n",
    "while input_password != password:\n",
    "    print(\"Incorrect password. Try again.\")\n",
    "    input_password = input(\"Enter the password: \")\n",
    "print(\"Access granted.\")\n"
   ]
  },
  {
   "cell_type": "code",
   "execution_count": null,
   "metadata": {},
   "outputs": [],
   "source": [
    "# Creating an infinite loop with a break statement.\n",
    "while True:\n",
    "    user_input = input(\"Enter 'exit' to quit: \")\n",
    "    if user_input == \"exit\":\n",
    "        break\n",
    "    print(\"You entered:\", user_input)\n",
    "print(\"Loop exited.\")\n"
   ]
  },
  {
   "cell_type": "code",
   "execution_count": null,
   "metadata": {},
   "outputs": [],
   "source": [
    "# Using continue to skip iteration.\n",
    "count = 0\n",
    "while count < 5:\n",
    "    count += 1\n",
    "    if count == 3:\n",
    "        continue\n",
    "    print(\"Count:\", count)\n"
   ]
  },
  {
   "cell_type": "code",
   "execution_count": null,
   "metadata": {},
   "outputs": [],
   "source": [
    "# Using nested while loops.\n",
    "outer_count = 0\n",
    "inner_count = 0\n",
    "while outer_count < 3:\n",
    "    print(\"Outer:\", outer_count)\n",
    "    while inner_count < 2:\n",
    "        print(\"Inner:\", inner_count)\n",
    "        inner_count += 1\n",
    "    outer_count += 1\n",
    "    inner_count = 0\n"
   ]
  },
  {
   "cell_type": "code",
   "execution_count": null,
   "metadata": {},
   "outputs": [],
   "source": [
    "# Using while loop with lists.\n",
    "numbers = [1, 2, 3, 4, 5]\n",
    "index = 0\n",
    "while index < len(numbers):\n",
    "    print(numbers[index])\n",
    "    index += 1\n"
   ]
  },
  {
   "cell_type": "code",
   "execution_count": null,
   "metadata": {},
   "outputs": [],
   "source": [
    "# Checking for prime numbers using while loop.\n",
    "number = int(input(\"Enter a number: \"))\n",
    "is_prime = True\n",
    "divisor = 2\n",
    "while divisor <= number ** 0.5:\n",
    "    if number % divisor == 0:\n",
    "        is_prime = False\n",
    "        break\n",
    "    divisor += 1\n",
    "if is_prime:\n",
    "    print(number, \"is a prime number.\")\n",
    "else:\n",
    "    print(number, \"is not a prime number.\")\n"
   ]
  },
  {
   "cell_type": "code",
   "execution_count": null,
   "metadata": {},
   "outputs": [],
   "source": [
    "# Using else with a while loop.\n",
    "number = 5\n",
    "while number > 0:\n",
    "    print(number)\n",
    "    number -= 1\n",
    "else:\n",
    "    print(\"Loop finished.\")\n"
   ]
  },
  {
   "cell_type": "code",
   "execution_count": null,
   "metadata": {},
   "outputs": [],
   "source": [
    "# Using a while loop for input validation.\n",
    "while True:\n",
    "    user_input = input(\"Enter a positive number: \")\n",
    "    if user_input.isdigit() and int(user_input) > 0:\n",
    "        break\n",
    "    print(\"Invalid input. Please try again.\")\n",
    "print(\"You entered a valid positive number.\")\n"
   ]
  },
  {
   "cell_type": "code",
   "execution_count": null,
   "metadata": {},
   "outputs": [],
   "source": [
    "# Reversing a number using a while loop.\n",
    "number = int(input(\"Enter a number: \"))\n",
    "reversed_number = 0\n",
    "while number > 0:\n",
    "    digit = number % 10\n",
    "    reversed_number = reversed_number * 10 + digit\n",
    "    number //= 10\n",
    "print(\"Reversed:\", reversed_number)\n"
   ]
  },
  {
   "cell_type": "code",
   "execution_count": null,
   "metadata": {},
   "outputs": [],
   "source": [
    "# Calculating factorial using a while loop.\n",
    "n = int(input(\"Enter a number: \"))\n",
    "factorial = 1\n",
    "while n > 0:\n",
    "    factorial *= n\n",
    "    n -= 1\n",
    "print(\"Factorial:\", factorial)\n"
   ]
  },
  {
   "cell_type": "code",
   "execution_count": null,
   "metadata": {},
   "outputs": [],
   "source": [
    "# Using a while loop to create patterns.\n",
    "row = 1\n",
    "while row <= 5:\n",
    "    print(\"*\" * row)\n",
    "    row += 1\n"
   ]
  },
  {
   "cell_type": "code",
   "execution_count": null,
   "metadata": {},
   "outputs": [],
   "source": [
    "# Generating Collatz sequence using a while loop.\n",
    "n = int(input(\"Enter a number: \"))\n",
    "while n != 1:\n",
    "    print(n, end=\" \")\n",
    "    if n % 2 == 0:\n",
    "        n //= 2\n",
    "    else:\n",
    "        n = 3 * n + 1\n",
    "print(n)\n"
   ]
  },
  {
   "cell_type": "code",
   "execution_count": null,
   "metadata": {},
   "outputs": [],
   "source": [
    "# Guessing game with a random number using a while loop.\n",
    "import random\n",
    "target_number = random.randint(1, 100)\n",
    "attempts = 0\n",
    "while True:\n",
    "    guess = int(input(\"Guess a number between 1 and 100: \"))\n",
    "    attempts += 1\n",
    "    if guess < target_number:\n",
    "        print(\"Too low!\")\n",
    "    elif guess > target_number:\n",
    "        print(\"Too high!\")\n",
    "    else:\n",
    "        print(\"Congratulations! You guessed it in\", attempts, \"attempts.\")\n",
    "        break\n"
   ]
  },
  {
   "cell_type": "code",
   "execution_count": null,
   "metadata": {},
   "outputs": [],
   "source": [
    "# Using a while loop with input confirmation.\n",
    "confirmation = False\n",
    "while not confirmation:\n",
    "    user_input = input(\"Are you sure? (yes/no): \").lower()\n",
    "    if user_input == \"yes\":\n",
    "        print(\"Confirmed.\")\n",
    "        confirmation = True\n",
    "    elif user_input == \"no\":\n",
    "        print(\"Not confirmed.\")\n",
    "        confirmation = True\n",
    "    else:\n",
    "        print(\"Invalid input. Please enter 'yes' or 'no'.\")\n"
   ]
  },
  {
   "cell_type": "code",
   "execution_count": null,
   "metadata": {},
   "outputs": [],
   "source": []
  },
  {
   "cell_type": "code",
   "execution_count": null,
   "metadata": {},
   "outputs": [],
   "source": []
  },
  {
   "cell_type": "markdown",
   "metadata": {},
   "source": [
    "## range()"
   ]
  },
  {
   "cell_type": "markdown",
   "metadata": {},
   "source": [
    "## `range` Function in Python\n",
    "\n",
    "The `range` function is used to generate a sequence of numbers that can be used for iteration and looping purposes. It provides a convenient way to create sequences without having to explicitly list all the values. The `range` function generates numbers starting from a specified value, up to (but not including) another specified value, with an optional step value.\n",
    "\n",
    "- The basic form of the `range` function is `range(stop)`, which generates numbers from 0 to `stop - 1`.\n",
    "- You can also use `range(start, stop)` to specify a starting value.\n",
    "- Adding a third argument, `range(start, stop, step)` allows you to specify the step size between numbers.\n",
    "\n",
    "The `range` function is memory-efficient, as it generates numbers on-the-fly without creating a large list in memory.\n",
    "\n",
    "### Common Functionalities\n",
    "\n",
    "1. **Generating a Sequence**: Creating a sequence of numbers using the `range` function.\n",
    "2. **Using `range()` in a `for` Loop**: Using `range` to iterate over a sequence in a loop.\n",
    "3. **Specifying Start and Stop**: Using `range(start, stop)` to create a sequence starting from a specific value.\n",
    "4. **Using Step Size**: Using `range(start, stop, step)` to create a sequence with a specified step size.\n",
    "\n",
    "The `range` function is a powerful tool for generating sequences and controlling iterations in loops.\n",
    "\n",
    "## Learn More\n",
    "\n",
    "To learn more about the `range` function, you can refer to the official Python documentation: [Python `range` Function Documentation](https://docs.python.org/3/library/stdtypes.html#range)\n"
   ]
  },
  {
   "cell_type": "code",
   "execution_count": null,
   "metadata": {},
   "outputs": [],
   "source": [
    "# Using basic range to generate numbers from 0 to 9.\n",
    "for num in range(10):\n",
    "    print(num)\n"
   ]
  },
  {
   "cell_type": "code",
   "execution_count": null,
   "metadata": {},
   "outputs": [],
   "source": [
    "# Using range with start and stop values.\n",
    "for num in range(5, 10):\n",
    "    print(num)\n"
   ]
  },
  {
   "cell_type": "code",
   "execution_count": null,
   "metadata": {},
   "outputs": [],
   "source": [
    "# Using range with step value.\n",
    "for num in range(0, 10, 2):\n",
    "    print(num)\n"
   ]
  },
  {
   "cell_type": "code",
   "execution_count": null,
   "metadata": {},
   "outputs": [],
   "source": [
    "# Generating a reverse sequence using range.\n",
    "for num in range(10, 0, -1):\n",
    "    print(num)\n"
   ]
  },
  {
   "cell_type": "code",
   "execution_count": null,
   "metadata": {},
   "outputs": [],
   "source": [
    "# Using range to create a list of numbers.\n",
    "numbers = list(range(5))\n",
    "print(numbers)\n"
   ]
  },
  {
   "cell_type": "code",
   "execution_count": null,
   "metadata": {},
   "outputs": [],
   "source": [
    "# Using range in a for loop to generate a sequence.\n",
    "for num in range(3):\n",
    "    print(\"Iteration\", num)\n"
   ]
  },
  {
   "cell_type": "code",
   "execution_count": null,
   "metadata": {},
   "outputs": [],
   "source": [
    "# Creating a custom countdown using range.\n",
    "countdown_start = 5\n",
    "for num in range(countdown_start, 0, -1):\n",
    "    print(\"Countdown:\", num)\n",
    "print(\"Blast off!\")\n"
   ]
  },
  {
   "cell_type": "code",
   "execution_count": null,
   "metadata": {},
   "outputs": [],
   "source": [
    "# Summing numbers in a range using the sum function.\n",
    "sum_range = range(1, 6)\n",
    "sum_result = sum(sum_range)\n",
    "print(\"Sum of range:\", sum_result)\n"
   ]
  },
  {
   "cell_type": "code",
   "execution_count": null,
   "metadata": {},
   "outputs": [],
   "source": [
    "# Using range for indexing a list.\n",
    "fruits = [\"apple\", \"banana\", \"orange\", \"grape\"]\n",
    "for index in range(len(fruits)):\n",
    "    print(\"Index:\", index, \"Fruit:\", fruits[index])\n"
   ]
  },
  {
   "cell_type": "code",
   "execution_count": null,
   "metadata": {},
   "outputs": [],
   "source": [
    "# Generating squares of numbers using range.\n",
    "for num in range(1, 6):\n",
    "    square = num ** 2\n",
    "    print(\"Number:\", num, \"Square:\", square)\n"
   ]
  },
  {
   "cell_type": "code",
   "execution_count": null,
   "metadata": {},
   "outputs": [],
   "source": [
    "# Using enumerate with range for index and value.\n",
    "fruits = [\"apple\", \"banana\", \"orange\"]\n",
    "for index, fruit in enumerate(fruits, start=1):\n",
    "    print(\"Index:\", index, \"Fruit:\", fruit)\n"
   ]
  },
  {
   "cell_type": "code",
   "execution_count": null,
   "metadata": {},
   "outputs": [],
   "source": [
    "# Using range to generate odd numbers.\n",
    "odd_numbers = list(range(1, 10, 2))\n",
    "print(odd_numbers)\n"
   ]
  },
  {
   "cell_type": "code",
   "execution_count": null,
   "metadata": {},
   "outputs": [],
   "source": [
    "# Creating a simple progress bar using range.\n",
    "total_steps = 10\n",
    "for step in range(total_steps):\n",
    "    progress = (step + 1) / total_steps * 100\n",
    "    print(f\"Progress: {progress:.2f}%\")\n"
   ]
  },
  {
   "cell_type": "code",
   "execution_count": null,
   "metadata": {},
   "outputs": [],
   "source": [
    "# Using range in list comprehension.\n",
    "squares = [num ** 2 for num in range(1, 6)]\n",
    "print(squares)\n"
   ]
  },
  {
   "cell_type": "code",
   "execution_count": null,
   "metadata": {},
   "outputs": [],
   "source": [
    "# Generating Fibonacci sequence using range.\n",
    "fibonacci = [0, 1]\n",
    "for _ in range(8):\n",
    "    next_fib = fibonacci[-1] + fibonacci[-2]\n",
    "    fibonacci.append(next_fib)\n",
    "print(fibonacci)\n"
   ]
  },
  {
   "cell_type": "code",
   "execution_count": null,
   "metadata": {},
   "outputs": [],
   "source": []
  },
  {
   "cell_type": "markdown",
   "metadata": {},
   "source": [
    "## list comprehension"
   ]
  },
  {
   "cell_type": "markdown",
   "metadata": {},
   "source": [
    "## List Comprehension in Python\n",
    "\n",
    "List comprehension is a concise and expressive way to create lists in Python. It allows you to generate new lists by applying an expression to each item in an existing sequence, such as a list, tuple, or range.\n",
    "\n",
    "- The basic syntax of list comprehension is `[expression for item in sequence]`.\n",
    "- You can also include an optional condition using the syntax `[expression for item in sequence if condition]`.\n",
    "\n",
    "List comprehensions are powerful tools for creating lists in a more readable and efficient manner compared to traditional loops.\n",
    "\n",
    "### Common Functionalities\n",
    "\n",
    "1. **Basic List Creation**: Creating a new list by applying an expression to each item in a sequence.\n",
    "2. **Filtering with Conditions**: Adding a condition to the comprehension to filter items in the sequence.\n",
    "3. **Nested List Comprehensions**: Using list comprehensions within list comprehensions.\n",
    "\n",
    "List comprehensions are widely used to create new lists and transform existing data structures efficiently.\n",
    "\n",
    "## Learn More\n",
    "\n",
    "To learn more about list comprehension, you can refer to the official Python documentation: [Python List Comprehension Documentation](https://docs.python.org/3/tutorial/datastructures.html#list-comprehensions)\n"
   ]
  },
  {
   "cell_type": "code",
   "execution_count": null,
   "metadata": {},
   "outputs": [],
   "source": [
    "# Using list comprehension to create a list of squares.\n",
    "numbers = [1, 2, 3, 4, 5]\n",
    "squares = [num ** 2 for num in numbers]\n",
    "print(squares)\n"
   ]
  },
  {
   "cell_type": "code",
   "execution_count": null,
   "metadata": {},
   "outputs": [],
   "source": [
    "# Using list comprehension to filter odd numbers.\n",
    "numbers = [1, 2, 3, 4, 5]\n",
    "odd_numbers = [num for num in numbers if num % 2 != 0]\n",
    "print(odd_numbers)\n"
   ]
  },
  {
   "cell_type": "code",
   "execution_count": null,
   "metadata": {},
   "outputs": [],
   "source": [
    "# Using list comprehension to create a list of uppercase letters.\n",
    "letters = ['a', 'b', 'c', 'd', 'e']\n",
    "uppercase_letters = [letter.upper() for letter in letters]\n",
    "print(uppercase_letters)\n"
   ]
  },
  {
   "cell_type": "code",
   "execution_count": null,
   "metadata": {},
   "outputs": [],
   "source": [
    "# Using list comprehension to apply a function to each item.\n",
    "numbers = [1, 2, 3, 4, 5]\n",
    "squared_root = [num ** 0.5 for num in numbers]\n",
    "print(squared_root)\n"
   ]
  },
  {
   "cell_type": "code",
   "execution_count": null,
   "metadata": {},
   "outputs": [],
   "source": [
    "# Using list comprehension to filter and apply a function.\n",
    "numbers = [1, 2, 3, 4, 5]\n",
    "even_square_root = [num ** 0.5 for num in numbers if num % 2 == 0]\n",
    "print(even_square_root)\n"
   ]
  },
  {
   "cell_type": "code",
   "execution_count": null,
   "metadata": {},
   "outputs": [],
   "source": [
    "# Using list comprehension to create a list of tuples.\n",
    "numbers = [1, 2, 3, 4, 5]\n",
    "tuples = [(num, num ** 2) for num in numbers]\n",
    "print(tuples)\n"
   ]
  },
  {
   "cell_type": "code",
   "execution_count": null,
   "metadata": {},
   "outputs": [],
   "source": [
    "# Using list comprehension to remove punctuation from strings.\n",
    "sentences = [\"Hello, world!\", \"How are you?\", \"Python is great!\"]\n",
    "without_punctuation = [''.join(char for char in sentence if char.isalnum() or char.isspace()) for sentence in sentences]\n",
    "print(without_punctuation)\n"
   ]
  },
  {
   "cell_type": "code",
   "execution_count": null,
   "metadata": {},
   "outputs": [],
   "source": [
    "# Using list comprehension to flatten a list of lists.\n",
    "matrix = [[1, 2, 3], [4, 5, 6], [7, 8, 9]]\n",
    "flattened = [num for row in matrix for num in row]\n",
    "print(flattened)\n"
   ]
  },
  {
   "cell_type": "code",
   "execution_count": null,
   "metadata": {},
   "outputs": [],
   "source": [
    "# Using list comprehension to create a list of squares of even numbers.\n",
    "numbers = [1, 2, 3, 4, 5]\n",
    "even_squares = [num ** 2 for num in numbers if num % 2 == 0]\n",
    "print(even_squares)\n"
   ]
  },
  {
   "cell_type": "code",
   "execution_count": null,
   "metadata": {},
   "outputs": [],
   "source": [
    "# Using nested list comprehensions to transpose a matrix.\n",
    "matrix = [[1, 2, 3], [4, 5, 6], [7, 8, 9]]\n",
    "transposed = [[row[i] for row in matrix] for i in range(len(matrix[0]))]\n",
    "print(transposed)\n"
   ]
  },
  {
   "cell_type": "markdown",
   "metadata": {},
   "source": [
    "## functions"
   ]
  },
  {
   "cell_type": "markdown",
   "metadata": {},
   "source": [
    "## Functions in Python\n",
    "\n",
    "Functions are blocks of organized, reusable code designed to perform a specific task. They provide a way to break down complex tasks into smaller, manageable parts, making code more modular and easier to understand. Functions enhance code reusability, readability, and maintainability.\n",
    "\n",
    "- A function is defined using the `def` keyword followed by the function name and parentheses.\n",
    "- Arguments (inputs) can be passed to functions, and the function can return a value using the `return` statement.\n",
    "- Functions can have default arguments, allowing for flexibility in usage.\n",
    "- Functions are called by their name followed by parentheses containing arguments.\n",
    "\n",
    "### Common Functionalities\n",
    "\n",
    "1. **Function Definition**: Defining a function using the `def` keyword.\n",
    "2. **Function Call**: Calling a function by its name followed by parentheses.\n",
    "3. **Passing Arguments**: Passing arguments to functions to provide inputs.\n",
    "4. **Returning Values**: Using the `return` statement to provide outputs from functions.\n",
    "\n",
    "Functions play a crucial role in structuring and organizing code, promoting reusability and maintainability.\n",
    "\n",
    "## Learn More\n",
    "\n",
    "To learn more about functions, you can refer to the official Python documentation: [Python Functions Documentation](https://docs.python.org/3/tutorial/controlflow.html#defining-functions)\n"
   ]
  },
  {
   "cell_type": "code",
   "execution_count": null,
   "metadata": {},
   "outputs": [],
   "source": [
    "# Defining and calling a basic function.\n",
    "def greet():\n",
    "    print(\"Hello, world!\")\n",
    "\n",
    "greet()\n"
   ]
  },
  {
   "cell_type": "code",
   "execution_count": null,
   "metadata": {},
   "outputs": [],
   "source": [
    "# Defining and calling a function with arguments.\n",
    "def greet(name):\n",
    "    print(\"Hello,\", name)\n",
    "\n",
    "greet(\"Alice\")\n",
    "greet(\"Bob\")\n"
   ]
  },
  {
   "cell_type": "code",
   "execution_count": null,
   "metadata": {},
   "outputs": [],
   "source": [
    "# Function with default argument.\n",
    "def greet(name=\"Guest\"):\n",
    "    print(\"Hello,\", name)\n",
    "\n",
    "greet()\n",
    "greet(\"Alice\")\n"
   ]
  },
  {
   "cell_type": "code",
   "execution_count": null,
   "metadata": {},
   "outputs": [],
   "source": [
    "# Function with return value.\n",
    "def square(number):\n",
    "    return number ** 2\n",
    "\n",
    "result = square(5)\n",
    "print(\"Square:\", result)\n"
   ]
  },
  {
   "cell_type": "code",
   "execution_count": null,
   "metadata": {},
   "outputs": [],
   "source": [
    "# Function with multiple return values.\n",
    "def get_info():\n",
    "    name = \"Alice\"\n",
    "    age = 30\n",
    "    return name, age\n",
    "\n",
    "name, age = get_info()\n",
    "print(\"Name:\", name, \"Age:\", age)\n"
   ]
  },
  {
   "cell_type": "code",
   "execution_count": null,
   "metadata": {},
   "outputs": [],
   "source": [
    "# Function with keyword arguments.\n",
    "def info(name, age):\n",
    "    print(\"Name:\", name)\n",
    "    print(\"Age:\", age)\n",
    "\n",
    "info(name=\"Alice\", age=25)\n"
   ]
  },
  {
   "cell_type": "code",
   "execution_count": null,
   "metadata": {},
   "outputs": [],
   "source": [
    "# Function with variable number of arguments.\n",
    "def sum_numbers(*args):\n",
    "    total = sum(args)\n",
    "    return total\n",
    "\n",
    "result = sum_numbers(1, 2, 3, 4, 5)\n",
    "print(\"Sum:\", result)\n"
   ]
  },
  {
   "cell_type": "code",
   "execution_count": null,
   "metadata": {},
   "outputs": [],
   "source": [
    "# Recursive function to calculate factorial.\n",
    "def factorial(n):\n",
    "    if n == 0:\n",
    "        return 1\n",
    "    return n * factorial(n - 1)\n",
    "\n",
    "result = factorial(5)\n",
    "print(\"Factorial:\", result)\n"
   ]
  },
  {
   "cell_type": "code",
   "execution_count": null,
   "metadata": {},
   "outputs": [],
   "source": [
    "# Using lambda function to square a number.\n",
    "square = lambda x: x ** 2\n",
    "result = square(4)\n",
    "print(\"Square:\", result)\n"
   ]
  },
  {
   "cell_type": "code",
   "execution_count": null,
   "metadata": {},
   "outputs": [],
   "source": [
    "# Passing a function as an argument to another function.\n",
    "def apply_operation(func, num):\n",
    "    return func(num)\n",
    "\n",
    "def double(number):\n",
    "    return number * 2\n",
    "\n",
    "result = apply_operation(double, 3)\n",
    "print(\"Result:\", result)\n"
   ]
  },
  {
   "cell_type": "code",
   "execution_count": null,
   "metadata": {},
   "outputs": [],
   "source": [
    "# Using built-in functions like len() and max().\n",
    "numbers = [3, 5, 2, 8, 1]\n",
    "length = len(numbers)\n",
    "maximum = max(numbers)\n",
    "print(\"Length:\", length, \"Maximum:\", maximum)\n"
   ]
  },
  {
   "cell_type": "code",
   "execution_count": null,
   "metadata": {},
   "outputs": [],
   "source": [
    "# Modifying a mutable object within a function.\n",
    "def modify_list(input_list):\n",
    "    input_list.append(10)\n",
    "\n",
    "my_list = [1, 2, 3]\n",
    "modify_list(my_list)\n",
    "print(\"Modified List:\", my_list)\n"
   ]
  },
  {
   "cell_type": "code",
   "execution_count": null,
   "metadata": {},
   "outputs": [],
   "source": [
    "# Using functions from the math module.\n",
    "import math\n",
    "\n",
    "square_root = math.sqrt(16)\n",
    "print(\"Square Root:\", square_root)\n"
   ]
  },
  {
   "cell_type": "code",
   "execution_count": null,
   "metadata": {},
   "outputs": [],
   "source": [
    "# Using nested functions.\n",
    "def outer_function():\n",
    "    def inner_function():\n",
    "        print(\"Inside inner function.\")\n",
    "    inner_function()\n",
    "\n",
    "outer_function()\n"
   ]
  },
  {
   "cell_type": "code",
   "execution_count": null,
   "metadata": {},
   "outputs": [],
   "source": [
    "# Using functions in list comprehension.\n",
    "numbers = [1, 2, 3, 4, 5]\n",
    "squared_numbers = [square(num) for num in numbers]\n",
    "print(squared_numbers)\n"
   ]
  },
  {
   "cell_type": "code",
   "execution_count": null,
   "metadata": {},
   "outputs": [],
   "source": []
  },
  {
   "cell_type": "code",
   "execution_count": null,
   "metadata": {},
   "outputs": [],
   "source": []
  },
  {
   "cell_type": "code",
   "execution_count": null,
   "metadata": {},
   "outputs": [],
   "source": []
  },
  {
   "cell_type": "markdown",
   "metadata": {},
   "source": [
    "## lambda expressions"
   ]
  },
  {
   "cell_type": "markdown",
   "metadata": {},
   "source": [
    "## Lambda Expressions in Python\n",
    "\n",
    "Lambda expressions, also known as lambda functions, are anonymous, one-line functions that can be used for simple operations. They are created using the `lambda` keyword and can take any number of arguments but can only have one expression.\n",
    "\n",
    "- The basic syntax of a lambda expression is `lambda arguments: expression`.\n",
    "- Lambda expressions are often used for short, throwaway operations without the need to define a separate named function.\n",
    "\n",
    "### Common Functionalities\n",
    "\n",
    "1. **Basic Lambda Expression**: Creating a simple lambda function for a single operation.\n",
    "2. **Using Lambda with Built-in Functions**: Applying lambda functions with built-in functions like `map`, `filter`, and `sorted`.\n",
    "3. **Lambda with Multiple Arguments**: Creating lambda functions with multiple arguments.\n",
    "4. **Sorting with Custom Key**: Using lambda to customize sorting criteria.\n",
    "\n",
    "Lambda expressions are useful for quick, concise operations and are often used in functional programming paradigms.\n",
    "\n",
    "## Learn More\n",
    "\n",
    "To learn more about lambda expressions, you can refer to the official Python documentation: [Python Lambda Expressions Documentation](https://docs.python.org/3/tutorial/controlflow.html#lambda-expressions)\n"
   ]
  },
  {
   "cell_type": "code",
   "execution_count": null,
   "metadata": {},
   "outputs": [],
   "source": [
    "# Basic lambda expression to calculate the square.\n",
    "square = lambda x: x ** 2\n",
    "result = square(4)\n",
    "print(\"Square:\", result)\n"
   ]
  },
  {
   "cell_type": "code",
   "execution_count": null,
   "metadata": {},
   "outputs": [],
   "source": [
    "# Using lambda with map to double each number in a list.\n",
    "numbers = [1, 2, 3, 4, 5]\n",
    "doubled = list(map(lambda x: x * 2, numbers))\n",
    "print(\"Doubled:\", doubled)\n"
   ]
  },
  {
   "cell_type": "code",
   "execution_count": null,
   "metadata": {},
   "outputs": [],
   "source": [
    "# Using lambda with filter to keep even numbers from a list.\n",
    "numbers = [1, 2, 3, 4, 5]\n",
    "evens = list(filter(lambda x: x % 2 == 0, numbers))\n",
    "print(\"Even Numbers:\", evens)\n"
   ]
  },
  {
   "cell_type": "code",
   "execution_count": null,
   "metadata": {},
   "outputs": [],
   "source": [
    "# Sorting a list of strings by their lengths using lambda.\n",
    "words = [\"apple\", \"banana\", \"cherry\", \"date\", \"elderberry\"]\n",
    "sorted_words = sorted(words, key=lambda word: len(word))\n",
    "print(\"Sorted Words:\", sorted_words)\n"
   ]
  },
  {
   "cell_type": "code",
   "execution_count": null,
   "metadata": {},
   "outputs": [],
   "source": [
    "# Using lambda with a conditional expression.\n",
    "is_even = lambda x: True if x % 2 == 0 else False\n",
    "print(\"Is 4 even?\", is_even(4))\n",
    "print(\"Is 5 even?\", is_even(5))\n"
   ]
  },
  {
   "cell_type": "code",
   "execution_count": null,
   "metadata": {},
   "outputs": [],
   "source": [
    "# Using lambda for arithmetic operations.\n",
    "add = lambda x, y: x + y\n",
    "subtract = lambda x, y: x - y\n",
    "multiply = lambda x, y: x * y\n",
    "divide = lambda x, y: x / y\n",
    "\n",
    "print(\"Addition:\", add(3, 4))\n",
    "print(\"Subtraction:\", subtract(10, 5))\n",
    "print(\"Multiplication:\", multiply(2, 6))\n",
    "print(\"Division:\", divide(20, 4))\n"
   ]
  },
  {
   "cell_type": "code",
   "execution_count": null,
   "metadata": {},
   "outputs": [],
   "source": [
    "# Sorting a list of tuples based on the second element using lambda.\n",
    "students = [(\"Alice\", 90), (\"Bob\", 85), (\"Charlie\", 95)]\n",
    "sorted_students = sorted(students, key=lambda student: student[1], reverse=True)\n",
    "print(\"Sorted Students:\", sorted_students)\n"
   ]
  },
  {
   "cell_type": "code",
   "execution_count": null,
   "metadata": {},
   "outputs": [],
   "source": [
    "# Combining lambda with other functions.\n",
    "numbers = [1, 2, 3, 4, 5]\n",
    "squared_evens = list(map(lambda x: x ** 2, filter(lambda x: x % 2 == 0, numbers)))\n",
    "print(\"Squared Evens:\", squared_evens)\n"
   ]
  },
  {
   "cell_type": "code",
   "execution_count": null,
   "metadata": {},
   "outputs": [],
   "source": [
    "# Using lambda to capitalize the first letter of words in a list.\n",
    "words = [\"apple\", \"banana\", \"cherry\"]\n",
    "capitalized_words = list(map(lambda word: word.capitalize(), words))\n",
    "print(\"Capitalized Words:\", capitalized_words)\n"
   ]
  },
  {
   "cell_type": "code",
   "execution_count": null,
   "metadata": {},
   "outputs": [],
   "source": [
    "# Using lambda to find the maximum of two numbers.\n",
    "find_max = lambda x, y: x if x > y else y\n",
    "print(\"Maximum:\", find_max(7, 12))\n"
   ]
  },
  {
   "cell_type": "code",
   "execution_count": null,
   "metadata": {},
   "outputs": [],
   "source": []
  },
  {
   "cell_type": "code",
   "execution_count": null,
   "metadata": {},
   "outputs": [],
   "source": []
  },
  {
   "cell_type": "code",
   "execution_count": null,
   "metadata": {},
   "outputs": [],
   "source": []
  },
  {
   "cell_type": "code",
   "execution_count": null,
   "metadata": {},
   "outputs": [],
   "source": []
  },
  {
   "cell_type": "markdown",
   "metadata": {},
   "source": [
    "## map and filter"
   ]
  },
  {
   "cell_type": "markdown",
   "metadata": {},
   "source": [
    "## `map` and `filter` in Python\n",
    "\n",
    "`map` and `filter` are built-in functions in Python that operate on iterables (e.g., lists, tuples) to perform transformations or filtering. They are part of functional programming and are used to process data more efficiently and concisely.\n",
    "\n",
    "### `map` Function\n",
    "\n",
    "- The `map` function applies a specified function to each item in an iterable and returns an iterator of the results.\n",
    "- It takes two arguments: the function to apply and the iterable.\n",
    "\n",
    "### `filter` Function\n",
    "\n",
    "- The `filter` function filters elements of an iterable based on a provided function that returns a boolean value (True or False).\n",
    "- It takes two arguments: the filtering function and the iterable.\n",
    "\n",
    "Both `map` and `filter` functions return iterators that can be converted to lists or used in further processing.\n",
    "\n",
    "### Common Functionalities\n",
    "\n",
    "1. **Transformation with `map`**: Applying a function to each item in an iterable.\n",
    "2. **Filtering with `filter`**: Filtering items based on a condition using a function.\n",
    "3. **Using Lambda with `map` and `filter`**: Combining `map` and `filter` with lambda functions.\n",
    "\n",
    "`map` and `filter` are powerful tools for processing data efficiently and maintaining code readability.\n",
    "\n",
    "## Learn More\n",
    "\n",
    "To learn more about `map` and `filter`, you can refer to the official Python documentation:\n",
    "- [Python `map` Function Documentation](https://docs.python.org/3/library/functions.html#map)\n",
    "- [Python `filter` Function Documentation](https://docs.python.org/3/library/functions.html#filter)\n"
   ]
  },
  {
   "cell_type": "code",
   "execution_count": null,
   "metadata": {},
   "outputs": [],
   "source": [
    "# Using map to square numbers in a list.\n",
    "numbers = [1, 2, 3, 4, 5]\n",
    "squared = map(lambda x: x ** 2, numbers)\n",
    "squared_list = list(squared)\n",
    "print(\"Squared:\", squared_list)\n"
   ]
  },
  {
   "cell_type": "code",
   "execution_count": null,
   "metadata": {},
   "outputs": [],
   "source": [
    "# Using map to capitalize strings in a list.\n",
    "words = [\"apple\", \"banana\", \"cherry\"]\n",
    "capitalized = map(lambda x: x.capitalize(), words)\n",
    "capitalized_list = list(capitalized)\n",
    "print(\"Capitalized Words:\", capitalized_list)\n"
   ]
  },
  {
   "cell_type": "code",
   "execution_count": null,
   "metadata": {},
   "outputs": [],
   "source": [
    "# Using map with built-in functions.\n",
    "numbers = [1, 2, 3, 4, 5]\n",
    "squared_root = map(lambda x: x ** 0.5, numbers)\n",
    "squared_root_list = list(squared_root)\n",
    "print(\"Square Root:\", squared_root_list)\n"
   ]
  },
  {
   "cell_type": "code",
   "execution_count": null,
   "metadata": {},
   "outputs": [],
   "source": [
    "# Using filter to keep even numbers from a list.\n",
    "numbers = [1, 2, 3, 4, 5]\n",
    "evens = filter(lambda x: x % 2 == 0, numbers)\n",
    "evens_list = list(evens)\n",
    "print(\"Even Numbers:\", evens_list)\n"
   ]
  },
  {
   "cell_type": "code",
   "execution_count": null,
   "metadata": {},
   "outputs": [],
   "source": [
    "# Using filter to keep positive numbers from a list.\n",
    "numbers = [-2, -1, 0, 1, 2]\n",
    "positives = filter(lambda x: x > 0, numbers)\n",
    "positives_list = list(positives)\n",
    "print(\"Positive Numbers:\", positives_list)\n"
   ]
  },
  {
   "cell_type": "code",
   "execution_count": null,
   "metadata": {},
   "outputs": [],
   "source": [
    "# Using filter to keep words with length greater than 5.\n",
    "words = [\"apple\", \"banana\", \"cherry\", \"date\", \"elderberry\"]\n",
    "long_words = filter(lambda x: len(x) > 5, words)\n",
    "long_words_list = list(long_words)\n",
    "print(\"Long Words:\", long_words_list)\n"
   ]
  },
  {
   "cell_type": "code",
   "execution_count": null,
   "metadata": {},
   "outputs": [],
   "source": [
    "# Using map and filter together to get squares of even numbers.\n",
    "numbers = [1, 2, 3, 4, 5]\n",
    "squares_of_evens = map(lambda x: x ** 2, filter(lambda x: x % 2 == 0, numbers))\n",
    "squares_of_evens_list = list(squares_of_evens)\n",
    "print(\"Squares of Evens:\", squares_of_evens_list)\n"
   ]
  },
  {
   "cell_type": "code",
   "execution_count": null,
   "metadata": {},
   "outputs": [],
   "source": [
    "# Using map and filter with lambda expressions.\n",
    "numbers = [1, 2, 3, 4, 5]\n",
    "filtered_and_squared = map(lambda x: x ** 2, filter(lambda x: x % 2 == 0, numbers))\n",
    "filtered_and_squared_list = list(filtered_and_squared)\n",
    "print(\"Filtered and Squared:\", filtered_and_squared_list)\n"
   ]
  },
  {
   "cell_type": "code",
   "execution_count": null,
   "metadata": {},
   "outputs": [],
   "source": [
    "# Using map and filter with built-in functions.\n",
    "names = [\"Alice\", \"Bob\", \"Charlie\"]\n",
    "result = map(len, filter(lambda name: len(name) <= 4, names))\n",
    "result_list = list(result)\n",
    "print(\"Lengths of Short Names:\", result_list)\n"
   ]
  },
  {
   "cell_type": "code",
   "execution_count": null,
   "metadata": {},
   "outputs": [],
   "source": [
    "# Using map with multiple iterables.\n",
    "numbers = [1, 2, 3, 4, 5]\n",
    "exponents = [2, 3, 2, 3, 2]\n",
    "powers = map(pow, numbers, exponents)\n",
    "powers_list = list(powers)\n",
    "print(\"Powers:\", powers_list)\n"
   ]
  },
  {
   "cell_type": "code",
   "execution_count": null,
   "metadata": {},
   "outputs": [],
   "source": []
  },
  {
   "cell_type": "code",
   "execution_count": null,
   "metadata": {},
   "outputs": [],
   "source": []
  },
  {
   "cell_type": "code",
   "execution_count": null,
   "metadata": {},
   "outputs": [],
   "source": []
  },
  {
   "cell_type": "markdown",
   "metadata": {},
   "source": [
    "# Great Job!\n",
    "## Farid"
   ]
  },
  {
   "cell_type": "code",
   "execution_count": null,
   "metadata": {},
   "outputs": [],
   "source": []
  }
 ],
 "metadata": {
  "kernelspec": {
   "display_name": "Python 3 (ipykernel)",
   "language": "python",
   "name": "python3"
  },
  "language_info": {
   "codemirror_mode": {
    "name": "ipython",
    "version": 3
   },
   "file_extension": ".py",
   "mimetype": "text/x-python",
   "name": "python",
   "nbconvert_exporter": "python",
   "pygments_lexer": "ipython3",
   "version": "3.10.9"
  }
 },
 "nbformat": 4,
 "nbformat_minor": 1
}
