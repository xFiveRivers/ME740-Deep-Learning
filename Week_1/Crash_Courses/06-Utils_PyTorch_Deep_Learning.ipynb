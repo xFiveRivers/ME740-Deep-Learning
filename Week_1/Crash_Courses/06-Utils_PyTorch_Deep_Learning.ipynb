{
 "cells": [
  {
   "cell_type": "markdown",
   "id": "1d92cdc0",
   "metadata": {},
   "source": [
    "# 06 - Utilities in PyTorch for Deep Learning\n",
    "\n",
    "This notebook covers various utility functions and methods in PyTorch that are useful for deep learning. It includes examples of using different utility functions like data loaders, tensor operations, and other common utilities."
   ]
  },
  {
   "cell_type": "markdown",
   "id": "bfb2c474",
   "metadata": {},
   "source": [
    "## 1. Data Loading Utilities\n",
    "\n",
    "PyTorch provides efficient utilities for loading and preprocessing data, which are crucial for training deep learning models."
   ]
  },
  {
   "cell_type": "code",
   "execution_count": null,
   "id": "9d5a4cf9",
   "metadata": {},
   "outputs": [],
   "source": [
    "# Example 1: Using DataLoader to Load Data in Batches\n",
    "from torch.utils.data import DataLoader, TensorDataset\n",
    "import torch\n",
    "\n",
    "# Create dummy dataset\n",
    "x = torch.randn(100, 3)\n",
    "y = torch.randn(100, 1)\n",
    "dataset = TensorDataset(x, y)\n",
    "\n",
    "# Create DataLoader\n",
    "dataloader = DataLoader(dataset, batch_size=10, shuffle=True)\n",
    "\n",
    "# Iterate through batches\n",
    "for batch in dataloader:\n",
    "    print(batch)"
   ]
  },
  {
   "cell_type": "code",
   "execution_count": null,
   "id": "eb3941c7",
   "metadata": {},
   "outputs": [],
   "source": [
    "# Example 2: Transformations using torchvision.transforms\n",
    "from torchvision import transforms\n",
    "from PIL import Image\n",
    "import torch\n",
    "\n",
    "# Define a transformation\n",
    "transform = transforms.Compose([\n",
    "    transforms.Resize((128, 128)),\n",
    "    transforms.ToTensor()\n",
    "])\n",
    "\n",
    "# Open an image and apply transformation\n",
    "img = Image.open('sample_image.jpg')\n",
    "img_tensor = transform(img)\n",
    "print(img_tensor.shape)"
   ]
  },
  {
   "cell_type": "code",
   "execution_count": null,
   "id": "ecd25619",
   "metadata": {},
   "outputs": [],
   "source": [
    "# Example 3: Using torch.utils.data.DataLoader with custom dataset\n",
    "from torch.utils.data import Dataset\n",
    "\n",
    "# Define a custom dataset\n",
    "class CustomDataset(Dataset):\n",
    "    def __init__(self, data, labels):\n",
    "        self.data = data\n",
    "        self.labels = labels\n",
    "\n",
    "    def __len__(self):\n",
    "        return len(self.data)\n",
    "\n",
    "    def __getitem__(self, idx):\n",
    "        return self.data[idx], self.labels[idx]\n",
    "\n",
    "# Instantiate the custom dataset and dataloader\n",
    "custom_dataset = CustomDataset(x, y)\n",
    "custom_loader = DataLoader(custom_dataset, batch_size=5, shuffle=True)\n",
    "\n",
    "for data, labels in custom_loader:\n",
    "    print(data, labels)"
   ]
  },
  {
   "cell_type": "markdown",
   "id": "17de58a7",
   "metadata": {},
   "source": [
    "## 2. Tensor Operations Utilities\n",
    "\n",
    "PyTorch provides many built-in functions to handle tensor operations efficiently."
   ]
  },
  {
   "cell_type": "code",
   "execution_count": null,
   "id": "e57fbdb5",
   "metadata": {},
   "outputs": [],
   "source": [
    "# Example 4: Concatenating and Stacking Tensors\n",
    "a = torch.tensor([[1, 2], [3, 4]])\n",
    "b = torch.tensor([[5, 6], [7, 8]])\n",
    "\n",
    "# Concatenate along rows\n",
    "concat = torch.cat((a, b), dim=0)\n",
    "print('Concatenated Tensor:\\n', concat)\n",
    "\n",
    "# Stack along a new dimension\n",
    "stacked = torch.stack((a, b), dim=1)\n",
    "print('Stacked Tensor:\\n', stacked)"
   ]
  },
  {
   "cell_type": "code",
   "execution_count": null,
   "id": "e011d518",
   "metadata": {},
   "outputs": [],
   "source": [
    "# Example 5: Reshaping and Permuting Tensors\n",
    "x = torch.randn(2, 3, 4)\n",
    "\n",
    "# Reshape the tensor\n",
    "reshaped = x.view(6, 4)\n",
    "print('Reshaped Tensor:\\n', reshaped)\n",
    "\n",
    "# Permute the dimensions\n",
    "permuted = x.permute(2, 1, 0)\n",
    "print('Permuted Tensor:\\n', permuted)"
   ]
  },
  {
   "cell_type": "code",
   "execution_count": null,
   "id": "f1410783",
   "metadata": {},
   "outputs": [],
   "source": [
    "# Example 6: Using torch.no_grad() for Inference\n",
    "model = torch.nn.Linear(2, 1)\n",
    "input_tensor = torch.tensor([[1.0, 2.0]])\n",
    "\n",
    "# Disable gradient tracking\n",
    "with torch.no_grad():\n",
    "    output = model(input_tensor)\n",
    "print('Inference output:', output)"
   ]
  },
  {
   "cell_type": "markdown",
   "id": "79301085",
   "metadata": {},
   "source": [
    "## 3. Utility Functions for Device Management\n",
    "\n",
    "Managing devices is essential for running models on CPU or GPU efficiently."
   ]
  },
  {
   "cell_type": "code",
   "execution_count": null,
   "id": "b8e2c46a",
   "metadata": {},
   "outputs": [],
   "source": [
    "# Example 7: Checking for GPU Availability and Moving Tensors\n",
    "device = torch.device('cuda' if torch.cuda.is_available() else 'cpu')\n",
    "print('Device available:', device)\n",
    "\n",
    "# Move tensor to the device\n",
    "tensor = torch.randn(3, 3).to(device)\n",
    "print('Tensor on device:', tensor)"
   ]
  },
  {
   "cell_type": "code",
   "execution_count": null,
   "id": "286dc7a0",
   "metadata": {},
   "outputs": [],
   "source": [
    "# Example 8: Timing Code Execution using torch.cuda.synchronize\n",
    "import time\n",
    "start = time.time()\n",
    "output = model(input_tensor)\n",
    "torch.cuda.synchronize()  # Waits for all kernels in all streams on a CUDA device to complete\n",
    "end = time.time()\n",
    "print('Execution Time:', end - start)"
   ]
  },
  {
   "cell_type": "code",
   "execution_count": null,
   "id": "9a66571b",
   "metadata": {},
   "outputs": [],
   "source": [
    "# Example 9: Using torch.save() and torch.load() for Saving Models\n",
    "model = torch.nn.Linear(2, 1)\n",
    "\n",
    "# Save the model\n",
    "torch.save(model.state_dict(), 'model.pth')\n",
    "print('Model saved!')\n",
    "\n",
    "# Load the model\n",
    "loaded_model = torch.nn.Linear(2, 1)\n",
    "loaded_model.load_state_dict(torch.load('model.pth'))\n",
    "print('Model loaded!')"
   ]
  },
  {
   "cell_type": "code",
   "execution_count": null,
   "id": "ced68931",
   "metadata": {},
   "outputs": [],
   "source": [
    "# Example 10: Converting Tensors to NumPy Arrays\n",
    "tensor = torch.tensor([1.0, 2.0, 3.0])\n",
    "numpy_array = tensor.numpy()\n",
    "print('NumPy Array:', numpy_array)\n",
    "\n",
    "# Converting NumPy array back to tensor\n",
    "back_to_tensor = torch.from_numpy(numpy_array)\n",
    "print('Back to Tensor:', back_to_tensor)"
   ]
  }
 ],
 "metadata": {},
 "nbformat": 4,
 "nbformat_minor": 5
}
