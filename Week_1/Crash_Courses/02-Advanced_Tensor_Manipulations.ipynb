{
 "cells": [
  {
   "cell_type": "markdown",
   "id": "bbba1d24",
   "metadata": {},
   "source": [
    "# 02 - Advanced Tensor Manipulations in PyTorch\n",
    "\n",
    "This notebook covers advanced tensor manipulation techniques in PyTorch, such as broadcasting, concatenation, stacking, and splitting. Understanding these operations is crucial for efficient tensor operations and preparing data for deep learning models."
   ]
  },
  {
   "cell_type": "markdown",
   "id": "9835118b",
   "metadata": {},
   "source": [
    "## 1. Broadcasting in PyTorch\n",
    "\n",
    "Broadcasting is a powerful feature that allows PyTorch to perform operations on tensors of different shapes by automatically expanding them to a compatible shape. This is particularly useful for element-wise operations where the shapes do not initially match.\n"
   ]
  },
  {
   "cell_type": "code",
   "execution_count": null,
   "id": "fb9c6c6f",
   "metadata": {},
   "outputs": [],
   "source": [
    "# Example: Broadcasting in PyTorch\n",
    "import torch\n",
    "\n",
    "# Create two tensors of different shapes\n",
    "a = torch.tensor([[1, 2, 3], [4, 5, 6]])  # Shape: (2, 3)\n",
    "b = torch.tensor([1, 2, 3])              # Shape: (3)\n",
    "\n",
    "# Broadcasting addition\n",
    "result = a + b\n",
    "print('Tensor a:\\n', a)\n",
    "print('Tensor b:', b)\n",
    "print('Broadcasted Addition Result:\\n', result)"
   ]
  },
  {
   "cell_type": "markdown",
   "id": "25d03194",
   "metadata": {},
   "source": [
    "## 2. Concatenating Tensors\n",
    "\n",
    "Concatenation is the process of joining two or more tensors along a specific dimension. In PyTorch, the `torch.cat()` function is used for concatenation. The tensors being concatenated must have the same shape except in the dimension along which they are concatenated.\n"
   ]
  },
  {
   "cell_type": "code",
   "execution_count": null,
   "id": "3c88b54a",
   "metadata": {},
   "outputs": [],
   "source": [
    "# Example: Concatenating Tensors\n",
    "x = torch.tensor([[1, 2], [3, 4]])\n",
    "y = torch.tensor([[5, 6], [7, 8]])\n",
    "\n",
    "# Concatenate along rows (dim=0)\n",
    "concat_rows = torch.cat((x, y), dim=0)\n",
    "print('Concatenated along rows:\\n', concat_rows)\n",
    "\n",
    "# Concatenate along columns (dim=1)\n",
    "concat_columns = torch.cat((x, y), dim=1)\n",
    "print('Concatenated along columns:\\n', concat_columns)"
   ]
  },
  {
   "cell_type": "markdown",
   "id": "dbd0d98e",
   "metadata": {},
   "source": [
    "## 3. Stacking Tensors\n",
    "\n",
    "Stacking is similar to concatenation, but it creates a new dimension for the tensors being stacked. The `torch.stack()` function is used to stack tensors along a new dimension. The tensors must have the same shape.\n"
   ]
  },
  {
   "cell_type": "code",
   "execution_count": null,
   "id": "0d3d69d3",
   "metadata": {},
   "outputs": [],
   "source": [
    "# Example: Stacking Tensors\n",
    "x = torch.tensor([1, 2, 3])\n",
    "y = torch.tensor([4, 5, 6])\n",
    "\n",
    "# Stack along a new dimension\n",
    "stacked = torch.stack((x, y), dim=0)\n",
    "print('Stacked Tensors along new dimension 0:\\n', stacked)\n",
    "\n",
    "# Stack along a different dimension\n",
    "stacked_dim1 = torch.stack((x, y), dim=1)\n",
    "print('Stacked Tensors along new dimension 1:\\n', stacked_dim1)"
   ]
  },
  {
   "cell_type": "markdown",
   "id": "67b52512",
   "metadata": {},
   "source": [
    "## 4. Splitting Tensors\n",
    "\n",
    "Splitting divides a tensor into a list of tensors along a specified dimension. PyTorch provides functions like `torch.split()` and `torch.chunk()` for splitting tensors.\n"
   ]
  },
  {
   "cell_type": "code",
   "execution_count": null,
   "id": "f9220e8b",
   "metadata": {},
   "outputs": [],
   "source": [
    "# Example: Splitting Tensors\n",
    "tensor = torch.tensor([[1, 2, 3], [4, 5, 6], [7, 8, 9]])\n",
    "\n",
    "# Split into 3 equal parts along dim=0\n",
    "split_tensor = torch.split(tensor, split_size_or_sections=1, dim=0)\n",
    "print('Split Tensors into 3 parts along dim=0:')\n",
    "for part in split_tensor:\n",
    "    print(part)\n",
    "\n",
    "# Chunk into 3 parts along dim=1\n",
    "chunk_tensor = torch.chunk(tensor, chunks=3, dim=1)\n",
    "print('\\nChunk Tensors into 3 parts along dim=1:')\n",
    "for part in chunk_tensor:\n",
    "    print(part)"
   ]
  },
  {
   "cell_type": "markdown",
   "id": "40c1f4d0",
   "metadata": {},
   "source": [
    "## Exercises\n",
    "\n",
    "1. Create two tensors of shape (2, 3) and perform broadcasting multiplication with a tensor of shape (3).\n",
    "2. Concatenate three tensors along both rows and columns.\n",
    "3. Stack multiple tensors along a new dimension and explore the output.\n",
    "4. Split a tensor into unequal parts and check the resulting shapes."
   ]
  }
 ],
 "metadata": {},
 "nbformat": 4,
 "nbformat_minor": 5
}
