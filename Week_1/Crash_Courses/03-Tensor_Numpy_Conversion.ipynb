{
 "cells": [
  {
   "cell_type": "markdown",
   "id": "431ede6f",
   "metadata": {},
   "source": [
    "# 03 - Conversion Between PyTorch Tensors and NumPy Arrays\n",
    "\n",
    "This notebook focuses on the conversion between PyTorch tensors and NumPy arrays. Converting between these two data types is a common task when integrating PyTorch with other Python libraries, like NumPy or Pandas, or when preparing data for deep learning models."
   ]
  },
  {
   "cell_type": "markdown",
   "id": "ddaa4726",
   "metadata": {},
   "source": [
    "## 1. Converting PyTorch Tensors to NumPy Arrays\n",
    "\n",
    "PyTorch tensors can be easily converted to NumPy arrays using the `.numpy()` method. This conversion shares the same underlying memory, so changes to the tensor will also affect the NumPy array and vice versa.\n"
   ]
  },
  {
   "cell_type": "code",
   "execution_count": null,
   "id": "5cdedbd7",
   "metadata": {},
   "outputs": [],
   "source": [
    "# Example: Converting PyTorch Tensors to NumPy Arrays\n",
    "import torch\n",
    "import numpy as np\n",
    "\n",
    "# Create a PyTorch tensor\n",
    "tensor = torch.tensor([1.0, 2.0, 3.0])\n",
    "print('Original PyTorch Tensor:', tensor)\n",
    "\n",
    "# Convert to NumPy array\n",
    "numpy_array = tensor.numpy()\n",
    "print('Converted NumPy Array:', numpy_array)\n",
    "\n",
    "# Modifying the original tensor\n",
    "tensor[0] = 10.0\n",
    "print('Modified PyTorch Tensor:', tensor)\n",
    "print('NumPy Array after Tensor Modification:', numpy_array)"
   ]
  },
  {
   "cell_type": "markdown",
   "id": "06f9c792",
   "metadata": {},
   "source": [
    "## 2. Converting NumPy Arrays to PyTorch Tensors\n",
    "\n",
    "NumPy arrays can be converted to PyTorch tensors using the `torch.from_numpy()` function. Similar to the previous conversion, the tensor will share memory with the original NumPy array.\n"
   ]
  },
  {
   "cell_type": "code",
   "execution_count": null,
   "id": "4d607172",
   "metadata": {},
   "outputs": [],
   "source": [
    "# Example: Converting NumPy Arrays to PyTorch Tensors\n",
    "# Create a NumPy array\n",
    "numpy_array = np.array([4.0, 5.0, 6.0])\n",
    "print('Original NumPy Array:', numpy_array)\n",
    "\n",
    "# Convert to PyTorch tensor\n",
    "tensor_from_numpy = torch.from_numpy(numpy_array)\n",
    "print('Converted PyTorch Tensor:', tensor_from_numpy)\n",
    "\n",
    "# Modifying the original NumPy array\n",
    "numpy_array[1] = 50.0\n",
    "print('Modified NumPy Array:', numpy_array)\n",
    "print('PyTorch Tensor after NumPy Modification:', tensor_from_numpy)"
   ]
  },
  {
   "cell_type": "markdown",
   "id": "34534cbe",
   "metadata": {},
   "source": [
    "## 3. Ensuring Compatibility between Tensors and Arrays\n",
    "\n",
    "While converting between PyTorch tensors and NumPy arrays, it is important to ensure compatibility:\n",
    "- **Data Type Compatibility**: Tensors and arrays must have compatible data types (e.g., `float32`).\n",
    "- **Device Compatibility**: PyTorch tensors must be on the CPU; GPU tensors need to be moved to the CPU using the `.cpu()` method before conversion.\n"
   ]
  },
  {
   "cell_type": "code",
   "execution_count": null,
   "id": "4ba07a64",
   "metadata": {},
   "outputs": [],
   "source": [
    "# Example: Ensuring Compatibility\n",
    "# Create a PyTorch tensor on the GPU (if available)\n",
    "if torch.cuda.is_available():\n",
    "    tensor_gpu = torch.tensor([1.0, 2.0, 3.0], device='cuda')\n",
    "    print('Original GPU Tensor:', tensor_gpu)\n",
    "\n",
    "    # Convert to CPU before converting to NumPy\n",
    "    tensor_cpu = tensor_gpu.cpu()\n",
    "    numpy_array_from_gpu = tensor_cpu.numpy()\n",
    "    print('Converted NumPy Array from GPU Tensor:', numpy_array_from_gpu)"
   ]
  },
  {
   "cell_type": "markdown",
   "id": "0bc59fe6",
   "metadata": {},
   "source": [
    "## 4. Using `.clone()` and `.detach()` for Safe Conversions\n",
    "\n",
    "When modifying tensors, using `.clone()` and `.detach()` can ensure safe conversions:\n",
    "- **`.clone()`** creates a copy of the tensor to avoid modifying the original data.\n",
    "- **`.detach()`** creates a new tensor that shares data with the original but does not track gradients.\n"
   ]
  },
  {
   "cell_type": "code",
   "execution_count": null,
   "id": "9c155017",
   "metadata": {},
   "outputs": [],
   "source": [
    "# Example: Using clone() and detach() for Safe Conversions\n",
    "# Original tensor with gradient tracking\n",
    "tensor = torch.tensor([7.0, 8.0, 9.0], requires_grad=True)\n",
    "print('Original Tensor:', tensor)\n",
    "\n",
    "# Using detach to prevent gradient tracking\n",
    "numpy_array_safe = tensor.detach().numpy()\n",
    "print('Converted NumPy Array (Detached):', numpy_array_safe)"
   ]
  },
  {
   "cell_type": "markdown",
   "id": "ab5dcea8",
   "metadata": {},
   "source": [
    "## Exercises\n",
    "\n",
    "1. Convert a PyTorch tensor to a NumPy array and demonstrate how changes to the tensor affect the array.\n",
    "2. Convert a NumPy array to a PyTorch tensor and demonstrate how changes to the array affect the tensor.\n",
    "3. Convert a GPU tensor to a NumPy array by first moving it to the CPU.\n",
    "4. Use `.clone()` and `.detach()` methods to safely convert tensors for various operations."
   ]
  }
 ],
 "metadata": {},
 "nbformat": 4,
 "nbformat_minor": 5
}
