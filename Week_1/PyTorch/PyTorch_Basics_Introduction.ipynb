{
 "cells": [
  {
   "cell_type": "markdown",
   "id": "20fd7030",
   "metadata": {},
   "source": [
    "# PyTorch Basics\n",
    "\n",
    "This notebook introduces the basics of the PyTorch library, focusing on its key functions, properties, and syntax. The objective is to provide a foundational understanding of PyTorch and familiarize students with its usage through practical examples and exercises."
   ]
  },
  {
   "cell_type": "markdown",
   "id": "c2a0cb1a",
   "metadata": {},
   "source": [
    "## 1. Introduction to PyTorch\n",
    "\n",
    "PyTorch is an open-source deep learning framework that provides a flexible and dynamic platform for building machine learning models. It is particularly popular for research and production due to its ease of use and powerful features.\n",
    "\n",
    "**Key components of PyTorch include:**\n",
    "- **Tensors**: The primary data structure in PyTorch, similar to NumPy arrays but with added capabilities such as running on GPUs.\n",
    "- **Autograd**: PyTorch’s automatic differentiation engine, which helps compute gradients for optimization tasks.\n",
    "- **torch.optim**: A module containing various optimization algorithms used in training models."
   ]
  },
  {
   "cell_type": "markdown",
   "id": "d551c85d",
   "metadata": {},
   "source": [
    "## 2. Working with Tensors\n",
    "\n",
    "### Creating Tensors\n",
    "Tensors are the fundamental data structures in PyTorch. They can be created in several ways:\n"
   ]
  },
  {
   "cell_type": "code",
   "execution_count": null,
   "id": "6b5e4367",
   "metadata": {},
   "outputs": [],
   "source": [
    "# Import PyTorch\n",
    "import torch\n",
    "\n",
    "# Create a scalar tensor\n",
    "scalar_tensor = torch.tensor(5)\n",
    "print(f'Scalar tensor: {scalar_tensor}')\n",
    "\n",
    "# Create a vector tensor\n",
    "vector_tensor = torch.tensor([1, 2, 3])\n",
    "print(f'Vector tensor: {vector_tensor}')\n",
    "\n",
    "# Create a matrix tensor\n",
    "matrix_tensor = torch.tensor([[1, 2, 3], [4, 5, 6]])\n",
    "print(f'Matrix tensor: {matrix_tensor}')"
   ]
  },
  {
   "cell_type": "markdown",
   "id": "28efd073",
   "metadata": {},
   "source": [
    "### Tensor Properties\n",
    "Each tensor has several properties, such as its shape, data type (`dtype`), and the device it is allocated on (CPU or GPU).\n",
    "\n",
    "```python\n",
    "# Display tensor properties\n",
    "print(f'Shape: {matrix_tensor.shape}, Data Type: {matrix_tensor.dtype}, Device: {matrix_tensor.device}')\n",
    "```"
   ]
  },
  {
   "cell_type": "markdown",
   "id": "bb12755b",
   "metadata": {},
   "source": [
    "### Basic Tensor Operations\n",
    "Tensors support a variety of basic mathematical operations. Here are some examples:\n"
   ]
  },
  {
   "cell_type": "code",
   "execution_count": null,
   "id": "ede2cedb",
   "metadata": {},
   "outputs": [],
   "source": [
    "# Addition\n",
    "a = torch.tensor([1.0, 2.0, 3.0])\n",
    "b = torch.tensor([4.0, 5.0, 6.0])\n",
    "print(f'Addition: {a + b}')\n",
    "\n",
    "# Multiplication\n",
    "print(f'Multiplication: {a * b}')\n",
    "\n",
    "# Dot Product\n",
    "print(f'Dot Product: {torch.dot(a, b)}')"
   ]
  },
  {
   "cell_type": "markdown",
   "id": "27832d15",
   "metadata": {},
   "source": [
    "## 3. Mathematical Operations in PyTorch\n",
    "\n",
    "### Reduction Operations\n",
    "Reduction operations are used to reduce the dimensions of a tensor. For example, the `sum()` function can be used to compute the sum of all elements in a tensor.\n"
   ]
  },
  {
   "cell_type": "code",
   "execution_count": null,
   "id": "b32f4301",
   "metadata": {},
   "outputs": [],
   "source": [
    "# Sum of all elements\n",
    "print(f'Sum of elements: {a.sum()}')\n",
    "\n",
    "# Mean of all elements\n",
    "print(f'Mean of elements: {a.mean()}')"
   ]
  },
  {
   "cell_type": "markdown",
   "id": "6f1b7c61",
   "metadata": {},
   "source": [
    "## 4. Understanding Autograd and Gradients\n",
    "\n",
    "PyTorch provides an automatic differentiation library called `autograd`. When `requires_grad` is set to `True` for a tensor, PyTorch tracks all operations on it, allowing gradients to be calculated automatically during backpropagation.\n"
   ]
  },
  {
   "cell_type": "code",
   "execution_count": null,
   "id": "aa1534d8",
   "metadata": {},
   "outputs": [],
   "source": [
    "# Example of using autograd\n",
    "x = torch.tensor(2.0, requires_grad=True)\n",
    "y = x ** 2\n",
    "\n",
    "# Compute gradients\n",
    "y.backward()\n",
    "\n",
    "# Print the gradient (dy/dx)\n",
    "print(f'Gradient of y with respect to x: {x.grad}')"
   ]
  },
  {
   "cell_type": "markdown",
   "id": "34ad988e",
   "metadata": {},
   "source": [
    "## 5. Optimization in PyTorch\n",
    "\n",
    "PyTorch provides a module called `torch.optim` to implement optimization algorithms such as Stochastic Gradient Descent (SGD) and Adam. These optimizers adjust the model parameters to minimize the loss function during training.\n",
    "\n",
    "Example usage:\n",
    "```python\n",
    "import torch.optim as optim\n",
    "# Define a simple model and optimizer\n",
    "model = torch.nn.Linear(1, 1)\n",
    "optimizer = optim.SGD(model.parameters(), lr=0.01)\n",
    "```\n"
   ]
  },
  {
   "cell_type": "markdown",
   "id": "7d7cae33",
   "metadata": {},
   "source": [
    "## Exercises\n",
    "\n",
    "1. Create tensors of different shapes and perform basic operations like addition, multiplication, and division.\n",
    "2. Use `autograd` to compute gradients for a simple function.\n",
    "3. Write a small script to create an optimizer and update model parameters."
   ]
  }
 ],
 "metadata": {},
 "nbformat": 4,
 "nbformat_minor": 5
}
