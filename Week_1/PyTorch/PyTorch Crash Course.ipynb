{
 "cells": [
  {
   "cell_type": "markdown",
   "id": "e99b99ad",
   "metadata": {},
   "source": [
    "# PyTorch Tutorial\n",
    "\n",
    "PyTorch is a popular open-source deep learning library developed by Facebook's AI Research lab (FAIR). It is known for its flexibility, dynamic computation graph, and extensive support in the deep learning community. In this cell, we will provide an overview of PyTorch, its key features, references, applications, and some built-in functions.\n",
    "\n",
    "## Key Features of PyTorch\n",
    "\n",
    "1. **Dynamic Computation Graph**: Unlike some other deep learning frameworks, PyTorch uses dynamic computation graphs. This allows for easier debugging and more flexible model architectures.\n",
    "\n",
    "2. **GPU Support**: PyTorch provides native support for GPU acceleration, making it suitable for training large neural networks.\n",
    "\n",
    "3. **Autograd**: PyTorch's automatic differentiation library, called Autograd, allows for easy calculation of gradients for optimization.\n",
    "\n",
    "4. **Tensors**: PyTorch introduces the `torch.Tensor` data structure, which is similar to NumPy arrays but optimized for GPU acceleration.\n",
    "\n",
    "## References\n",
    "\n",
    "- [Official PyTorch Website](https://pytorch.org/): The official PyTorch website provides documentation, tutorials, and resources for learning PyTorch.\n",
    "\n",
    "- [PyTorch Tutorials](https://pytorch.org/tutorials/): The official PyTorch tutorials cover a wide range of topics, from basic tensor operations to advanced deep learning techniques.\n",
    "\n",
    "## Applications\n",
    "\n",
    "PyTorch is widely used in various applications, including:\n",
    "\n",
    "- **Deep Learning**: PyTorch is the go-to choice for researchers and practitioners in the deep learning community. It supports building and training neural networks for computer vision, natural language processing, and more.\n",
    "\n",
    "- **Computer Vision**: PyTorch is extensively used for tasks like image classification, object detection, and image generation.\n",
    "\n",
    "- **Natural Language Processing (NLP)**: PyTorch is suitable for developing models for tasks like text classification, sentiment analysis, and machine translation.\n",
    "\n",
    "- **Reinforcement Learning**: PyTorch is used in reinforcement learning research and applications, including training agents for games and simulations.\n",
    "\n",
    "- **Scientific Computing**: Beyond deep learning, PyTorch is also employed in scientific computing tasks that involve numerical simulations and data analysis.\n",
    "\n",
    "## Built-in Functions\n",
    "\n",
    "PyTorch provides a wide range of built-in functions and libraries for deep learning and scientific computing, including:\n",
    "\n",
    "- `torch.nn`: This module contains neural network layers, loss functions, and optimization algorithms.\n",
    "\n",
    "- `torch.optim`: It includes various optimization algorithms like Stochastic Gradient Descent (SGD), Adam, and more.\n",
    "\n",
    "- `torchvision`: This library provides datasets, models, and transformations for computer vision tasks.\n",
    "\n",
    "- `torchtext`: It offers data processing utilities for NLP tasks.\n",
    "\n",
    "- `torchsummary`: A tool for summarizing the architecture of neural networks.\n",
    "\n",
    "- `torch.utils.data`: This module provides utilities for data loading and manipulation.\n",
    "\n",
    "## Conclusion\n",
    "\n",
    "PyTorch is a powerful library for deep learning and scientific computing, known for its flexibility and community support. It is an essential tool for anyone working in the field of machine learning and artificial intelligence.\n",
    "\n",
    "For in-depth learning and practical examples, explore the official PyTorch documentation and tutorials.\n"
   ]
  },
  {
   "cell_type": "markdown",
   "id": "fedbceee",
   "metadata": {},
   "source": []
  },
  {
   "cell_type": "code",
   "execution_count": null,
   "id": "13368c17",
   "metadata": {},
   "outputs": [],
   "source": [
    "import numpy as np\n",
    "import torch\n",
    "\n",
    "# Create a NumPy array\n",
    "numpy_array = np.array([1, 2, 3, 4, 5])\n",
    "\n",
    "# Convert the NumPy array to a PyTorch tensor using torch.from_numpy()\n",
    "pytorch_tensor = torch.from_numpy(numpy_array)\n",
    "\n",
    "# Display the NumPy array and PyTorch tensor\n",
    "print(\"NumPy Array:\")\n",
    "print(numpy_array)\n",
    "\n",
    "print(\"\\nPyTorch Tensor:\")\n",
    "print(pytorch_tensor)\n"
   ]
  },
  {
   "cell_type": "code",
   "execution_count": null,
   "id": "d20c6c1b",
   "metadata": {},
   "outputs": [],
   "source": [
    "import numpy as np\n",
    "import torch\n",
    "\n",
    "# Create a 2D NumPy array\n",
    "numpy_array = np.array([[1, 2, 3], [4, 5, 6], [7, 8, 9]])\n",
    "\n",
    "# Convert the 2D NumPy array to a PyTorch tensor using torch.from_numpy()\n",
    "pytorch_tensor = torch.from_numpy(numpy_array)\n",
    "\n",
    "# Display the 2D NumPy array and PyTorch tensor\n",
    "print(\"2D NumPy Array:\")\n",
    "print(numpy_array)\n",
    "\n",
    "print(\"\\nPyTorch Tensor:\")\n",
    "print(pytorch_tensor)\n"
   ]
  },
  {
   "cell_type": "code",
   "execution_count": null,
   "id": "552a7e8f",
   "metadata": {},
   "outputs": [],
   "source": [
    "import numpy as np\n",
    "import torch\n",
    "\n",
    "# Create a NumPy array with a specified dtype\n",
    "numpy_array = np.array([10, 20, 30, 40, 50], dtype=np.float64)\n",
    "\n",
    "# Convert the NumPy array to a PyTorch tensor using torch.from_numpy()\n",
    "pytorch_tensor = torch.from_numpy(numpy_array)\n",
    "\n",
    "# Display the NumPy array with the specified dtype and PyTorch tensor\n",
    "print(\"NumPy Array with Specified Dtype:\")\n",
    "print(numpy_array)\n",
    "\n",
    "print(\"\\nPyTorch Tensor:\")\n",
    "print(pytorch_tensor)\n"
   ]
  },
  {
   "cell_type": "code",
   "execution_count": null,
   "id": "c3ab629b",
   "metadata": {},
   "outputs": [],
   "source": [
    "import numpy as np\n",
    "import torch\n",
    "\n",
    "# Create a NumPy array with negative values\n",
    "numpy_array = np.array([-1, -2, -3, -4, -5])\n",
    "\n",
    "# Convert the NumPy array to a PyTorch tensor using torch.from_numpy()\n",
    "pytorch_tensor = torch.from_numpy(numpy_array)\n",
    "\n",
    "# Display the NumPy array with negative values and PyTorch tensor\n",
    "print(\"NumPy Array with Negative Values:\")\n",
    "print(numpy_array)\n",
    "\n",
    "print(\"\\nPyTorch Tensor:\")\n",
    "print(pytorch_tensor)\n"
   ]
  },
  {
   "cell_type": "code",
   "execution_count": null,
   "id": "253e9ef6",
   "metadata": {},
   "outputs": [],
   "source": [
    "import numpy as np\n",
    "import torch\n",
    "\n",
    "# Create a NumPy array with boolean values\n",
    "numpy_array = np.array([True, False, True, False])\n",
    "\n",
    "# Convert the NumPy array to a PyTorch tensor using torch.from_numpy()\n",
    "pytorch_tensor = torch.from_numpy(numpy_array)\n",
    "\n",
    "# Display the NumPy array with boolean values and PyTorch tensor\n",
    "print(\"NumPy Array with Boolean Values:\")\n",
    "print(numpy_array)\n",
    "\n",
    "print(\"\\nPyTorch Tensor:\")\n",
    "print(pytorch_tensor)\n"
   ]
  },
  {
   "cell_type": "code",
   "execution_count": null,
   "id": "ae8fc011",
   "metadata": {},
   "outputs": [],
   "source": []
  },
  {
   "cell_type": "code",
   "execution_count": null,
   "id": "82bd312a",
   "metadata": {},
   "outputs": [],
   "source": [
    "import torch\n",
    "\n",
    "# Create a tensor of shape (3, 4) initialized with zeros\n",
    "zeros_tensor = torch.zeros(3, 4)\n",
    "\n",
    "# Display the initialized tensor\n",
    "print(\"Zeros Tensor:\")\n",
    "print(zeros_tensor)\n"
   ]
  },
  {
   "cell_type": "code",
   "execution_count": null,
   "id": "36129c5e",
   "metadata": {},
   "outputs": [],
   "source": [
    "import torch\n",
    "\n",
    "# Create a tensor of shape (2, 3, 2) initialized with ones\n",
    "ones_tensor = torch.ones(2, 3, 2)\n",
    "\n",
    "# Display the initialized tensor\n",
    "print(\"Ones Tensor:\")\n",
    "print(ones_tensor)\n"
   ]
  },
  {
   "cell_type": "code",
   "execution_count": null,
   "id": "78eae472",
   "metadata": {},
   "outputs": [],
   "source": [
    "import torch\n",
    "\n",
    "# Create a tensor of shape (4, 4) initialized with ones and a specific dtype (float32)\n",
    "ones_tensor_float = torch.ones(4, 4, dtype=torch.float32)\n",
    "\n",
    "# Display the initialized tensor\n",
    "print(\"Ones Tensor with Specific Dtype (float32):\")\n",
    "print(ones_tensor_float)\n"
   ]
  },
  {
   "cell_type": "code",
   "execution_count": null,
   "id": "e5327f9f",
   "metadata": {},
   "outputs": [],
   "source": []
  },
  {
   "cell_type": "code",
   "execution_count": null,
   "id": "24a1b91b",
   "metadata": {},
   "outputs": [],
   "source": [
    "import torch\n",
    "\n",
    "# Create a tensor containing values from 0 to 9 using torch.arange()\n",
    "range_tensor = torch.arange(10)\n",
    "\n",
    "# Display the tensor\n",
    "print(\"Range Tensor:\")\n",
    "print(range_tensor)\n"
   ]
  },
  {
   "cell_type": "code",
   "execution_count": null,
   "id": "89cb278b",
   "metadata": {},
   "outputs": [],
   "source": [
    "import torch\n",
    "\n",
    "# Create a tensor containing values from 2 to 9 using torch.arange()\n",
    "range_tensor = torch.arange(2, 10)\n",
    "\n",
    "# Display the tensor\n",
    "print(\"Range Tensor:\")\n",
    "print(range_tensor)\n"
   ]
  },
  {
   "cell_type": "code",
   "execution_count": null,
   "id": "732100f1",
   "metadata": {},
   "outputs": [],
   "source": [
    "import torch\n",
    "\n",
    "# Create a tensor containing even values from 2 to 18 using torch.arange()\n",
    "range_tensor = torch.arange(2, 20, step=2)\n",
    "\n",
    "# Display the tensor\n",
    "print(\"Range Tensor:\")\n",
    "print(range_tensor)\n"
   ]
  },
  {
   "cell_type": "code",
   "execution_count": null,
   "id": "51dde176",
   "metadata": {},
   "outputs": [],
   "source": [
    "import torch\n",
    "\n",
    "# Create a tensor with 5 values evenly spaced between 0 and 1 using torch.linspace()\n",
    "range_tensor = torch.linspace(0, 1, 5)\n",
    "\n",
    "# Display the tensor\n",
    "print(\"Range Tensor:\")\n",
    "print(range_tensor)\n"
   ]
  },
  {
   "cell_type": "code",
   "execution_count": null,
   "id": "9601a9b5",
   "metadata": {},
   "outputs": [],
   "source": [
    "import torch\n",
    "\n",
    "# Create a tensor with 4 values evenly spaced on a logarithmic scale between 1 and 1000\n",
    "log_range_tensor = torch.logspace(0, 3, 4)\n",
    "\n",
    "# Display the tensor\n",
    "print(\"Logarithmic Range Tensor:\")\n",
    "print(log_range_tensor)\n",
    "\n"
   ]
  },
  {
   "cell_type": "code",
   "execution_count": null,
   "id": "dbf746ec",
   "metadata": {},
   "outputs": [],
   "source": []
  },
  {
   "cell_type": "code",
   "execution_count": null,
   "id": "abc6c20c",
   "metadata": {},
   "outputs": [],
   "source": [
    "import torch\n",
    "\n",
    "# Create a tensor with default dtype (usually torch.float32)\n",
    "original_tensor = torch.tensor([1.0, 2.0, 3.0])\n",
    "\n",
    "# Change the dtype to torch.float32 using .to()\n",
    "float32_tensor = original_tensor.to(torch.float32)\n",
    "\n",
    "# Display the original and converted tensors\n",
    "print(\"Original Tensor (Default Dtype):\")\n",
    "print(original_tensor)\n",
    "\n",
    "print(\"\\nConverted Tensor (Dtype=torch.float32):\")\n",
    "print(float32_tensor)\n"
   ]
  },
  {
   "cell_type": "code",
   "execution_count": null,
   "id": "8dae2864",
   "metadata": {},
   "outputs": [],
   "source": [
    "import torch\n",
    "\n",
    "# Create a tensor with default dtype (usually torch.float32)\n",
    "original_tensor = torch.tensor([1.0, 2.0, 3.0])\n",
    "\n",
    "# Change the dtype to torch.int64 using .to()\n",
    "int64_tensor = original_tensor.to(torch.int64)\n",
    "\n",
    "# Display the original and converted tensors\n",
    "print(\"Original Tensor (Default Dtype):\")\n",
    "print(original_tensor)\n",
    "\n",
    "print(\"\\nConverted Tensor (Dtype=torch.int64):\")\n",
    "print(int64_tensor)\n"
   ]
  },
  {
   "cell_type": "code",
   "execution_count": null,
   "id": "9b0b6731",
   "metadata": {},
   "outputs": [],
   "source": [
    "import torch\n",
    "\n",
    "# Create a tensor with default dtype (usually torch.float32)\n",
    "original_tensor = torch.tensor([1.0, 2.0, 3.0])\n",
    "\n",
    "# Change the dtype to torch.float64 using .to()\n",
    "float64_tensor = original_tensor.to(torch.float64)\n",
    "\n",
    "# Display the original and converted tensors\n",
    "print(\"Original Tensor (Default Dtype):\")\n",
    "print(original_tensor)\n",
    "\n",
    "print(\"\\nConverted Tensor (Dtype=torch.float64):\")\n",
    "print(float64_tensor)\n"
   ]
  },
  {
   "cell_type": "code",
   "execution_count": null,
   "id": "2c4e46bf",
   "metadata": {},
   "outputs": [],
   "source": [
    "import torch\n",
    "\n",
    "# Create a tensor with default dtype (usually torch.float32)\n",
    "original_tensor = torch.tensor([1.0, 2.0, 3.0])\n",
    "\n",
    "# Change the dtype to torch.int32 using .to()\n",
    "int32_tensor = original_tensor.to(torch.int32)\n",
    "\n",
    "# Display the original and converted tensors\n",
    "print(\"Original Tensor (Default Dtype):\")\n",
    "print(original_tensor)\n",
    "\n",
    "print(\"\\nConverted Tensor (Dtype=torch.int32):\")\n",
    "print(int32_tensor)\n"
   ]
  },
  {
   "cell_type": "code",
   "execution_count": null,
   "id": "40170d1b",
   "metadata": {},
   "outputs": [],
   "source": [
    "import torch\n",
    "\n",
    "# Create a tensor with default dtype (usually torch.float32)\n",
    "original_tensor = torch.tensor([1.0, 2.0, 3.0])\n",
    "\n",
    "# Change the dtype to torch.int16 using .to()\n",
    "int16_tensor = original_tensor.to(torch.int16)\n",
    "\n",
    "# Display the original and converted tensors\n",
    "print(\"Original Tensor (Default Dtype):\")\n",
    "print(original_tensor)\n",
    "\n",
    "print(\"\\nConverted Tensor (Dtype=torch.int16):\")\n",
    "print(int16_tensor)\n"
   ]
  },
  {
   "cell_type": "code",
   "execution_count": null,
   "id": "696c4dbd",
   "metadata": {},
   "outputs": [],
   "source": []
  },
  {
   "cell_type": "code",
   "execution_count": null,
   "id": "76b1fe77",
   "metadata": {},
   "outputs": [],
   "source": [
    "import torch\n",
    "\n",
    "# Create a random tensor with values between 0 and 1\n",
    "random_tensor = torch.rand(3, 4)\n",
    "\n",
    "# Display the random tensor\n",
    "print(\"Random Tensor (0-1):\")\n",
    "print(random_tensor)\n"
   ]
  },
  {
   "cell_type": "code",
   "execution_count": null,
   "id": "89beb059",
   "metadata": {},
   "outputs": [],
   "source": [
    "import torch\n",
    "\n",
    "# Create a random tensor with values from a standard normal distribution\n",
    "normal_random_tensor = torch.randn(2, 3)\n",
    "\n",
    "# Display the random tensor\n",
    "print(\"Random Tensor (Standard Normal Distribution):\")\n",
    "print(normal_random_tensor)\n"
   ]
  },
  {
   "cell_type": "code",
   "execution_count": null,
   "id": "df5741c4",
   "metadata": {},
   "outputs": [],
   "source": [
    "import torch\n",
    "\n",
    "# Create a random integer tensor with values between 1 and 10\n",
    "random_int_tensor = torch.randint(1, 11, (3, 2))\n",
    "\n",
    "# Display the random integer tensor\n",
    "print(\"Random Integer Tensor (1-10):\")\n",
    "print(random_int_tensor)\n"
   ]
  },
  {
   "cell_type": "code",
   "execution_count": null,
   "id": "ff7e3ec4",
   "metadata": {},
   "outputs": [],
   "source": [
    "import torch\n",
    "\n",
    "# Create a random tensor with values from a uniform distribution between 0 and 1\n",
    "uniform_random_tensor = torch.rand(4, 4)\n",
    "\n",
    "# Display the random tensor\n",
    "print(\"Random Tensor (Uniform Distribution 0-1):\")\n",
    "print(uniform_random_tensor)\n"
   ]
  },
  {
   "cell_type": "code",
   "execution_count": null,
   "id": "f072962c",
   "metadata": {},
   "outputs": [],
   "source": [
    "import torch\n",
    "\n",
    "# Create a random tensor with values between -1 and 1\n",
    "random_tensor_between_minus1_and_1 = 2 * torch.rand(3, 3) - 1\n",
    "\n",
    "# Display the random tensor\n",
    "print(\"Random Tensor (-1 to 1):\")\n",
    "print(random_tensor_between_minus1_and_1)\n"
   ]
  },
  {
   "cell_type": "code",
   "execution_count": null,
   "id": "b7475910",
   "metadata": {},
   "outputs": [],
   "source": []
  },
  {
   "cell_type": "code",
   "execution_count": null,
   "id": "3218ec08",
   "metadata": {},
   "outputs": [],
   "source": [
    "import torch\n",
    "\n",
    "# Create an existing tensor\n",
    "existing_tensor = torch.tensor([[1, 2], [3, 4]])\n",
    "\n",
    "# Create a random tensor with the same size as the existing tensor\n",
    "random_tensor = torch.rand_like(existing_tensor)\n",
    "\n",
    "# Display the random tensor\n",
    "print(\"Random Tensor with Same Size as Existing Tensor:\")\n",
    "print(random_tensor)\n"
   ]
  },
  {
   "cell_type": "code",
   "execution_count": null,
   "id": "9d29a6d0",
   "metadata": {},
   "outputs": [],
   "source": [
    "import torch\n",
    "\n",
    "# Specify the desired size\n",
    "desired_size = (3, 2)\n",
    "\n",
    "# Create a random tensor with the specified size\n",
    "random_tensor = torch.rand(*desired_size)\n",
    "\n",
    "# Display the random tensor\n",
    "print(\"Random Tensor with Specified Size:\")\n",
    "print(random_tensor)\n"
   ]
  },
  {
   "cell_type": "code",
   "execution_count": null,
   "id": "8d657efa",
   "metadata": {},
   "outputs": [],
   "source": [
    "import torch\n",
    "\n",
    "# Create an existing tensor with int32 dtype\n",
    "existing_tensor = torch.ones(2, 3, dtype=torch.int32)\n",
    "\n",
    "# Create a random tensor with the same size as the existing tensor but with float32 dtype\n",
    "random_tensor = torch.rand_like(existing_tensor, dtype=torch.float32)\n",
    "\n",
    "# Display the random tensor\n",
    "print(\"Random Tensor with Same Size but Different Dtype:\")\n",
    "print(random_tensor)\n"
   ]
  },
  {
   "cell_type": "code",
   "execution_count": null,
   "id": "b910fe2b",
   "metadata": {},
   "outputs": [],
   "source": [
    "import torch\n",
    "\n",
    "# Specify the desired size as a list\n",
    "desired_size = [4, 5]\n",
    "\n",
    "# Create a random tensor with the specified size\n",
    "random_tensor = torch.rand(*desired_size)\n",
    "\n",
    "# Display the random tensor\n",
    "print(\"Random Tensor with Specified Size (List):\")\n",
    "print(random_tensor)\n"
   ]
  },
  {
   "cell_type": "code",
   "execution_count": null,
   "id": "b0230049",
   "metadata": {},
   "outputs": [],
   "source": [
    "import torch\n",
    "\n",
    "# Specify the desired size using variables\n",
    "rows = 3\n",
    "cols = 4\n",
    "\n",
    "# Create a random tensor with the specified size\n",
    "random_tensor = torch.rand(rows, cols)\n",
    "\n",
    "# Display the random tensor\n",
    "print(\"Random Tensor with Specified Size (Variables):\")\n",
    "print(random_tensor)\n"
   ]
  },
  {
   "cell_type": "code",
   "execution_count": null,
   "id": "d943e48f",
   "metadata": {},
   "outputs": [],
   "source": []
  },
  {
   "cell_type": "code",
   "execution_count": null,
   "id": "d0c8d2ca",
   "metadata": {},
   "outputs": [],
   "source": [
    "import torch\n",
    "\n",
    "# Create a tensor from a Python list\n",
    "python_list = [1, 2, 3, 4, 5]\n",
    "tensor = torch.Tensor(python_list)\n",
    "\n",
    "# Display the tensor\n",
    "print(\"Tensor created from Python list:\")\n",
    "print(tensor)\n"
   ]
  },
  {
   "cell_type": "code",
   "execution_count": null,
   "id": "697c1e34",
   "metadata": {},
   "outputs": [],
   "source": [
    "import torch\n",
    "\n",
    "# Create a tensor with dimensions (2, 3)\n",
    "tensor = torch.Tensor(2, 3)\n",
    "\n",
    "# Display the tensor\n",
    "print(\"Tensor with specified dimensions (2, 3):\")\n",
    "print(tensor)\n"
   ]
  },
  {
   "cell_type": "code",
   "execution_count": null,
   "id": "ac42f2d8",
   "metadata": {},
   "outputs": [],
   "source": [
    "import torch\n",
    "\n",
    "# Create a tensor filled with zeros with dimensions (3, 4)\n",
    "tensor = torch.Tensor(3, 4).zero_()\n",
    "\n",
    "# Display the tensor\n",
    "print(\"Tensor filled with zeros:\")\n",
    "print(tensor)\n"
   ]
  },
  {
   "cell_type": "code",
   "execution_count": null,
   "id": "d91fbaa9",
   "metadata": {},
   "outputs": [],
   "source": [
    "import torch\n",
    "import numpy as np\n",
    "\n",
    "# Create a NumPy array\n",
    "numpy_array = np.array([6, 7, 8, 9, 10])\n",
    "\n",
    "# Create a tensor from the NumPy array using torch.Tensor\n",
    "tensor = torch.Tensor(numpy_array)\n",
    "\n",
    "# Display the tensor\n",
    "print(\"Tensor created from NumPy array:\")\n",
    "print(tensor)\n"
   ]
  },
  {
   "cell_type": "code",
   "execution_count": null,
   "id": "c3e593fa",
   "metadata": {},
   "outputs": [],
   "source": [
    "import torch\n",
    "\n",
    "# Create a tensor from a data range (start, end, step)\n",
    "tensor = torch.Tensor(range(1, 11, 2))\n",
    "\n",
    "# Display the tensor\n",
    "print(\"Tensor created from a data range:\")\n",
    "print(tensor)\n"
   ]
  },
  {
   "cell_type": "code",
   "execution_count": null,
   "id": "090c009c",
   "metadata": {},
   "outputs": [],
   "source": []
  },
  {
   "cell_type": "code",
   "execution_count": null,
   "id": "2f06937a",
   "metadata": {},
   "outputs": [],
   "source": [
    "import torch\n",
    "\n",
    "# Create a tensor\n",
    "tensor = torch.tensor([[1, 2, 3], [4, 5, 6]])\n",
    "\n",
    "# Get the shape of the tensor\n",
    "shape = tensor.shape\n",
    "\n",
    "# Display the shape\n",
    "print(\"Tensor Shape:\")\n",
    "print(shape)\n"
   ]
  },
  {
   "cell_type": "code",
   "execution_count": null,
   "id": "720d614c",
   "metadata": {},
   "outputs": [],
   "source": [
    "import torch\n",
    "\n",
    "# Create a tensor\n",
    "tensor = torch.tensor([[1, 2, 3], [4, 5, 6]])\n",
    "\n",
    "# Get the number of dimensions of the tensor\n",
    "num_dimensions = tensor.dim()\n",
    "\n",
    "# Display the number of dimensions\n",
    "print(\"Number of Dimensions:\")\n",
    "print(num_dimensions)\n"
   ]
  },
  {
   "cell_type": "code",
   "execution_count": null,
   "id": "44b08e3e",
   "metadata": {},
   "outputs": [],
   "source": [
    "import torch\n",
    "\n",
    "# Create a tensor with a specific data type\n",
    "tensor = torch.tensor([1, 2, 3], dtype=torch.float32)\n",
    "\n",
    "# Get the data type of the tensor\n",
    "data_type = tensor.dtype\n",
    "\n",
    "# Display the data type\n",
    "print(\"Data Type of the Tensor:\")\n",
    "print(data_type)\n"
   ]
  },
  {
   "cell_type": "code",
   "execution_count": null,
   "id": "2e8e2d0e",
   "metadata": {},
   "outputs": [],
   "source": [
    "import torch\n",
    "\n",
    "# Create a tensor\n",
    "tensor = torch.tensor([[1, 2, 3], [4, 5, 6]])\n",
    "\n",
    "# Get the total number of elements in the tensor\n",
    "num_elements = tensor.numel()\n",
    "\n",
    "# Display the total number of elements\n",
    "print(\"Total Number of Elements:\")\n",
    "print(num_elements)\n"
   ]
  },
  {
   "cell_type": "code",
   "execution_count": null,
   "id": "88b11d70",
   "metadata": {},
   "outputs": [],
   "source": [
    "import torch\n",
    "\n",
    "# Create a non-contiguous tensor\n",
    "tensor = torch.tensor([[1, 2, 3], [4, 5, 6]]).t()  # Transpose the tensor\n",
    "\n",
    "# Check if the tensor is contiguous\n",
    "contiguous = tensor.is_contiguous()\n",
    "\n",
    "# Display the result\n",
    "print(\"Is the Tensor Contiguous?\")\n",
    "print(contiguous)\n"
   ]
  },
  {
   "cell_type": "markdown",
   "id": "ae8dbd26",
   "metadata": {},
   "source": [
    "# Indexing and Slicing in PyTorch\n",
    "\n",
    "Indexing and slicing are fundamental operations when working with tensors in PyTorch. They allow you to access specific elements or subregions of a tensor's data. Let's explore these concepts:\n",
    "\n",
    "## Indexing a Specific Element\n",
    "\n",
    "You can index a specific element of a tensor by specifying its row and column. For example, given the tensor `tensor`:\n",
    "\n",
    "```python\n",
    "import torch\n",
    "\n",
    "tensor = torch.tensor([[1, 2, 3], [4, 5, 6], [7, 8, 9]])\n",
    "element = tensor[1, 2]  # Accesses the element in the second row and third column (6)\n"
   ]
  },
  {
   "cell_type": "code",
   "execution_count": null,
   "id": "b8e62b89",
   "metadata": {},
   "outputs": [],
   "source": [
    "import torch\n",
    "\n",
    "# Create a tensor\n",
    "tensor = torch.tensor([[1, 2, 3], [4, 5, 6], [7, 8, 9]])\n",
    "\n",
    "# Index a specific element (e.g., row 1, column 2)\n",
    "element = tensor[1, 2]\n",
    "\n",
    "# Display the indexed element\n",
    "print(\"Indexed Element:\")\n",
    "print(element)\n"
   ]
  },
  {
   "cell_type": "code",
   "execution_count": null,
   "id": "d458bd39",
   "metadata": {},
   "outputs": [],
   "source": [
    "import torch\n",
    "\n",
    "# Create a tensor\n",
    "tensor = torch.tensor([[1, 2, 3], [4, 5, 6], [7, 8, 9]])\n",
    "\n",
    "# Slice a portion of the tensor (e.g., rows 0 to 1, columns 1 to 2)\n",
    "slice_tensor = tensor[0:2, 1:3]\n",
    "\n",
    "# Display the sliced portion\n",
    "print(\"Sliced Portion of the Tensor:\")\n",
    "print(slice_tensor)\n"
   ]
  },
  {
   "cell_type": "code",
   "execution_count": null,
   "id": "b4f77844",
   "metadata": {},
   "outputs": [],
   "source": [
    "import torch\n",
    "\n",
    "# Create a tensor\n",
    "tensor = torch.tensor([[1, 2, 3], [4, 5, 6], [7, 8, 9]])\n",
    "\n",
    "# Access elements using negative indexing (e.g., last row and last column)\n",
    "element1 = tensor[-1, -1]\n",
    "element2 = tensor[-1, -2]\n",
    "\n",
    "# Display the accessed elements\n",
    "print(\"Elements Accessed Using Negative Indexing:\")\n",
    "print(element1)\n",
    "print(element2)\n"
   ]
  },
  {
   "cell_type": "code",
   "execution_count": null,
   "id": "35e7bec0",
   "metadata": {},
   "outputs": [],
   "source": [
    "import torch\n",
    "\n",
    "# Create a tensor\n",
    "tensor = torch.tensor([[1, 2, 3], [4, 5, 6], [7, 8, 9]])\n",
    "\n",
    "# Use slicing to extract a submatrix (e.g., rows 1 to 2, columns 0 to 1)\n",
    "submatrix = tensor[1:3, 0:2]\n",
    "\n",
    "# Display the extracted submatrix\n",
    "print(\"Extracted Submatrix:\")\n",
    "print(submatrix)\n"
   ]
  },
  {
   "cell_type": "code",
   "execution_count": null,
   "id": "a504b963",
   "metadata": {},
   "outputs": [],
   "source": [
    "import torch\n",
    "\n",
    "# Create a tensor\n",
    "tensor = torch.tensor([[1, 2, 3], [4, 5, 6], [7, 8, 9]])\n",
    "\n",
    "# Create a mask to filter elements greater than 5\n",
    "mask = tensor > 5\n",
    "\n",
    "# Use the mask for conditional indexing\n",
    "filtered_elements = tensor[mask]\n",
    "\n",
    "# Display the filtered elements\n",
    "print(\"Filtered Elements (greater than 5):\")\n",
    "print(filtered_elements)\n"
   ]
  },
  {
   "cell_type": "markdown",
   "id": "336bbd1e",
   "metadata": {},
   "source": [
    "# Reshaping Tensors (Tensor Views) in PyTorch\n",
    "\n",
    "Reshaping tensors is a fundamental operation in PyTorch that allows you to change the dimensions and views of tensors without modifying the underlying data. This is often referred to as creating \"tensor views.\" Reshaping is useful for tasks like changing the shape of data for different operations or preparing data for neural networks.\n",
    "\n",
    "## Using `.view()`\n",
    "\n",
    "The `.view()` method allows you to reshape a tensor while specifying the new dimensions. For example:\n",
    "\n",
    "```python\n",
    "import torch\n",
    "\n",
    "# Create a tensor\n",
    "original_tensor = torch.tensor([[1, 2, 3], [4, 5, 6]])\n",
    "\n",
    "# Reshape the tensor to a different shape (2x3 to 3x2)\n",
    "reshaped_tensor = original_tensor.view(3, 2)\n"
   ]
  },
  {
   "cell_type": "code",
   "execution_count": null,
   "id": "d067f09c",
   "metadata": {},
   "outputs": [],
   "source": [
    "import torch\n",
    "\n",
    "# Create a tensor\n",
    "original_tensor = torch.tensor([[1, 2, 3], [4, 5, 6]])\n",
    "\n",
    "# Reshape the tensor to a different shape (2x3 to 3x2)\n",
    "reshaped_tensor = original_tensor.view(3, 2)\n",
    "\n",
    "# Display the reshaped tensor\n",
    "print(\"Reshaped Tensor:\")\n",
    "print(reshaped_tensor)\n"
   ]
  },
  {
   "cell_type": "code",
   "execution_count": null,
   "id": "0312ebc2",
   "metadata": {},
   "outputs": [],
   "source": [
    "import torch\n",
    "\n",
    "# Create a tensor\n",
    "original_tensor = torch.tensor([[1, 2], [3, 4], [5, 6]])\n",
    "\n",
    "# Reshape the tensor to a different shape (3x2 to 2x3)\n",
    "reshaped_tensor = original_tensor.reshape(2, 3)\n",
    "\n",
    "# Display the reshaped tensor\n",
    "print(\"Reshaped Tensor:\")\n",
    "print(reshaped_tensor)\n"
   ]
  },
  {
   "cell_type": "code",
   "execution_count": null,
   "id": "4a401674",
   "metadata": {},
   "outputs": [],
   "source": [
    "import torch\n",
    "\n",
    "# Create a tensor\n",
    "original_tensor = torch.tensor([[1, 2, 3, 4]])\n",
    "\n",
    "# Reshape the tensor with automatic size inference (2x2)\n",
    "reshaped_tensor = original_tensor.view(2, -1)\n",
    "\n",
    "# Display the reshaped tensor\n",
    "print(\"Reshaped Tensor with Automatic Size Inference:\")\n",
    "print(reshaped_tensor)\n"
   ]
  },
  {
   "cell_type": "code",
   "execution_count": null,
   "id": "a0ceac69",
   "metadata": {},
   "outputs": [],
   "source": [
    "import torch\n",
    "\n",
    "# Create a tensor\n",
    "original_tensor = torch.tensor([[1, 2], [3, 4]])\n",
    "\n",
    "# Permute the dimensions (2x2 to 2x2 with swapped dimensions)\n",
    "reshaped_tensor = original_tensor.permute(1, 0)\n",
    "\n",
    "# Display the reshaped tensor\n",
    "print(\"Reshaped Tensor with Permuted Dimensions:\")\n",
    "print(reshaped_tensor)\n"
   ]
  },
  {
   "cell_type": "code",
   "execution_count": null,
   "id": "28afba5d",
   "metadata": {},
   "outputs": [],
   "source": [
    "import torch\n",
    "\n",
    "# Create a tensor with a singleton dimension\n",
    "original_tensor = torch.tensor([[1], [2], [3]])\n",
    "\n",
    "# Remove the singleton dimension (squeeze)\n",
    "squeezed_tensor = original_tensor.squeeze()\n",
    "\n",
    "# Add a singleton dimension (unsqueeze)\n",
    "unsqueezed_tensor = squeezed_tensor.unsqueeze(1)\n",
    "\n",
    "# Display the squeezed and unsqueezed tensors\n",
    "print(\"Squeezed Tensor:\")\n",
    "print(squeezed_tensor)\n",
    "print(\"Unsqueezed Tensor:\")\n",
    "print(unsqueezed_tensor)\n"
   ]
  },
  {
   "cell_type": "markdown",
   "id": "9118032c",
   "metadata": {},
   "source": [
    "# Tensor Arithmetic and Basic Operations in PyTorch\n",
    "\n",
    "PyTorch provides a wide range of tensor operations for arithmetic and basic manipulations. Here are some fundamental operations:\n",
    "\n",
    "## Addition and Subtraction\n",
    "\n",
    "You can perform element-wise addition and subtraction on tensors. Given two tensors `tensor1` and `tensor2`, you can use the `+` and `-` operators:\n",
    "\n",
    "```python\n",
    "import torch\n",
    "\n",
    "# Element-wise addition\n",
    "result_addition = tensor1 + tensor2\n",
    "\n",
    "# Element-wise subtraction\n",
    "result_subtraction = tensor1 - tensor2\n"
   ]
  },
  {
   "cell_type": "code",
   "execution_count": null,
   "id": "7b99d21a",
   "metadata": {},
   "outputs": [],
   "source": [
    "import torch\n",
    "\n",
    "# Create two tensors\n",
    "tensor1 = torch.tensor([[1, 2], [3, 4]])\n",
    "tensor2 = torch.tensor([[5, 6], [7, 8]])\n",
    "\n",
    "# Add the tensors element-wise\n",
    "result = tensor1 + tensor2\n",
    "\n",
    "# Display the result\n",
    "print(\"Addition of Two Tensors:\")\n",
    "print(result)\n"
   ]
  },
  {
   "cell_type": "code",
   "execution_count": null,
   "id": "e303c43f",
   "metadata": {},
   "outputs": [],
   "source": [
    "import torch\n",
    "\n",
    "# Create two tensors\n",
    "tensor1 = torch.tensor([[1, 2], [3, 4]])\n",
    "tensor2 = torch.tensor([[5, 6], [7, 8]])\n",
    "\n",
    "# Perform element-wise multiplication\n",
    "result = tensor1 * tensor2\n",
    "\n",
    "# Display the result\n",
    "print(\"Element-wise Multiplication:\")\n",
    "print(result)\n"
   ]
  },
  {
   "cell_type": "code",
   "execution_count": null,
   "id": "663dc222",
   "metadata": {},
   "outputs": [],
   "source": [
    "import torch\n",
    "\n",
    "# Create two tensors\n",
    "tensor1 = torch.tensor([[1, 2], [3, 4]])\n",
    "tensor2 = torch.tensor([[5, 6], [7, 8]])\n",
    "\n",
    "# Perform matrix multiplication\n",
    "result = torch.matmul(tensor1, tensor2)\n",
    "\n",
    "# Display the result\n",
    "print(\"Matrix Multiplication:\")\n",
    "print(result)\n"
   ]
  },
  {
   "cell_type": "code",
   "execution_count": null,
   "id": "cef35f77",
   "metadata": {},
   "outputs": [],
   "source": [
    "import torch\n",
    "\n",
    "# Create a tensor\n",
    "tensor = torch.tensor([[1, 2], [3, 4]])\n",
    "\n",
    "# Perform scalar operations (addition and multiplication)\n",
    "result_add = tensor + 2  # Scalar addition\n",
    "result_multiply = tensor * 3  # Scalar multiplication\n",
    "\n",
    "# Display the results\n",
    "print(\"Scalar Addition:\")\n",
    "print(result_add)\n",
    "print(\"Scalar Multiplication:\")\n",
    "print(result_multiply)\n"
   ]
  },
  {
   "cell_type": "code",
   "execution_count": null,
   "id": "45dcbaf2",
   "metadata": {},
   "outputs": [],
   "source": [
    "import torch\n",
    "\n",
    "# Create a tensor\n",
    "tensor = torch.tensor([[1, 2], [3, 4]])\n",
    "\n",
    "# Calculate the sum and mean along a dimension\n",
    "sum_tensor = torch.sum(tensor)  # Sum of all elements\n",
    "mean_tensor = torch.mean(tensor, dim=0)  # Mean along dimension 0\n",
    "\n",
    "# Display the results\n",
    "print(\"Sum of All Elements:\")\n",
    "print(sum_tensor)\n",
    "print(\"Mean Along Dimension 0:\")\n",
    "print(mean_tensor)\n"
   ]
  },
  {
   "cell_type": "markdown",
   "id": "64850230",
   "metadata": {},
   "source": [
    "# Dot Products in PyTorch\n",
    "\n",
    "A dot product, also known as an inner product or scalar product, is a fundamental mathematical operation used in linear algebra and vector calculus. In PyTorch, you can calculate dot products efficiently using various functions depending on the data types and dimensions involved.\n",
    "\n",
    "## 1. Dot Product of Two 1D Tensors\n",
    "\n",
    "To calculate the dot product of two 1D tensors, you can use the `torch.dot()` function:\n",
    "\n",
    "```python\n",
    "import torch\n",
    "\n",
    "# Create two 1D tensors\n",
    "tensor1 = torch.tensor([1, 2, 3])\n",
    "tensor2 = torch.tensor([4, 5, 6])\n",
    "\n",
    "# Calculate the dot product\n",
    "dot_product = torch.dot(tensor1, tensor2)\n"
   ]
  },
  {
   "cell_type": "code",
   "execution_count": null,
   "id": "8de8e5cf",
   "metadata": {},
   "outputs": [],
   "source": [
    "import torch\n",
    "\n",
    "# Create two 1D tensors\n",
    "tensor1 = torch.tensor([1, 2, 3])\n",
    "tensor2 = torch.tensor([4, 5, 6])\n",
    "\n",
    "# Calculate the dot product\n",
    "dot_product = torch.dot(tensor1, tensor2)\n",
    "\n",
    "# Display the dot product\n",
    "print(\"Dot Product of Two 1D Tensors:\")\n",
    "print(dot_product)\n"
   ]
  },
  {
   "cell_type": "code",
   "execution_count": null,
   "id": "13b97440",
   "metadata": {},
   "outputs": [],
   "source": [
    "import torch\n",
    "\n",
    "# Create two 2D tensors (matrices)\n",
    "matrix1 = torch.tensor([[1, 2], [3, 4]])\n",
    "matrix2 = torch.tensor([[5, 6], [7, 8]])\n",
    "\n",
    "# Calculate the dot product (matrix inner product)\n",
    "dot_product = torch.mm(matrix1, matrix2)\n",
    "\n",
    "# Display the dot product (resulting matrix)\n",
    "print(\"Dot Product of Two 2D Tensors (Matrix Inner Product):\")\n",
    "print(dot_product)\n"
   ]
  },
  {
   "cell_type": "code",
   "execution_count": null,
   "id": "352273a9",
   "metadata": {},
   "outputs": [],
   "source": [
    "import torch\n",
    "\n",
    "# Create two sparse tensors\n",
    "sparse_tensor1 = torch.sparse_coo_tensor(indices=[[0, 1], [2, 0]], values=[1, 2], size=(3, 3))\n",
    "sparse_tensor2 = torch.sparse_coo_tensor(indices=[[0, 1], [2, 0]], values=[3, 4], size=(3, 3))\n",
    "\n",
    "# Calculate the dot product of sparse tensors\n",
    "dot_product = torch.sparse.mm(sparse_tensor1, sparse_tensor2)\n",
    "\n",
    "# Display the dot product\n",
    "print(\"Dot Product of Two Sparse Tensors:\")\n",
    "print(dot_product)\n"
   ]
  },
  {
   "cell_type": "code",
   "execution_count": null,
   "id": "e4867ea3",
   "metadata": {},
   "outputs": [],
   "source": [
    "import torch\n",
    "\n",
    "# Create a tensor and a scalar\n",
    "tensor = torch.tensor([1, 2, 3])\n",
    "scalar = 2\n",
    "\n",
    "# Calculate the dot product with broadcasting\n",
    "dot_product = torch.dot(tensor, scalar)\n",
    "\n",
    "# Display the dot product\n",
    "print(\"Dot Product of Tensor and Scalar with Broadcasting:\")\n",
    "print(dot_product)\n"
   ]
  },
  {
   "cell_type": "code",
   "execution_count": null,
   "id": "137dad64",
   "metadata": {},
   "outputs": [],
   "source": [
    "import torch\n",
    "\n",
    "# Create batched tensors\n",
    "batch_size = 3\n",
    "features = 4\n",
    "\n",
    "batch_tensor1 = torch.randn(batch_size, features)\n",
    "batch_tensor2 = torch.randn(batch_size, features)\n",
    "\n",
    "# Calculate batched dot products\n",
    "dot_products = torch.bmm(batch_tensor1.view(batch_size, 1, features), batch_tensor2.view(batch_size, features, 1))\n",
    "\n",
    "# Display the batched dot products\n",
    "print(\"Batched Dot Products:\")\n",
    "print(dot_products.squeeze())\n"
   ]
  },
  {
   "cell_type": "code",
   "execution_count": null,
   "id": "eb7ed2a3",
   "metadata": {},
   "outputs": [],
   "source": [
    "import torch\n",
    "\n",
    "# Create two 2D tensors (matrices)\n",
    "matrix1 = torch.tensor([[1, 2], [3, 4]])\n",
    "matrix2 = torch.tensor([[5, 6], [7, 8]])\n",
    "\n",
    "# Calculate the dot product (matrix inner product)\n",
    "dot_product = torch.mm(matrix1, matrix2)\n"
   ]
  },
  {
   "cell_type": "code",
   "execution_count": null,
   "id": "568bdb97",
   "metadata": {},
   "outputs": [],
   "source": [
    "import torch\n",
    "\n",
    "# Create two sparse tensors\n",
    "sparse_tensor1 = torch.sparse_coo_tensor(indices=[[0, 1], [2, 0]], values=[1, 2], size=(3, 3))\n",
    "sparse_tensor2 = torch.sparse_coo_tensor(indices=[[0, 1], [2, 0]], values=[3, 4], size=(3, 3))\n",
    "\n",
    "# Calculate the dot product of sparse tensors\n",
    "dot_product = torch.sparse.mm(sparse_tensor1, sparse_tensor2)\n"
   ]
  },
  {
   "cell_type": "code",
   "execution_count": null,
   "id": "326685d2",
   "metadata": {},
   "outputs": [],
   "source": [
    "import torch\n",
    "\n",
    "# Create a tensor and a scalar\n",
    "tensor = torch.tensor([1, 2, 3])\n",
    "scalar = 2\n",
    "\n",
    "# Calculate the dot product with broadcasting\n",
    "dot_product = torch.dot(tensor, scalar)\n"
   ]
  },
  {
   "cell_type": "code",
   "execution_count": null,
   "id": "b5454936",
   "metadata": {},
   "outputs": [],
   "source": [
    "import torch\n",
    "\n",
    "# Create batched tensors\n",
    "batch_size = 3\n",
    "features = 4\n",
    "\n",
    "batch_tensor1 = torch.randn(batch_size, features)\n",
    "batch_tensor2 = torch.randn(batch_size, features)\n",
    "\n",
    "# Calculate batched dot products\n",
    "dot_products = torch.bmm(batch_tensor1.view(batch_size, 1, features), batch_tensor2.view(batch_size, features, 1))\n"
   ]
  },
  {
   "cell_type": "markdown",
   "id": "b216bfa0",
   "metadata": {},
   "source": [
    "# Matrix Multiplication in PyTorch\n",
    "\n",
    "Matrix multiplication, also known as the matrix product or dot product of matrices, is a fundamental operation in linear algebra and plays a crucial role in various scientific and engineering applications. In PyTorch, you can perform matrix multiplication efficiently using the `torch.matmul()` function.\n",
    "\n",
    "## Matrix Multiplication with `torch.matmul()`\n",
    "\n",
    "To perform matrix multiplication in PyTorch, you can use the `torch.matmul()` function. It takes two input tensors, often referred to as matrices, and returns their matrix product. The resulting matrix's dimensions are determined by the dimensions of the input matrices. Specifically, if you have two matrices, `A` with dimensions (m x n) and `B` with dimensions (n x p), the resulting matrix `C` will have dimensions (m x p).\n",
    "\n",
    "Here's how you can perform matrix multiplication with `torch.matmul()`:\n",
    "\n",
    "```python\n",
    "import torch\n",
    "\n",
    "# Create two matrices\n",
    "matrix1 = torch.tensor([[1, 2], [3, 4]])  # Dimensions: 2x2\n",
    "matrix2 = torch.tensor([[5, 6], [7, 8]])  # Dimensions: 2x2\n",
    "\n",
    "# Perform matrix multiplication\n",
    "result_matrix = torch.matmul(matrix1, matrix2)\n"
   ]
  },
  {
   "cell_type": "code",
   "execution_count": null,
   "id": "160ff1ab",
   "metadata": {},
   "outputs": [],
   "source": [
    "import torch\n",
    "\n",
    "# Create two matrices\n",
    "matrix1 = torch.tensor([[1, 2], [3, 4]])  # Dimensions: 2x2\n",
    "matrix2 = torch.tensor([[5, 6], [7, 8]])  # Dimensions: 2x2\n",
    "\n",
    "# Perform matrix multiplication\n",
    "result1 = torch.matmul(matrix1, matrix2)\n"
   ]
  },
  {
   "cell_type": "code",
   "execution_count": null,
   "id": "22468b8f",
   "metadata": {},
   "outputs": [],
   "source": [
    "import torch\n",
    "\n",
    "# Create two matrices\n",
    "matrix1 = torch.tensor([[1, 2], [3, 4]])  # Dimensions: 2x2\n",
    "matrix2 = torch.tensor([[1, 2, 3], [4, 5, 6]])  # Dimensions: 2x3\n",
    "\n",
    "# Perform matrix multiplication\n",
    "result2 = torch.matmul(matrix1, matrix2)  # Result: 2x3\n"
   ]
  },
  {
   "cell_type": "code",
   "execution_count": null,
   "id": "8ea82939",
   "metadata": {},
   "outputs": [],
   "source": [
    "import torch\n",
    "\n",
    "# Create batched matrices\n",
    "batched_matrix1 = torch.randn(3, 2, 2)  # Batch size: 3, Each matrix: 2x2\n",
    "batched_matrix2 = torch.randn(3, 2, 2)\n",
    "\n",
    "# Perform batched matrix multiplication\n",
    "result3 = torch.matmul(batched_matrix1, batched_matrix2)  # Result: 3 sets of 2x2 matrices\n"
   ]
  },
  {
   "cell_type": "code",
   "execution_count": null,
   "id": "941d7310",
   "metadata": {},
   "outputs": [],
   "source": [
    "import torch\n",
    "\n",
    "# Create a matrix and a vector\n",
    "matrix = torch.tensor([[1, 2], [3, 4]])  # Dimensions: 2x2\n",
    "vector = torch.tensor([2, 3])  # Dimensions: 2\n",
    "\n",
    "# Perform matrix-vector multiplication\n",
    "result4 = torch.matmul(matrix, vector)  # Result: 2-element vector\n"
   ]
  },
  {
   "cell_type": "code",
   "execution_count": null,
   "id": "cd03dad6",
   "metadata": {},
   "outputs": [],
   "source": [
    "import torch\n",
    "\n",
    "# Create a matrix\n",
    "matrix = torch.tensor([[1, 2], [3, 4]])  # Dimensions: 2x2\n",
    "scalar = 2\n",
    "\n",
    "# Perform matrix-scalar multiplication\n",
    "result5 = torch.matmul(matrix, scalar)  # Result: Each element of the matrix multiplied by 2\n"
   ]
  },
  {
   "cell_type": "code",
   "execution_count": null,
   "id": "6d4525b3",
   "metadata": {},
   "outputs": [],
   "source": [
    "import torch\n",
    "\n",
    "# Create higher-dimensional matrices\n",
    "matrix1 = torch.randn(3, 4, 5)  # Dimensions: 3x4x5\n",
    "matrix2 = torch.randn(3, 5, 6)  # Dimensions: 3x5x6\n",
    "\n",
    "# Perform matrix multiplication\n",
    "result6 = torch.matmul(matrix1, matrix2)  # Result: 3x4x6\n"
   ]
  },
  {
   "cell_type": "code",
   "execution_count": null,
   "id": "e5945f6c",
   "metadata": {},
   "outputs": [],
   "source": [
    "import torch\n",
    "\n",
    "# Create a batched matrix and a vector\n",
    "batched_matrix = torch.randn(3, 2, 2)  # 3 sets of 2x2 matrices\n",
    "vector = torch.tensor([2, 3])  # Dimensions: 2\n",
    "\n",
    "# Perform matrix-vector multiplication with broadcasting\n",
    "result7 = torch.matmul(batched_matrix, vector)  # Result: 3 sets of 2-element vectors\n"
   ]
  },
  {
   "cell_type": "code",
   "execution_count": null,
   "id": "cb516c13",
   "metadata": {},
   "outputs": [],
   "source": [
    "import torch\n",
    "\n",
    "# Create two matrices\n",
    "matrix1 = torch.randn(2, 3)  # Dimensions: 2x3\n",
    "matrix2 = torch.randn(2, 3)  # Dimensions: 2x3\n",
    "\n",
    "# Perform matrix multiplication with transposition\n",
    "result8 = torch.matmul(matrix1.t(), matrix2)  # Result: 3x3\n"
   ]
  },
  {
   "cell_type": "code",
   "execution_count": null,
   "id": "5a7b62c4",
   "metadata": {},
   "outputs": [],
   "source": [
    "import torch\n",
    "\n",
    "# Create complex matrices\n",
    "complex_matrix1 = torch.randn(2, 2, 2, 2)  # 2 sets of 2x2 complex matrices\n",
    "complex_matrix2 = torch.randn(2, 2, 2, 2)\n",
    "\n",
    "# Perform complex matrix multiplication\n",
    "result9 = torch.matmul(complex_matrix1, complex_matrix2)  # Result: 2 sets of 2x2 complex matrices\n"
   ]
  },
  {
   "cell_type": "code",
   "execution_count": null,
   "id": "f6e95b74",
   "metadata": {},
   "outputs": [],
   "source": [
    "import torch\n",
    "\n",
    "# Create and multiply two sparse tensors\n",
    "sparse_matrix1 = torch.sparse_coo_tensor(indices=[[0, 1], [2, 0]], values=[1, 2], size=(3, 3))\n",
    "sparse_matrix2 = torch.sparse_coo_tensor(indices=[[0, 1], [2, 0]], values=[3, 4], size=(3, 3))\n",
    "result10 = torch.sparse.mm(sparse_matrix1, sparse_matrix2)\n"
   ]
  },
  {
   "cell_type": "markdown",
   "id": "9ab363df",
   "metadata": {},
   "source": [
    "# Advanced Operations in PyTorch\n",
    "\n",
    "PyTorch provides a rich set of advanced operations for deep learning and scientific computing. These operations go beyond the basics and are essential for building complex neural networks and solving advanced mathematical problems. Here are 15 examples of advanced operations in PyTorch:\n",
    "\n",
    "\n"
   ]
  },
  {
   "cell_type": "code",
   "execution_count": null,
   "id": "6fc07d41",
   "metadata": {},
   "outputs": [],
   "source": [
    "## 1. Element-wise Logarithm\n",
    "\n",
    "```python\n",
    "import torch\n",
    "\n",
    "# Compute the element-wise logarithm\n",
    "result1 = torch.log(torch.tensor([1.0, 2.0, 3.0]))"
   ]
  },
  {
   "cell_type": "code",
   "execution_count": null,
   "id": "f7192017",
   "metadata": {},
   "outputs": [],
   "source": [
    "import torch\n",
    "\n",
    "# Compute the element-wise exponential\n",
    "result2 = torch.exp(torch.tensor([1.0, 2.0, 3.0]))\n"
   ]
  },
  {
   "cell_type": "code",
   "execution_count": null,
   "id": "8de0b8f3",
   "metadata": {},
   "outputs": [],
   "source": [
    "import torch\n",
    "\n",
    "# Compute the element-wise sine\n",
    "result3 = torch.sin(torch.tensor([0.0, 30.0, 60.0, 90.0]))\n"
   ]
  },
  {
   "cell_type": "code",
   "execution_count": null,
   "id": "906f97f3",
   "metadata": {},
   "outputs": [],
   "source": [
    "import torch\n",
    "\n",
    "# Calculate the determinant of a matrix\n",
    "matrix = torch.tensor([[1.0, 2.0], [3.0, 4.0]])\n",
    "result4 = torch.det(matrix)\n"
   ]
  },
  {
   "cell_type": "code",
   "execution_count": null,
   "id": "e70c60b2",
   "metadata": {},
   "outputs": [],
   "source": [
    "import torch\n",
    "\n",
    "# Invert a matrix\n",
    "matrix = torch.tensor([[1.0, 2.0], [3.0, 4.0]])\n",
    "result5 = torch.inverse(matrix)\n"
   ]
  },
  {
   "cell_type": "code",
   "execution_count": null,
   "id": "8475e17b",
   "metadata": {},
   "outputs": [],
   "source": [
    "import torch\n",
    "\n",
    "# Perform Singular Value Decomposition (SVD)\n",
    "matrix = torch.randn(3, 3)\n",
    "U, S, V = torch.svd(matrix)\n"
   ]
  },
  {
   "cell_type": "code",
   "execution_count": null,
   "id": "29a53c4c",
   "metadata": {},
   "outputs": [],
   "source": [
    "import torch\n",
    "\n",
    "# Perform QR decomposition\n",
    "matrix = torch.randn(3, 3)\n",
    "Q, R = torch.qr(matrix)\n"
   ]
  },
  {
   "cell_type": "code",
   "execution_count": null,
   "id": "565e5b14",
   "metadata": {},
   "outputs": [],
   "source": [
    "import torch\n",
    "\n",
    "# Calculate eigenvalues and eigenvectors\n",
    "matrix = torch.tensor([[1.0, 2.0], [2.0, 1.0]])\n",
    "eigenvalues, eigenvectors = torch.eig(matrix, eigenvectors=True)\n"
   ]
  },
  {
   "cell_type": "code",
   "execution_count": null,
   "id": "27f6f929",
   "metadata": {},
   "outputs": [],
   "source": [
    "import torch\n",
    "\n",
    "# Perform Fast Fourier Transform (FFT)\n",
    "signal = torch.randn(4)\n",
    "spectrum = torch.fft.fft(signal)\n"
   ]
  },
  {
   "cell_type": "code",
   "execution_count": null,
   "id": "f479a07b",
   "metadata": {},
   "outputs": [],
   "source": [
    "import torch\n",
    "import torch.nn.functional as F\n",
    "\n",
    "# Perform a 1D convolution\n",
    "input_data = torch.randn(1, 1, 5)  # 1 channel, 5 elements\n",
    "kernel = torch.randn(1, 1, 3)  # 1 channel, 3 elements\n",
    "result10 = F.conv1d(input_data, kernel)\n"
   ]
  },
  {
   "cell_type": "code",
   "execution_count": null,
   "id": "850fc1fa",
   "metadata": {},
   "outputs": [],
   "source": [
    "import torch.nn as nn\n",
    "\n",
    "# Apply batch normalization to a tensor\n",
    "batch_norm_layer = nn.BatchNorm2d(3)  # 3 input channels\n",
    "input_data = torch.randn(2, 3, 4, 4)  # Batch size: 2\n",
    "result11 = batch_norm_layer(input_data)\n"
   ]
  },
  {
   "cell_type": "code",
   "execution_count": null,
   "id": "7bbbf8af",
   "metadata": {},
   "outputs": [],
   "source": [
    "import torch.nn.functional as F\n",
    "\n",
    "# Calculate the cross-entropy loss\n",
    "logits = torch.randn(2, 3)  # 2 samples, 3 classes\n",
    "labels = torch.tensor([0, 2])  # True class labels\n",
    "result12 = F.cross_entropy(logits, labels)\n"
   ]
  },
  {
   "cell_type": "code",
   "execution_count": null,
   "id": "735f340d",
   "metadata": {},
   "outputs": [],
   "source": [
    "import torch.nn as nn\n",
    "\n",
    "# Define an LSTM layer\n",
    "lstm_layer = nn.LSTM(input_size=3, hidden_size=2, num_layers=1)\n",
    "input_sequence = torch.randn(5, 1, 3)  # Sequence length: 5, Batch size: 1\n",
    "result13, _ = lstm_layer(input_sequence)\n"
   ]
  },
  {
   "cell_type": "code",
   "execution_count": null,
   "id": "65835db0",
   "metadata": {},
   "outputs": [],
   "source": [
    "import torch\n",
    "import torch.nn.functional as F\n",
    "\n",
    "# Compute scaled dot-product attention\n",
    "query = torch.randn(3, 2, 4)  # Batch size: 3, Sequence length: 2, Hidden size: 4\n",
    "key = torch.randn(3, 2, 4)\n",
    "value = torch.randn(3, 2, 4)\n",
    "result14 = F.multi_head_attention_forward(query, key, value)\n"
   ]
  },
  {
   "cell_type": "code",
   "execution_count": null,
   "id": "04b29f97",
   "metadata": {},
   "outputs": [],
   "source": [
    "import torch\n",
    "\n",
    "# Move a tensor to the GPU (if available)\n",
    "tensor = torch.randn(3, 3)\n",
    "if torch.cuda.is_available():\n",
    "    tensor = tensor.cuda()\n"
   ]
  }
 ],
 "metadata": {
  "kernelspec": {
   "display_name": "Python 3 (ipykernel)",
   "language": "python",
   "name": "python3"
  },
  "language_info": {
   "codemirror_mode": {
    "name": "ipython",
    "version": 3
   },
   "file_extension": ".py",
   "mimetype": "text/x-python",
   "name": "python",
   "nbconvert_exporter": "python",
   "pygments_lexer": "ipython3",
   "version": "3.10.9"
  }
 },
 "nbformat": 4,
 "nbformat_minor": 5
}
