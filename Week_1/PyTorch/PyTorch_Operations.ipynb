{
 "cells": [
  {
   "cell_type": "markdown",
   "id": "0732e856",
   "metadata": {},
   "source": [
    "# PyTorch Operations\n",
    "\n",
    "This notebook covers a wide range of operations available in PyTorch, including arithmetic, matrix operations, reduction, and other built-in functions. It provides detailed examples to help students become familiar with the syntax and functionality of PyTorch operations."
   ]
  },
  {
   "cell_type": "markdown",
   "id": "52947dce",
   "metadata": {},
   "source": [
    "## 1. Arithmetic Operations\n",
    "\n",
    "PyTorch supports various arithmetic operations on tensors, including element-wise addition, subtraction, multiplication, and division. These operations are similar to those in NumPy."
   ]
  },
  {
   "cell_type": "code",
   "execution_count": null,
   "id": "e2e93a77",
   "metadata": {},
   "outputs": [],
   "source": [
    "# Example: Element-wise operations\n",
    "a = torch.tensor([2, 3, 4], dtype=torch.float32)\n",
    "b = torch.tensor([1, 5, 2], dtype=torch.float32)\n",
    "\n",
    "# Element-wise addition\n",
    "print('Addition:', a + b)\n",
    "\n",
    "# Element-wise subtraction\n",
    "print('Subtraction:', a - b)\n",
    "\n",
    "# Element-wise multiplication\n",
    "print('Multiplication:', a * b)\n",
    "\n",
    "# Element-wise division\n",
    "print('Division:', a / b)"
   ]
  },
  {
   "cell_type": "markdown",
   "id": "97ec3f71",
   "metadata": {},
   "source": [
    "## 2. Matrix Operations\n",
    "\n",
    "Matrix operations are a crucial part of deep learning. PyTorch provides several functions to perform matrix multiplication, transposition, and inversion."
   ]
  },
  {
   "cell_type": "code",
   "execution_count": null,
   "id": "7da1fb59",
   "metadata": {},
   "outputs": [],
   "source": [
    "# Example: Matrix Operations\n",
    "A = torch.tensor([[1, 2], [3, 4]], dtype=torch.float32)\n",
    "B = torch.tensor([[5, 6], [7, 8]], dtype=torch.float32)\n",
    "\n",
    "# Matrix multiplication\n",
    "print('Matrix Multiplication:', torch.matmul(A, B))\n",
    "\n",
    "# Matrix transpose\n",
    "print('Matrix Transpose:', A.T)\n",
    "\n",
    "# Matrix inversion (for invertible matrix)\n",
    "print('Matrix Inverse:', torch.inverse(A))"
   ]
  },
  {
   "cell_type": "markdown",
   "id": "753d5ab9",
   "metadata": {},
   "source": [
    "## 3. Reduction Operations\n",
    "\n",
    "Reduction operations are used to reduce the dimensions of tensors, for example, by summing or averaging over a particular axis."
   ]
  },
  {
   "cell_type": "code",
   "execution_count": null,
   "id": "7ff644fe",
   "metadata": {},
   "outputs": [],
   "source": [
    "# Example: Reduction Operations\n",
    "x = torch.tensor([[1, 2, 3], [4, 5, 6]], dtype=torch.float32)\n",
    "\n",
    "# Sum over all elements\n",
    "print('Sum:', x.sum())\n",
    "\n",
    "# Mean over all elements\n",
    "print('Mean:', x.mean())\n",
    "\n",
    "# Maximum value\n",
    "print('Max:', x.max())"
   ]
  },
  {
   "cell_type": "markdown",
   "id": "134b91da",
   "metadata": {},
   "source": [
    "## 4. Broadcasting in PyTorch\n",
    "\n",
    "Broadcasting is a powerful mechanism that allows PyTorch to perform arithmetic operations on tensors of different shapes. Broadcasting follows a set of rules to match the shapes of the tensors involved in the operation."
   ]
  },
  {
   "cell_type": "code",
   "execution_count": null,
   "id": "ec6e4592",
   "metadata": {},
   "outputs": [],
   "source": [
    "# Example: Broadcasting\n",
    "x = torch.tensor([1, 2, 3], dtype=torch.float32)\n",
    "y = torch.tensor([[1], [2], [3]], dtype=torch.float32)\n",
    "\n",
    "# Broadcasting addition\n",
    "print('Broadcasting Addition:', x + y)"
   ]
  },
  {
   "cell_type": "markdown",
   "id": "1242e94c",
   "metadata": {},
   "source": [
    "## 5. Advanced Tensor Manipulations\n",
    "\n",
    "PyTorch provides several functions for advanced tensor manipulations, such as reshaping, concatenating, stacking, splitting, and more."
   ]
  },
  {
   "cell_type": "code",
   "execution_count": null,
   "id": "42ae1bcd",
   "metadata": {},
   "outputs": [],
   "source": [
    "# Example: Advanced Tensor Manipulations\n",
    "# Reshape tensor\n",
    "x = torch.arange(6)\n",
    "reshaped_x = x.reshape(2, 3)\n",
    "print('Reshaped Tensor:', reshaped_x)\n",
    "\n",
    "# Concatenate tensors\n",
    "a = torch.tensor([[1, 2], [3, 4]])\n",
    "b = torch.tensor([[5, 6]])\n",
    "concatenated = torch.cat((a, b), dim=0)\n",
    "print('Concatenated Tensor:', concatenated)\n",
    "\n",
    "# Stack tensors\n",
    "stacked = torch.stack((a, b), dim=0)\n",
    "print('Stacked Tensor:', stacked)"
   ]
  },
  {
   "cell_type": "markdown",
   "id": "112a1b8b",
   "metadata": {},
   "source": [
    "## 6. Mathematical Functions in PyTorch\n",
    "\n",
    "PyTorch includes various mathematical functions, such as trigonometric functions, exponential functions, and logarithms."
   ]
  },
  {
   "cell_type": "code",
   "execution_count": null,
   "id": "77d44fab",
   "metadata": {},
   "outputs": [],
   "source": [
    "# Example: Mathematical Functions\n",
    "# Sine function\n",
    "angles = torch.tensor([0, 30, 45, 60, 90], dtype=torch.float32) * (torch.pi / 180)\n",
    "sine_values = torch.sin(angles)\n",
    "print('Sine Values:', sine_values)\n",
    "\n",
    "# Exponential function\n",
    "exponential_values = torch.exp(torch.tensor([1.0, 2.0, 3.0]))\n",
    "print('Exponential Values:', exponential_values)"
   ]
  },
  {
   "cell_type": "markdown",
   "id": "c376d3a3",
   "metadata": {},
   "source": [
    "## 7. Cloning and Copying Tensors\n",
    "\n",
    "When working with tensors, it's important to know how to clone or copy them to avoid unintended side effects when modifying them."
   ]
  },
  {
   "cell_type": "code",
   "execution_count": null,
   "id": "97be0382",
   "metadata": {},
   "outputs": [],
   "source": [
    "# Example: Cloning and Copying Tensors\n",
    "a = torch.tensor([1, 2, 3])\n",
    "b = a.clone()\n",
    "a[0] = 100\n",
    "print('Original Tensor:', a)\n",
    "print('Cloned Tensor:', b)"
   ]
  },
  {
   "cell_type": "markdown",
   "id": "edbb9e75",
   "metadata": {},
   "source": [
    "## 8. Random Number Generation\n",
    "\n",
    "PyTorch includes functions for generating random numbers, which is often useful for initializing weights or creating synthetic datasets."
   ]
  },
  {
   "cell_type": "code",
   "execution_count": null,
   "id": "555f01da",
   "metadata": {},
   "outputs": [],
   "source": [
    "# Example: Random Number Generation\n",
    "# Generate random tensor\n",
    "random_tensor = torch.randn(3, 3)\n",
    "print('Random Tensor:', random_tensor)\n",
    "\n",
    "# Set seed for reproducibility\n",
    "torch.manual_seed(0)\n",
    "fixed_random_tensor = torch.randn(3, 3)\n",
    "print('Fixed Random Tensor:', fixed_random_tensor)"
   ]
  },
  {
   "cell_type": "markdown",
   "id": "00ed7727",
   "metadata": {},
   "source": [
    "## Exercises\n",
    "\n",
    "1. Perform element-wise operations on two tensors and display the result.\n",
    "2. Create matrices and perform matrix multiplication and transposition.\n",
    "3. Use reduction operations to find the sum, mean, and maximum of a tensor.\n",
    "4. Apply broadcasting to perform operations on tensors of different shapes.\n",
    "5. Experiment with advanced tensor manipulations such as reshaping, stacking, and concatenating.\n",
    "6. Use PyTorch's mathematical functions to calculate trigonometric values and exponentials.\n",
    "7. Practice cloning and copying tensors to understand how to work with them safely.\n",
    "8. Generate random numbers using PyTorch and explore how to control random seeds for reproducibility."
   ]
  }
 ],
 "metadata": {},
 "nbformat": 4,
 "nbformat_minor": 5
}
