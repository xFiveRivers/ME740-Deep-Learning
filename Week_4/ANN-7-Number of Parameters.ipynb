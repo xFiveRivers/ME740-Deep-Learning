{
 "cells": [
  {
   "cell_type": "code",
   "execution_count": 1,
   "id": "a0507822",
   "metadata": {},
   "outputs": [],
   "source": [
    "# Import the necessary libraries for the task.\n",
    "import numpy as np  # Import NumPy for numerical operations.\n",
    "import torch  # Import PyTorch library for deep learning.\n",
    "import torch.nn as nn  # Import neural network module from PyTorch.\n"
   ]
  },
  {
   "cell_type": "code",
   "execution_count": 2,
   "id": "57c4fc9a",
   "metadata": {},
   "outputs": [
    {
     "name": "stdout",
     "output_type": "stream",
     "text": [
      "Sequential(\n",
      "  (0): Linear(in_features=2, out_features=4, bias=True)\n",
      "  (1): Linear(in_features=4, out_features=3, bias=True)\n",
      ")\n",
      " \n",
      "Sequential(\n",
      "  (0): Linear(in_features=2, out_features=2, bias=True)\n",
      "  (1): Linear(in_features=2, out_features=2, bias=True)\n",
      "  (2): Linear(in_features=2, out_features=3, bias=True)\n",
      ")\n"
     ]
    }
   ],
   "source": [
    "# Define two neural network models: 'custom_widenet' and 'custom_deepnet'.\n",
    "custom_widenet = nn.Sequential(\n",
    "    nn.Linear(2, 4),  # Hidden layer with 2 input features and 4 output units.\n",
    "    nn.Linear(4, 3),  # Output layer with 4 input units and 3 output units.\n",
    ")\n",
    "\n",
    "custom_deepnet = nn.Sequential(\n",
    "    nn.Linear(2, 2),  # First hidden layer with 2 input features and 2 output units.\n",
    "    nn.Linear(2, 2),  # Second hidden layer with 2 input units and 2 output units.\n",
    "    nn.Linear(2, 3),  # Output layer with 2 input units and 3 output units.\n",
    ")\n",
    "\n",
    "# Print the model architectures for inspection.\n",
    "print(custom_widenet)\n",
    "print(' ')\n",
    "print(custom_deepnet)\n"
   ]
  },
  {
   "cell_type": "code",
   "execution_count": 5,
   "id": "f25b1c75",
   "metadata": {},
   "outputs": [
    {
     "data": {
      "text/plain": [
       "<bound method Module.parameters of Sequential(\n",
       "  (0): Linear(in_features=2, out_features=4, bias=True)\n",
       "  (1): Linear(in_features=4, out_features=3, bias=True)\n",
       ")>"
      ]
     },
     "execution_count": 5,
     "metadata": {},
     "output_type": "execute_result"
    }
   ],
   "source": [
    "# Explore the attributes of 'custom_widenet' using dot notation.\n",
    "custom_widenet.parameters\n"
   ]
  },
  {
   "cell_type": "code",
   "execution_count": 6,
   "id": "813dfebc",
   "metadata": {},
   "outputs": [
    {
     "name": "stdout",
     "output_type": "stream",
     "text": [
      "('0.weight', Parameter containing:\n",
      "tensor([[-0.5748,  0.4295],\n",
      "        [ 0.6103,  0.2118]], requires_grad=True))\n",
      " \n",
      "('0.bias', Parameter containing:\n",
      "tensor([0.4601, 0.4546], requires_grad=True))\n",
      " \n",
      "('1.weight', Parameter containing:\n",
      "tensor([[-0.3398, -0.1026],\n",
      "        [ 0.6497,  0.6662]], requires_grad=True))\n",
      " \n",
      "('1.bias', Parameter containing:\n",
      "tensor([0.0060, 0.2367], requires_grad=True))\n",
      " \n",
      "('2.weight', Parameter containing:\n",
      "tensor([[-0.2813,  0.0407],\n",
      "        [-0.5980,  0.5548],\n",
      "        [ 0.1765, -0.2279]], requires_grad=True))\n",
      " \n",
      "('2.bias', Parameter containing:\n",
      "tensor([-0.5412,  0.4313,  0.0912], requires_grad=True))\n",
      " \n"
     ]
    }
   ],
   "source": [
    "# Display the parameters and their names in 'custom_deepnet'.\n",
    "for p in custom_deepnet.named_parameters():\n",
    "    print(p)\n",
    "    print(' ')\n"
   ]
  },
  {
   "cell_type": "code",
   "execution_count": 7,
   "id": "989f7a48",
   "metadata": {},
   "outputs": [
    {
     "name": "stdout",
     "output_type": "stream",
     "text": [
      "There are 7 nodes in the wide network.\n",
      "There are 7 nodes in the deep network.\n"
     ]
    }
   ],
   "source": [
    "# Count the number of bias nodes in both 'custom_widenet' and 'custom_deepnet'.\n",
    "numNodesInWide = 0\n",
    "for p in custom_widenet.named_parameters():\n",
    "    if 'bias' in p[0]:\n",
    "        numNodesInWide += len(p[1])\n",
    "\n",
    "numNodesInDeep = 0\n",
    "for paramName, paramVect in custom_deepnet.named_parameters():\n",
    "    if 'bias' in paramName:\n",
    "        numNodesInDeep += len(paramVect)\n",
    "\n",
    "print('There are %s nodes in the wide network.' % numNodesInWide)\n",
    "print('There are %s nodes in the deep network.' % numNodesInDeep)\n"
   ]
  },
  {
   "cell_type": "code",
   "execution_count": 6,
   "id": "2fc756fa",
   "metadata": {},
   "outputs": [
    {
     "name": "stdout",
     "output_type": "stream",
     "text": [
      "Parameter containing:\n",
      "tensor([[ 0.1153,  0.2552],\n",
      "        [-0.4763, -0.3817],\n",
      "        [ 0.0397,  0.3875],\n",
      "        [-0.4508,  0.5940]], requires_grad=True)\n",
      " \n",
      "Parameter containing:\n",
      "tensor([-0.2770,  0.2577, -0.0303, -0.5783], requires_grad=True)\n",
      " \n",
      "Parameter containing:\n",
      "tensor([[ 0.4215,  0.1189, -0.0617,  0.4416],\n",
      "        [-0.2441,  0.4047,  0.1732, -0.3367],\n",
      "        [-0.2702, -0.1068,  0.2345, -0.3709]], requires_grad=True)\n",
      " \n",
      "Parameter containing:\n",
      "tensor([-0.3230, -0.4662, -0.0693], requires_grad=True)\n",
      " \n"
     ]
    }
   ],
   "source": [
    "# Display the parameters (weights and biases) in 'custom_widenet'.\n",
    "for p in custom_widenet.parameters():\n",
    "    print(p)\n",
    "    print(' ')\n"
   ]
  },
  {
   "cell_type": "code",
   "execution_count": 8,
   "id": "36f077d1",
   "metadata": {},
   "outputs": [
    {
     "name": "stdout",
     "output_type": "stream",
     "text": [
      "This piece has 8 parameters\n",
      "This piece has 4 parameters\n",
      "This piece has 12 parameters\n",
      "This piece has 3 parameters\n",
      "\n",
      "\n",
      "Total of 27 parameters\n"
     ]
    }
   ],
   "source": [
    "# Count the total number of trainable parameters in 'custom_widenet'.\n",
    "nparams = 0\n",
    "for p in custom_widenet.parameters():\n",
    "    if p.requires_grad:\n",
    "        print('This piece has %s parameters' % p.numel())\n",
    "        nparams += p.numel()\n",
    "\n",
    "print('\\n\\nTotal of %s parameters' % nparams)\n"
   ]
  },
  {
   "cell_type": "code",
   "execution_count": 8,
   "id": "2ffc78fd",
   "metadata": {
    "scrolled": true
   },
   "outputs": [
    {
     "name": "stdout",
     "output_type": "stream",
     "text": [
      "Widenet has 27 parameters\n",
      "Deepnet has 21 parameters\n"
     ]
    }
   ],
   "source": [
    "# Calculate the total number of trainable parameters in 'custom_widenet' using list comprehension.\n",
    "nparams = np.sum([p.numel() for p in custom_widenet.parameters() if p.requires_grad])\n",
    "print('Widenet has %s parameters' % nparams)\n",
    "\n",
    "# Calculate the total number of trainable parameters in 'custom_deepnet' using list comprehension.\n",
    "nparams = np.sum([p.numel() for p in custom_deepnet.parameters() if p.requires_grad])\n",
    "print('Deepnet has %s parameters' % nparams)\n"
   ]
  },
  {
   "cell_type": "code",
   "execution_count": 10,
   "id": "5d9aaf58",
   "metadata": {},
   "outputs": [
    {
     "name": "stdout",
     "output_type": "stream",
     "text": [
      "Collecting torchsummary\n",
      "  Downloading torchsummary-1.5.1-py3-none-any.whl (2.8 kB)\n",
      "Installing collected packages: torchsummary\n",
      "Successfully installed torchsummary-1.5.1\n"
     ]
    }
   ],
   "source": [
    "!pip install torchsummary\n"
   ]
  },
  {
   "cell_type": "code",
   "execution_count": 11,
   "id": "daaf5a93",
   "metadata": {},
   "outputs": [
    {
     "name": "stdout",
     "output_type": "stream",
     "text": [
      "----------------------------------------------------------------\n",
      "        Layer (type)               Output Shape         Param #\n",
      "================================================================\n",
      "            Linear-1                 [-1, 1, 4]              12\n",
      "            Linear-2                 [-1, 1, 3]              15\n",
      "================================================================\n",
      "Total params: 27\n",
      "Trainable params: 27\n",
      "Non-trainable params: 0\n",
      "----------------------------------------------------------------\n",
      "Input size (MB): 0.00\n",
      "Forward/backward pass size (MB): 0.00\n",
      "Params size (MB): 0.00\n",
      "Estimated Total Size (MB): 0.00\n",
      "----------------------------------------------------------------\n"
     ]
    }
   ],
   "source": [
    "# Import 'torchsummary' and summarize the 'custom_widenet' model with input shape (1, 2).\n",
    "from torchsummary import summary\n",
    "summary(custom_widenet, (1, 2))\n"
   ]
  },
  {
   "cell_type": "code",
   "execution_count": null,
   "id": "e45059fe",
   "metadata": {},
   "outputs": [],
   "source": []
  }
 ],
 "metadata": {
  "kernelspec": {
   "display_name": "Python 3 (ipykernel)",
   "language": "python",
   "name": "python3"
  },
  "language_info": {
   "codemirror_mode": {
    "name": "ipython",
    "version": 3
   },
   "file_extension": ".py",
   "mimetype": "text/x-python",
   "name": "python",
   "nbconvert_exporter": "python",
   "pygments_lexer": "ipython3",
   "version": "3.10.9"
  }
 },
 "nbformat": 4,
 "nbformat_minor": 5
}
